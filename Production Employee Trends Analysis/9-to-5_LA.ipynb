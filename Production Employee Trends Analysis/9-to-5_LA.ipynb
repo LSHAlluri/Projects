{
    "metadata": {
        "kernelspec": {
            "name": "SQL",
            "display_name": "SQL",
            "language": "sql"
        },
        "language_info": {
            "name": "sql",
            "version": ""
        }
    },
    "nbformat_minor": 2,
    "nbformat": 4,
    "cells": [
        {
            "cell_type": "markdown",
            "source": [
                "# Graded Assignment 3: 9 to 5\n",
                "\n",
                "Time to show off your SQL skills! For each question, copy the SQL query you used and make note of the answer.\n",
                "\n",
                "## The Dataset\n",
                "\n",
                "For this assignment, you will be using the Bureau of Labor Statistics (BLS) Current Employment Survey (CES) results which can be found on [Kaggle](https://www.kaggle.com/datasets/bls/employment).\n",
                "\n",
                "## Business Issue\n",
                "\n",
                "You are working for the Bureau of Labor Statistics with the United States government and have been approached by your boss with an important meeting request. You have been asked by your supervisor to meet with Dolly Parton whose nonprofit is looking to shed light on the state of employment in the United States. As part of the 9 to 5 project, their research is focused on production and nonsupervisory employees and how those employees fare compared to all employees in the United States. While the data the BLS collects from the CES is publicly available, Dolly Parton and her colleagues need your assistance navigating the thousands of rows in each table in LaborStatisticsDB.\n",
                "\n",
                "## About the Dataset\n",
                "\n",
                "This dataset comes directly from the Bureau of Labor Statistics’ Current Employment Survey (CES). Here are some things you need to know:\n",
                "\n",
                "1. The industry table contains an NAICS code. This is different from the industry code. NAICS stands for North American Industry Classification System.\n",
                "1. Series ID is composed of multiple different codes. CES stands for Current Employment Survey, the name of the survey which collected the data. The industry code as specified by the BLS and the data type code as specified in the datatype table.\n",
                "\n",
                "## Set Up\n",
                "\n",
                "To connect to the database, use the same connection info used during the SQL lessons. \n",
                "\n",
                "For the assignment, we will be using `LaborStatisticsDB`."
            ],
            "metadata": {
                "azdata_cell_guid": "7ad962b3-fce2-439c-9ac4-460e1a79b0e8"
            }
        },
        {
            "cell_type": "markdown",
            "source": [
                "## Database Exploration\n",
                "\n",
                "To start with, let’s get to know the database further.\n",
                "\n",
                "1. Use this space to make note of each table in the database, the columns within each table, each column’s data type, and how the tables are connected. You can write this down or draw a diagram. Whatever method helps you get an understanding of what is going on with `LaborStatisticsDB`.\n",
                "    \n",
                "    To add a photo, diagram or document to your file, drop the file into the folder that holds this notebook. Use the link button to the right of the \\</\\> symbol in the gray part of this cell, the link is just the name of your file."
            ],
            "metadata": {
                "azdata_cell_guid": "dcbb5ae7-a9c8-4d48-8986-8a0f778cc6c6"
            },
            "attachments": {}
        },
        {
            "cell_type": "markdown",
            "source": [
                "[Table\\_Relations](../../../../../../Table_Relations.png)  \n",
                "\n",
                "[Tables,Columns,References-1](../../../../../../Tables,Columns,References-1.jpeg)  \n",
                "\n",
                "[Tables,Columns,References-2](../../../../../../Tables,Columns,References-2.jpeg)  \n",
                "\n",
                "[Tables,Columns,References-3](../../../../../../Tables,Columns,References-3.jpeg)"
            ],
            "metadata": {
                "azdata_cell_guid": "4aec6246-99e6-41e5-9441-2bbd5b30bfda"
            },
            "attachments": {}
        },
        {
            "cell_type": "markdown",
            "source": [
                "2. What is the datatype for women employees?"
            ],
            "metadata": {
                "azdata_cell_guid": "87e95d63-f756-4afc-98d9-ed1dcfb95466"
            }
        },
        {
            "cell_type": "code",
            "source": [
                "-- finding data \n",
                "select top 100 * \n",
                "from datatype\n",
                "where data_type_text='women employees';"
            ],
            "metadata": {
                "vscode": {
                    "languageId": "sql"
                },
                "azdata_cell_guid": "e695b98b-25ed-4bec-8407-6f060e711df1",
                "language": "sql"
            },
            "outputs": [
                {
                    "output_type": "display_data",
                    "data": {
                        "text/html": "(1 row affected)"
                    },
                    "metadata": {}
                },
                {
                    "output_type": "display_data",
                    "data": {
                        "text/html": "Total execution time: 00:00:00.058"
                    },
                    "metadata": {}
                },
                {
                    "output_type": "execute_result",
                    "execution_count": 5,
                    "data": {
                        "application/vnd.dataresource+json": {
                            "schema": {
                                "fields": [
                                    {
                                        "name": "data_type_code"
                                    },
                                    {
                                        "name": "data_type_text"
                                    }
                                ]
                            },
                            "data": [
                                {
                                    "data_type_code": "10",
                                    "data_type_text": "WOMEN EMPLOYEES"
                                }
                            ]
                        },
                        "text/html": "<table><tr><th>data_type_code</th><th>data_type_text</th></tr><tr><td>10</td><td>WOMEN EMPLOYEES</td></tr></table>"
                    },
                    "metadata": {}
                }
            ],
            "execution_count": 5
        },
        {
            "cell_type": "markdown",
            "source": [
                "3. What is the series id for  women employees in the commercial banking industry in the financial activities supersector?"
            ],
            "metadata": {
                "azdata_cell_guid": "5e72355c-a069-483d-8e57-33c8244e54d3"
            }
        },
        {
            "cell_type": "code",
            "source": [
                "use LaborStatisticsDB;\n",
                "\n",
                "select series_id\n",
                "from series\n",
                "where supersector_code = \n",
                "    (   -- filtering by financial activities supersector\n",
                "        select supersector_code \n",
                "        from supersector\n",
                "        where supersector_name = 'financial activities'\n",
                "    )\n",
                "    AND\n",
                "    data_type_code = \n",
                "    (   \n",
                "        -- filtering by women employees data_type_code\n",
                "        select data_type_code\n",
                "        from datatype\n",
                "        where data_type_text = 'women employees'\n",
                "    )\n",
                "    AND\n",
                "    industry_code = \n",
                "    (   -- filtering by commercial banking industry\n",
                "        SELECT industry_code\n",
                "        from industry\n",
                "        where industry_name = 'commercial banking'\n",
                "    );"
            ],
            "metadata": {
                "vscode": {
                    "languageId": "sql"
                },
                "azdata_cell_guid": "3ecf48c5-07bb-4063-aef5-96b4212f5150",
                "language": "sql"
            },
            "outputs": [
                {
                    "output_type": "display_data",
                    "data": {
                        "text/html": "(2 rows affected)"
                    },
                    "metadata": {}
                },
                {
                    "output_type": "display_data",
                    "data": {
                        "text/html": "Total execution time: 00:00:00.044"
                    },
                    "metadata": {}
                },
                {
                    "output_type": "execute_result",
                    "execution_count": 1,
                    "data": {
                        "application/vnd.dataresource+json": {
                            "schema": {
                                "fields": [
                                    {
                                        "name": "series_id"
                                    }
                                ]
                            },
                            "data": [
                                {
                                    "series_id": "CES5552211010"
                                },
                                {
                                    "series_id": "CEU5552211010"
                                }
                            ]
                        },
                        "text/html": "<table><tr><th>series_id</th></tr><tr><td>CES5552211010</td></tr><tr><td>CEU5552211010</td></tr></table>"
                    },
                    "metadata": {}
                }
            ],
            "execution_count": 1
        },
        {
            "cell_type": "markdown",
            "source": [
                "## Aggregate Your Friends and Code some SQL\n",
                "\n",
                "Put together the following:\n",
                "\n",
                "1. How many employees were reported in 2016 in all industries? Round to the nearest whole number."
            ],
            "metadata": {
                "azdata_cell_guid": "44ff5801-e75c-405f-bba2-e4f864356f0a"
            }
        },
        {
            "cell_type": "code",
            "source": [
                "use LaborStatisticsDB;\n",
                "-- sum the values in the 'value' column of annual_2016 table\n",
                "-- to count all employees from all industries\n",
                "select  round(sum([value]),0) as NumOfEmployees\n",
                "from annual_2016\n",
                "where RIGHT(series_id,2) in\n",
                "    -- sub query to find the data_type_codes for 'all employees'\n",
                "    -- there are three data_type_codes for 'all employees': 01, 25, 26\n",
                "    (select data_type_code\n",
                "    from datatype\n",
                "    where data_type_text = 'all employees') ;\n",
                "\n",
                "    -- There are 2,340,612 employees in 2016 in all industries"
            ],
            "metadata": {
                "vscode": {
                    "languageId": "sql"
                },
                "azdata_cell_guid": "2f2aa59f-b6c5-470f-9f72-8bc0ec5178ab",
                "language": "sql"
            },
            "outputs": [
                {
                    "output_type": "display_data",
                    "data": {
                        "text/html": "(1 row affected)"
                    },
                    "metadata": {}
                },
                {
                    "output_type": "display_data",
                    "data": {
                        "text/html": "Total execution time: 00:00:00.281"
                    },
                    "metadata": {}
                },
                {
                    "output_type": "execute_result",
                    "execution_count": 18,
                    "data": {
                        "application/vnd.dataresource+json": {
                            "schema": {
                                "fields": [
                                    {
                                        "name": "NumOfEmployees"
                                    }
                                ]
                            },
                            "data": [
                                {
                                    "NumOfEmployees": "2340612"
                                }
                            ]
                        },
                        "text/html": "<table><tr><th>NumOfEmployees</th></tr><tr><td>2340612</td></tr></table>"
                    },
                    "metadata": {}
                }
            ],
            "execution_count": 18
        },
        {
            "cell_type": "markdown",
            "source": [
                "2. How many women employees were reported in 2016 in all industries? Round to the nearest whole number. "
            ],
            "metadata": {
                "azdata_cell_guid": "29d32b99-da7f-4c98-b757-ff3704d136e8"
            }
        },
        {
            "cell_type": "code",
            "source": [
                "use LaborStatisticsDB;\n",
                "-- sum the values in the 'value' column of annual_2016 table\n",
                "-- to count all women employees from all industries\n",
                "select  round(sum([value]),0) as WomenEmployees\n",
                "from annual_2016\n",
                "where RIGHT(series_id,2) =\n",
                "    -- sub query to find the data_type_code for 'women employees'\n",
                "    (select data_type_code\n",
                "    from datatype\n",
                "    where data_type_text = 'women employees') ;\n",
                "\n",
                "-- There are 1,125,490 women employees in 2016 in all industries"
            ],
            "metadata": {
                "vscode": {
                    "languageId": "sql"
                },
                "azdata_cell_guid": "6e478ad7-1a7e-460c-8000-1e6c10373731",
                "language": "sql"
            },
            "outputs": [
                {
                    "output_type": "display_data",
                    "data": {
                        "text/html": "(1 row affected)"
                    },
                    "metadata": {}
                },
                {
                    "output_type": "display_data",
                    "data": {
                        "text/html": "Total execution time: 00:00:00.050"
                    },
                    "metadata": {}
                },
                {
                    "output_type": "execute_result",
                    "execution_count": 19,
                    "data": {
                        "application/vnd.dataresource+json": {
                            "schema": {
                                "fields": [
                                    {
                                        "name": "WomenEmployees"
                                    }
                                ]
                            },
                            "data": [
                                {
                                    "WomenEmployees": "1125490"
                                }
                            ]
                        },
                        "text/html": "<table><tr><th>WomenEmployees</th></tr><tr><td>1125490</td></tr></table>"
                    },
                    "metadata": {}
                }
            ],
            "execution_count": 19
        },
        {
            "cell_type": "markdown",
            "source": [
                "3. How many production/nonsupervisory employees were reported in 2016? Round to the nearest whole number. "
            ],
            "metadata": {
                "azdata_cell_guid": "6b173ff0-3ec9-45b1-b9c1-08351f9ae595"
            }
        },
        {
            "cell_type": "code",
            "source": [
                "use LaborStatisticsDB;\n",
                "-- sum the values in the 'value' column of annual_2016 table\n",
                "-- to count all PRODUCTION AND NONSUPERVISORY EMPLOYEES from all industries\n",
                "select  round(sum([value]),0) as 'PRODUCTION/NONSUPERVISORY EMPLOYEES'\n",
                "from annual_2016\n",
                "where RIGHT(series_id,2) =\n",
                "    -- sub query to find the data_type_code for 'PRODUCTION AND NONSUPERVISORY EMPLOYEES'\n",
                "    (select data_type_code\n",
                "    from datatype\n",
                "    where data_type_text = 'PRODUCTION AND NONSUPERVISORY EMPLOYEES') ;\n",
                "\n",
                "-- There are 1,263,650 PRODUCTION AND NONSUPERVISORY EMPLOYEES in 2016 in all industries\n",
                ""
            ],
            "metadata": {
                "vscode": {
                    "languageId": "sql"
                },
                "azdata_cell_guid": "8532a572-5cd6-4d06-b770-c3f1c7c4e8b2",
                "language": "sql",
                "tags": []
            },
            "outputs": [
                {
                    "output_type": "display_data",
                    "data": {
                        "text/html": "(1 row affected)"
                    },
                    "metadata": {}
                },
                {
                    "output_type": "display_data",
                    "data": {
                        "text/html": "Total execution time: 00:00:00.039"
                    },
                    "metadata": {}
                },
                {
                    "output_type": "execute_result",
                    "execution_count": 3,
                    "data": {
                        "application/vnd.dataresource+json": {
                            "schema": {
                                "fields": [
                                    {
                                        "name": "PRODUCTION/NONSUPERVISORY EMPLOYEES"
                                    }
                                ]
                            },
                            "data": [
                                {
                                    "PRODUCTION/NONSUPERVISORY EMPLOYEES": "1263650"
                                }
                            ]
                        },
                        "text/html": "<table><tr><th>PRODUCTION/NONSUPERVISORY EMPLOYEES</th></tr><tr><td>1263650</td></tr></table>"
                    },
                    "metadata": {}
                }
            ],
            "execution_count": 3
        },
        {
            "cell_type": "markdown",
            "source": [
                "4. In January 2017, what is the average weekly hours worked by production and nonsupervisory employees across all industries?"
            ],
            "metadata": {
                "azdata_cell_guid": "f0e5cd3c-1e07-4718-858f-026045a0a438"
            }
        },
        {
            "cell_type": "code",
            "source": [
                "use laborStatisticsDB;\n",
                "-- avg the values column of the January_2017 table \n",
                "select round(avg([value]),2) as AvgWeeklyHr_Nonsup_Prod_Emp\n",
                "from january_2017\n",
                "where right(series_id,2) = \n",
                "    (   -- sub query to find the data_type_code for average weekly hours worked by \n",
                "        --production and nonsupervisory employees across all industries?\n",
                "        SELECT data_type_code\n",
                "        from datatype\n",
                "        where data_type_text = 'AVERAGE WEEKLY HOURS OF PRODUCTION AND NONSUPERVISORY EMPLOYEES'\n",
                "    );\n",
                ""
            ],
            "metadata": {
                "vscode": {
                    "languageId": "sql"
                },
                "azdata_cell_guid": "ed56d1e6-8622-4b43-923f-6892977b3409",
                "language": "sql"
            },
            "outputs": [
                {
                    "output_type": "display_data",
                    "data": {
                        "text/html": "(1 row affected)"
                    },
                    "metadata": {}
                },
                {
                    "output_type": "display_data",
                    "data": {
                        "text/html": "Total execution time: 00:00:00.054"
                    },
                    "metadata": {}
                },
                {
                    "output_type": "execute_result",
                    "execution_count": 20,
                    "data": {
                        "application/vnd.dataresource+json": {
                            "schema": {
                                "fields": [
                                    {
                                        "name": "AvgWeeklyHr_Nonsup_Prod_Emp"
                                    }
                                ]
                            },
                            "data": [
                                {
                                    "AvgWeeklyHr_Nonsup_Prod_Emp": "36.06"
                                }
                            ]
                        },
                        "text/html": "<table><tr><th>AvgWeeklyHr_Nonsup_Prod_Emp</th></tr><tr><td>36.06</td></tr></table>"
                    },
                    "metadata": {}
                }
            ],
            "execution_count": 20
        },
        {
            "cell_type": "markdown",
            "source": [
                "5. What is the total weekly payroll for production and nonsupervisory employees across all industries in January 2017? Round to the nearest penny."
            ],
            "metadata": {
                "azdata_cell_guid": "8b6d0663-d4c3-4420-99ed-1c99f1d1942c"
            }
        },
        {
            "cell_type": "code",
            "source": [
                "use LaborStatisticsDB;\n",
                "-- Rounding the total value of weekly payroll for all production and nonsupervisory employees\n",
                "select round(sum ([value]),2) as Total_Weekly_Payroll_ProdAndNonsuperEmp\n",
                "from january_2017\n",
                "where right(series_id,2) = \n",
                "    (   -- sub query to find the data_type_code for \n",
                "        -- AGGREGATE WEEKLY PAYROLLS OF PRODUCTION AND NONSUPERVISORY EMPLOYEES \n",
                "        -- across all industries\n",
                "        SELECT data_type_code\n",
                "        from datatype\n",
                "        where data_type_text = 'AGGREGATE WEEKLY PAYROLLS OF PRODUCTION AND NONSUPERVISORY EMPLOYEES'\n",
                "    );\n",
                "\n",
                "-- $1,838,753,220 is the total weekly payroll for production and nonsupervisory \n",
                "-- employees across all industries in January 2017."
            ],
            "metadata": {
                "vscode": {
                    "languageId": "sql"
                },
                "azdata_cell_guid": "aba326a4-ea96-472e-9b4d-fff929aedc13",
                "language": "sql"
            },
            "outputs": [
                {
                    "output_type": "display_data",
                    "data": {
                        "text/html": "(1 row affected)"
                    },
                    "metadata": {}
                },
                {
                    "output_type": "display_data",
                    "data": {
                        "text/html": "Total execution time: 00:00:00.272"
                    },
                    "metadata": {}
                },
                {
                    "output_type": "execute_result",
                    "execution_count": 4,
                    "data": {
                        "application/vnd.dataresource+json": {
                            "schema": {
                                "fields": [
                                    {
                                        "name": "Total_Weekly_Payroll_ProdAndNonsuperEmp"
                                    }
                                ]
                            },
                            "data": [
                                {
                                    "Total_Weekly_Payroll_ProdAndNonsuperEmp": "1838753220"
                                }
                            ]
                        },
                        "text/html": "<table><tr><th>Total_Weekly_Payroll_ProdAndNonsuperEmp</th></tr><tr><td>1838753220</td></tr></table>"
                    },
                    "metadata": {}
                }
            ],
            "execution_count": 4
        },
        {
            "cell_type": "markdown",
            "source": [
                "6. In January 2017, for which industry was the average weekly hours worked by production and nonsupervisory employees the highest? Which industry was the lowest?"
            ],
            "metadata": {
                "azdata_cell_guid": "cdc4508a-a76c-4e36-a816-3c26ef47e710"
            }
        },
        {
            "cell_type": "code",
            "source": [
                "use LaborStatisticsDB;\n",
                "\n",
                "-- The industry with Highest average weekly hours worked by production and nonsupervisory employees\n",
                "select top 1 max(j.[value]) as Highest_Avg_Wk_Hrs, i.industry_name\n",
                "from january_2017 as j \n",
                "\n",
                "-- joining january_2017 and industry tables to find the industry name\n",
                "join industry i on SUBSTRING(j.series_id,4,8) = i.industry_code -- joining on industry code\n",
                "where right(j.series_id,2) = \n",
                "    (\n",
                "    -- sub query to find the data_type_code for \n",
                "    -- AVERAGE WEEKLY HOURS OF PRODUCTION AND NONSUPERVISORY EMPLOYEES\n",
                "    SELECT data_type_code\n",
                "    from datatype\n",
                "    where data_type_text LIKE 'AVERAGE WEEKLY HOURS OF PRODUCTION AND NONSUPERVISORY EMPLOYEES'\n",
                "    )\n",
                "group by i.industry_name\n",
                "\n",
                "-- ordering by Highest Average Weekly Hours in descending order\n",
                "order by max(j.[value]) desc;\n",
                "\n",
                "\n",
                "-- The industry with lowest average weekly hours worked by production and nonsupervisory employees\n",
                "select top 1 min(j.[value]) as Lowest_Avg_Wk_Hrs, i.industry_name\n",
                "from january_2017 as j \n",
                "\n",
                "-- joining january_2017 and industry tables to find the industry name\n",
                "join industry i on SUBSTRING(j.series_id,4,8) = i.industry_code -- joining on industry code\n",
                "where right(j.series_id,2) = \n",
                "    (\n",
                "    -- sub query to find the data_type_code for \n",
                "    -- AVERAGE WEEKLY HOURS OF PRODUCTION AND NONSUPERVISORY EMPLOYEES\n",
                "    SELECT data_type_code\n",
                "    from datatype\n",
                "    where data_type_text LIKE 'AVERAGE WEEKLY HOURS OF PRODUCTION AND NONSUPERVISORY EMPLOYEES'\n",
                "    )\n",
                "group by i.industry_name\n",
                "\n",
                "-- ordering by lowest Average Weekly Hours in descending order\n",
                "order by min(j.[value]);\n",
                ""
            ],
            "metadata": {
                "vscode": {
                    "languageId": "sql"
                },
                "azdata_cell_guid": "a6758e01-7ca6-43af-b8b8-04b8120c8a49",
                "language": "sql"
            },
            "outputs": [
                {
                    "output_type": "display_data",
                    "data": {
                        "text/html": "(1 row affected)"
                    },
                    "metadata": {}
                },
                {
                    "output_type": "display_data",
                    "data": {
                        "text/html": "(1 row affected)"
                    },
                    "metadata": {}
                },
                {
                    "output_type": "display_data",
                    "data": {
                        "text/html": "Total execution time: 00:00:00.096"
                    },
                    "metadata": {}
                },
                {
                    "output_type": "execute_result",
                    "execution_count": 29,
                    "data": {
                        "application/vnd.dataresource+json": {
                            "schema": {
                                "fields": [
                                    {
                                        "name": "Highest_Avg_Wk_Hrs"
                                    },
                                    {
                                        "name": "industry_name"
                                    }
                                ]
                            },
                            "data": [
                                {
                                    "Highest_Avg_Wk_Hrs": "49.8",
                                    "industry_name": "Motor vehicle power train components"
                                }
                            ]
                        },
                        "text/html": "<table><tr><th>Highest_Avg_Wk_Hrs</th><th>industry_name</th></tr><tr><td>49.8</td><td>Motor vehicle power train components</td></tr></table>"
                    },
                    "metadata": {}
                },
                {
                    "output_type": "execute_result",
                    "execution_count": 29,
                    "data": {
                        "application/vnd.dataresource+json": {
                            "schema": {
                                "fields": [
                                    {
                                        "name": "Lowest_Avg_Wk_Hrs"
                                    },
                                    {
                                        "name": "industry_name"
                                    }
                                ]
                            },
                            "data": [
                                {
                                    "Lowest_Avg_Wk_Hrs": "16.7",
                                    "industry_name": "Fitness and recreational sports centers"
                                }
                            ]
                        },
                        "text/html": "<table><tr><th>Lowest_Avg_Wk_Hrs</th><th>industry_name</th></tr><tr><td>16.7</td><td>Fitness and recreational sports centers</td></tr></table>"
                    },
                    "metadata": {}
                }
            ],
            "execution_count": 29
        },
        {
            "cell_type": "markdown",
            "source": [
                "7. In January 2021, for which industry was the total weekly payroll for production and nonsupervisory employees the highest? Which industry was the lowest?"
            ],
            "metadata": {
                "azdata_cell_guid": "328915a2-60d5-4c87-b6c2-8e55fab39af3"
            }
        },
        {
            "cell_type": "code",
            "source": [
                "use LaborStatisticsDB;\n",
                "\n",
                "-- The industry with Highest total weekly payroll for production and nonsupervisory employees\n",
                "select top 1 max(j.[value]) as Highest_Tot_Wkly_Payroll, i.industry_name\n",
                "from january_2017 as j \n",
                "\n",
                "-- joining january_2017 and industry tables to find the industry name\n",
                "join industry i on SUBSTRING(j.series_id,4,8) = i.industry_code -- joining on industry code\n",
                "where right(j.series_id,2) = \n",
                "    (\n",
                "    -- sub query to find the data_type_code for \n",
                "    -- Aggregate weekly payrolls OF PRODUCTION AND NONSUPERVISORY EMPLOYEES\n",
                "     SELECT data_type_code\n",
                "    from datatype\n",
                "    where data_type_text = 'AGGREGATE WEEKLY PAYROLLS OF PRODUCTION AND NONSUPERVISORY EMPLOYEES'\n",
                "    )\n",
                "group by i.industry_name\n",
                "\n",
                "-- ordering by Highest total weekly payrolls\n",
                "order by max(j.[value]) desc;\n",
                "\n",
                "\n",
                "-- The industry with Lowest total weekly payroll for production and nonsupervisory employees\n",
                "select top 1 min(j.[value]) as Lowest_Tot_Wkly_Payroll, i.industry_name\n",
                "from january_2017 as j \n",
                "\n",
                "-- joining january_2017 and industry tables to find the industry name\n",
                "join industry i on SUBSTRING(j.series_id,4,8) = i.industry_code -- joining on industry code\n",
                "where right(j.series_id,2) = \n",
                "    (\n",
                "    -- sub query to find the data_type_code for \n",
                "    -- Aggregate weekly payrolls OF PRODUCTION AND NONSUPERVISORY EMPLOYEES\n",
                "     SELECT data_type_code\n",
                "    from datatype\n",
                "    where data_type_text = 'AGGREGATE WEEKLY PAYROLLS OF PRODUCTION AND NONSUPERVISORY EMPLOYEES'\n",
                "    )\n",
                "group by i.industry_name\n",
                "\n",
                "order by min(j.[value]);"
            ],
            "metadata": {
                "vscode": {
                    "languageId": "sql"
                },
                "azdata_cell_guid": "f3985220-b4b7-46f3-ba1a-e041a87be58b",
                "language": "sql"
            },
            "outputs": [
                {
                    "output_type": "display_data",
                    "data": {
                        "text/html": "(1 row affected)"
                    },
                    "metadata": {}
                },
                {
                    "output_type": "display_data",
                    "data": {
                        "text/html": "(1 row affected)"
                    },
                    "metadata": {}
                },
                {
                    "output_type": "display_data",
                    "data": {
                        "text/html": "Total execution time: 00:00:00.110"
                    },
                    "metadata": {}
                },
                {
                    "output_type": "execute_result",
                    "execution_count": 30,
                    "data": {
                        "application/vnd.dataresource+json": {
                            "schema": {
                                "fields": [
                                    {
                                        "name": "Highest_Tot_Wkly_Payroll"
                                    },
                                    {
                                        "name": "industry_name"
                                    }
                                ]
                            },
                            "data": [
                                {
                                    "Highest_Tot_Wkly_Payroll": "74498171",
                                    "industry_name": "Total private"
                                }
                            ]
                        },
                        "text/html": "<table><tr><th>Highest_Tot_Wkly_Payroll</th><th>industry_name</th></tr><tr><td>74498171</td><td>Total private</td></tr></table>"
                    },
                    "metadata": {}
                },
                {
                    "output_type": "execute_result",
                    "execution_count": 30,
                    "data": {
                        "application/vnd.dataresource+json": {
                            "schema": {
                                "fields": [
                                    {
                                        "name": "Lowest_Tot_Wkly_Payroll"
                                    },
                                    {
                                        "name": "industry_name"
                                    }
                                ]
                            },
                            "data": [
                                {
                                    "Lowest_Tot_Wkly_Payroll": "10079",
                                    "industry_name": "Coin-operated laundries and drycleaners"
                                }
                            ]
                        },
                        "text/html": "<table><tr><th>Lowest_Tot_Wkly_Payroll</th><th>industry_name</th></tr><tr><td>10079</td><td>Coin-operated laundries and drycleaners</td></tr></table>"
                    },
                    "metadata": {}
                }
            ],
            "execution_count": 30
        },
        {
            "cell_type": "markdown",
            "source": [
                "## Join in on the Fun\n",
                "\n",
                "Time to start joining! You can choose the type of join you use, just make sure to make a  note!\n",
                "\n",
                "1. Join `annual_2016` with `series` on `series_id`. We only want the data in the `annual_2016` table to be included in the result."
            ],
            "metadata": {
                "azdata_cell_guid": "9c5c9cb4-4376-4645-bf52-c359bad1853e"
            }
        },
        {
            "cell_type": "code",
            "source": [
                "use LaborStatisticsDB;\n",
                "\n",
                "-- Displaying the annual_2016 table along with matching records in seeries table\n",
                "SELECT *\n",
                "from annual_2016 a \n",
                "left join series s on a.series_id = s.series_id\n",
                "ORDER BY id\n",
                "; "
            ],
            "metadata": {
                "language": "sql",
                "azdata_cell_guid": "89bba3ec-a7d5-4b7a-b4bc-0e6b6ff6a50a"
            },
            "outputs": [],
            "execution_count": null
        },
        {
            "cell_type": "markdown",
            "source": [
                "2. Join `series` and `datatype` on `data_type_code`."
            ],
            "metadata": {
                "azdata_cell_guid": "f0eefde2-fd6e-4cef-9426-3979c59ac61e"
            }
        },
        {
            "cell_type": "code",
            "source": [
                "use LaborStatisticsDB;\n",
                "-- Displaying the dataype table with matching records in series table\n",
                "SELECT *\n",
                "from series s \n",
                "inner join datatype d on s.data_type_code = d.data_type_code\n",
                "ORDER BY d.data_type_code;\n",
                ""
            ],
            "metadata": {
                "vscode": {
                    "languageId": "sql"
                },
                "azdata_cell_guid": "0850cbeb-06f8-4b15-9f87-7a9ca7a87e91",
                "language": "sql"
            },
            "outputs": [],
            "execution_count": null
        },
        {
            "cell_type": "markdown",
            "source": [
                "3. Join `series` and `industry` on `industry_code`."
            ],
            "metadata": {
                "azdata_cell_guid": "ada4ecfc-8180-4951-b013-1b4ad14bb2a9"
            }
        },
        {
            "cell_type": "code",
            "source": [
                "use LaborStatisticsDB;\n",
                "-- Displaying the records with industry_code that are present in both the series and industry tables.\n",
                "SELECT  *\n",
                "from series s \n",
                "inner join industry i on s.industry_code = i.industry_code\n",
                "ORDER BY i.industry_code;"
            ],
            "metadata": {
                "vscode": {
                    "languageId": "sql"
                },
                "azdata_cell_guid": "4eaf2035-ec13-4c15-960f-a40fe73dc34d",
                "language": "sql"
            },
            "outputs": [],
            "execution_count": null
        },
        {
            "cell_type": "markdown",
            "source": [
                "## Subqueries, Unions, Derived Tables, Oh My!\n",
                "\n",
                "1. Write a query that returns the `series_id`, `industry_code`, `industry_name`, and `value` from the `january_2017` table but only if that value is greater than the average value for `annual_2016` of `data_type_code` 82."
            ],
            "metadata": {
                "azdata_cell_guid": "7111eeba-9ab9-45b9-a4c5-09b809c63907"
            }
        },
        {
            "cell_type": "code",
            "source": [
                "use LaborStatisticsDB;\n",
                "\n",
                "select \n",
                "    j.series_id, \n",
                "    i.industry_code, \n",
                "    i.industry_name, \n",
                "    j.value\n",
                "from \n",
                "    january_2017 j \n",
                "\n",
                "-- joining the January_2017 and industry tables to display the required columns\n",
                "inner join industry i on SUBSTRING(j.series_id,4,8) = i.industry_code\n",
                "\n",
                "-- filtering records with value greater than the average value for annual_2016 table for the data_type_code=82\n",
                "where j.[value] >  \n",
                "    (\n",
                "    select \n",
                "        avg(a.[value])\n",
                "    from \n",
                "        annual_2016 a\n",
                "    -- selecting the records from annual_2016 with data_type_code=82 parsed from its series_id.\n",
                "    where right(a.series_id,2) = 82\n",
                "    )   \n",
                "    AND\n",
                "     right(j.series_id,2) = 82 ;\n",
                ""
            ],
            "metadata": {
                "vscode": {
                    "languageId": "sql"
                },
                "azdata_cell_guid": "b747aa95-d3d7-4843-9f1a-13aae6902e3a",
                "language": "sql"
            },
            "outputs": [
                {
                    "output_type": "display_data",
                    "data": {
                        "text/html": "(294 rows affected)"
                    },
                    "metadata": {}
                },
                {
                    "output_type": "display_data",
                    "data": {
                        "text/html": "Total execution time: 00:00:00.081"
                    },
                    "metadata": {}
                },
                {
                    "output_type": "execute_result",
                    "execution_count": 32,
                    "data": {
                        "application/vnd.dataresource+json": {
                            "schema": {
                                "fields": [
                                    {
                                        "name": "series_id"
                                    },
                                    {
                                        "name": "industry_code"
                                    },
                                    {
                                        "name": "industry_name"
                                    },
                                    {
                                        "name": "value"
                                    }
                                ]
                            },
                            "data": [
                                {
                                    "series_id": "CES0500000082",
                                    "industry_code": "5000000",
                                    "industry_name": "Total private",
                                    "value": "74498171"
                                },
                                {
                                    "series_id": "CEU0500000082",
                                    "industry_code": "5000000",
                                    "industry_name": "Total private",
                                    "value": "73474302"
                                },
                                {
                                    "series_id": "CES0500000082",
                                    "industry_code": "5000000",
                                    "industry_name": "Total private",
                                    "value": "74498171"
                                },
                                {
                                    "series_id": "CEU0500000082",
                                    "industry_code": "5000000",
                                    "industry_name": "Total private",
                                    "value": "73474302"
                                },
                                {
                                    "series_id": "CES0600000082",
                                    "industry_code": "6000000",
                                    "industry_name": "Goods-producing",
                                    "value": "13426820"
                                },
                                {
                                    "series_id": "CEU0600000082",
                                    "industry_code": "6000000",
                                    "industry_name": "Goods-producing",
                                    "value": "12711945"
                                },
                                {
                                    "series_id": "CES0600000082",
                                    "industry_code": "6000000",
                                    "industry_name": "Goods-producing",
                                    "value": "13426820"
                                },
                                {
                                    "series_id": "CEU0600000082",
                                    "industry_code": "6000000",
                                    "industry_name": "Goods-producing",
                                    "value": "12711945"
                                },
                                {
                                    "series_id": "CES0800000082",
                                    "industry_code": "8000000",
                                    "industry_name": "Private service-providing",
                                    "value": "60914722"
                                },
                                {
                                    "series_id": "CEU0800000082",
                                    "industry_code": "8000000",
                                    "industry_name": "Private service-providing",
                                    "value": "60807771"
                                },
                                {
                                    "series_id": "CES0800000082",
                                    "industry_code": "8000000",
                                    "industry_name": "Private service-providing",
                                    "value": "60914722"
                                },
                                {
                                    "series_id": "CEU0800000082",
                                    "industry_code": "8000000",
                                    "industry_name": "Private service-providing",
                                    "value": "60807771"
                                },
                                {
                                    "series_id": "CES2000000082",
                                    "industry_code": "20000000",
                                    "industry_name": "Construction",
                                    "value": "5335274"
                                },
                                {
                                    "series_id": "CEU2000000082",
                                    "industry_code": "20000000",
                                    "industry_name": "Construction",
                                    "value": "4724156"
                                },
                                {
                                    "series_id": "CES2000000082",
                                    "industry_code": "20000000",
                                    "industry_name": "Construction",
                                    "value": "5335274"
                                },
                                {
                                    "series_id": "CEU2000000082",
                                    "industry_code": "20000000",
                                    "industry_name": "Construction",
                                    "value": "4724156"
                                },
                                {
                                    "series_id": "CES2023600082",
                                    "industry_code": "20236000",
                                    "industry_name": "Construction of buildings",
                                    "value": "1008035"
                                },
                                {
                                    "series_id": "CEU2023600082",
                                    "industry_code": "20236000",
                                    "industry_name": "Construction of buildings",
                                    "value": "940800"
                                },
                                {
                                    "series_id": "CES2023600082",
                                    "industry_code": "20236000",
                                    "industry_name": "Construction of buildings",
                                    "value": "1008035"
                                },
                                {
                                    "series_id": "CEU2023600082",
                                    "industry_code": "20236000",
                                    "industry_name": "Construction of buildings",
                                    "value": "940800"
                                },
                                {
                                    "series_id": "CES2023700082",
                                    "industry_code": "20237000",
                                    "industry_name": "Heavy and civil engineering construction",
                                    "value": "908374"
                                },
                                {
                                    "series_id": "CES2023700082",
                                    "industry_code": "20237000",
                                    "industry_name": "Heavy and civil engineering construction",
                                    "value": "908374"
                                },
                                {
                                    "series_id": "CES2023800082",
                                    "industry_code": "20238000",
                                    "industry_name": "Specialty trade contractors",
                                    "value": "3421902"
                                },
                                {
                                    "series_id": "CEU2023800082",
                                    "industry_code": "20238000",
                                    "industry_name": "Specialty trade contractors",
                                    "value": "3062211"
                                },
                                {
                                    "series_id": "CES2023800082",
                                    "industry_code": "20238000",
                                    "industry_name": "Specialty trade contractors",
                                    "value": "3421902"
                                },
                                {
                                    "series_id": "CEU2023800082",
                                    "industry_code": "20238000",
                                    "industry_name": "Specialty trade contractors",
                                    "value": "3062211"
                                },
                                {
                                    "series_id": "CES2023820082",
                                    "industry_code": "20238200",
                                    "industry_name": "Building equipment contractors",
                                    "value": "1696080"
                                },
                                {
                                    "series_id": "CEU2023820082",
                                    "industry_code": "20238200",
                                    "industry_name": "Building equipment contractors",
                                    "value": "1621266"
                                },
                                {
                                    "series_id": "CES2023820082",
                                    "industry_code": "20238200",
                                    "industry_name": "Building equipment contractors",
                                    "value": "1696080"
                                },
                                {
                                    "series_id": "CEU2023820082",
                                    "industry_code": "20238200",
                                    "industry_name": "Building equipment contractors",
                                    "value": "1621266"
                                },
                                {
                                    "series_id": "CES3000000082",
                                    "industry_code": "30000000",
                                    "industry_name": "Manufacturing",
                                    "value": "7491723"
                                },
                                {
                                    "series_id": "CEU3000000082",
                                    "industry_code": "30000000",
                                    "industry_name": "Manufacturing",
                                    "value": "7411960"
                                },
                                {
                                    "series_id": "CES3000000082",
                                    "industry_code": "30000000",
                                    "industry_name": "Manufacturing",
                                    "value": "7491723"
                                },
                                {
                                    "series_id": "CEU3000000082",
                                    "industry_code": "30000000",
                                    "industry_name": "Manufacturing",
                                    "value": "7411960"
                                },
                                {
                                    "series_id": "CES3100000082",
                                    "industry_code": "31000000",
                                    "industry_name": "Durable goods",
                                    "value": "4859716"
                                },
                                {
                                    "series_id": "CEU3100000082",
                                    "industry_code": "31000000",
                                    "industry_name": "Durable goods",
                                    "value": "4808368"
                                },
                                {
                                    "series_id": "CES3100000082",
                                    "industry_code": "31000000",
                                    "industry_name": "Durable goods",
                                    "value": "4859716"
                                },
                                {
                                    "series_id": "CEU3100000082",
                                    "industry_code": "31000000",
                                    "industry_name": "Durable goods",
                                    "value": "4808368"
                                },
                                {
                                    "series_id": "CES3133200082",
                                    "industry_code": "31332000",
                                    "industry_name": "Fabricated metal products",
                                    "value": "871298"
                                },
                                {
                                    "series_id": "CEU3133200082",
                                    "industry_code": "31332000",
                                    "industry_name": "Fabricated metal products",
                                    "value": "867242"
                                },
                                {
                                    "series_id": "CES3133200082",
                                    "industry_code": "31332000",
                                    "industry_name": "Fabricated metal products",
                                    "value": "871298"
                                },
                                {
                                    "series_id": "CEU3133200082",
                                    "industry_code": "31332000",
                                    "industry_name": "Fabricated metal products",
                                    "value": "867242"
                                },
                                {
                                    "series_id": "CES3133600082",
                                    "industry_code": "31336000",
                                    "industry_name": "Transportation equipment",
                                    "value": "1257764"
                                },
                                {
                                    "series_id": "CEU3133600082",
                                    "industry_code": "31336000",
                                    "industry_name": "Transportation equipment",
                                    "value": "1242685"
                                },
                                {
                                    "series_id": "CES3133600082",
                                    "industry_code": "31336000",
                                    "industry_name": "Transportation equipment",
                                    "value": "1257764"
                                },
                                {
                                    "series_id": "CEU3133600082",
                                    "industry_code": "31336000",
                                    "industry_name": "Transportation equipment",
                                    "value": "1242685"
                                },
                                {
                                    "series_id": "CES3200000082",
                                    "industry_code": "32000000",
                                    "industry_name": "Nondurable goods",
                                    "value": "2633628"
                                },
                                {
                                    "series_id": "CEU3200000082",
                                    "industry_code": "32000000",
                                    "industry_name": "Nondurable goods",
                                    "value": "2605069"
                                },
                                {
                                    "series_id": "CES3200000082",
                                    "industry_code": "32000000",
                                    "industry_name": "Nondurable goods",
                                    "value": "2633628"
                                },
                                {
                                    "series_id": "CEU3200000082",
                                    "industry_code": "32000000",
                                    "industry_name": "Nondurable goods",
                                    "value": "2605069"
                                },
                                {
                                    "series_id": "CES3231100082",
                                    "industry_code": "32311000",
                                    "industry_name": "Food manufacturing",
                                    "value": "851406"
                                },
                                {
                                    "series_id": "CEU3231100082",
                                    "industry_code": "32311000",
                                    "industry_name": "Food manufacturing",
                                    "value": "842201"
                                },
                                {
                                    "series_id": "CES3231100082",
                                    "industry_code": "32311000",
                                    "industry_name": "Food manufacturing",
                                    "value": "851406"
                                },
                                {
                                    "series_id": "CEU3231100082",
                                    "industry_code": "32311000",
                                    "industry_name": "Food manufacturing",
                                    "value": "842201"
                                },
                                {
                                    "series_id": "CES4000000082",
                                    "industry_code": "40000000",
                                    "industry_name": "Trade",
                                    "value": "14850661"
                                },
                                {
                                    "series_id": "CEU4000000082",
                                    "industry_code": "40000000",
                                    "industry_name": "Trade",
                                    "value": "14732108"
                                },
                                {
                                    "series_id": "CES4000000082",
                                    "industry_code": "40000000",
                                    "industry_name": "Trade",
                                    "value": "14850661"
                                },
                                {
                                    "series_id": "CEU4000000082",
                                    "industry_code": "40000000",
                                    "industry_name": "Trade",
                                    "value": "14732108"
                                },
                                {
                                    "series_id": "CES4142000082",
                                    "industry_code": "41420000",
                                    "industry_name": "Wholesale trade",
                                    "value": "4480134"
                                },
                                {
                                    "series_id": "CEU4142000082",
                                    "industry_code": "41420000",
                                    "industry_name": "Wholesale trade",
                                    "value": "4506110"
                                },
                                {
                                    "series_id": "CES4142000082",
                                    "industry_code": "41420000",
                                    "industry_name": "Wholesale trade",
                                    "value": "4480134"
                                },
                                {
                                    "series_id": "CEU4142000082",
                                    "industry_code": "41420000",
                                    "industry_name": "Wholesale trade",
                                    "value": "4506110"
                                },
                                {
                                    "series_id": "CES4142300082",
                                    "industry_code": "41423000",
                                    "industry_name": "Durable goods",
                                    "value": "2261006"
                                },
                                {
                                    "series_id": "CEU4142300082",
                                    "industry_code": "41423000",
                                    "industry_name": "Durable goods",
                                    "value": "2283094"
                                },
                                {
                                    "series_id": "CES4142300082",
                                    "industry_code": "41423000",
                                    "industry_name": "Durable goods",
                                    "value": "2261006"
                                },
                                {
                                    "series_id": "CEU4142300082",
                                    "industry_code": "41423000",
                                    "industry_name": "Durable goods",
                                    "value": "2283094"
                                },
                                {
                                    "series_id": "CES4142400082",
                                    "industry_code": "41424000",
                                    "industry_name": "Nondurable goods",
                                    "value": "1367413"
                                },
                                {
                                    "series_id": "CEU4142400082",
                                    "industry_code": "41424000",
                                    "industry_name": "Nondurable goods",
                                    "value": "1348136"
                                },
                                {
                                    "series_id": "CES4142400082",
                                    "industry_code": "41424000",
                                    "industry_name": "Nondurable goods",
                                    "value": "1367413"
                                },
                                {
                                    "series_id": "CEU4142400082",
                                    "industry_code": "41424000",
                                    "industry_name": "Nondurable goods",
                                    "value": "1348136"
                                },
                                {
                                    "series_id": "CES4142500082",
                                    "industry_code": "41425000",
                                    "industry_name": "Electronic markets and agents and brokers",
                                    "value": "855291"
                                },
                                {
                                    "series_id": "CEU4142500082",
                                    "industry_code": "41425000",
                                    "industry_name": "Electronic markets and agents and brokers",
                                    "value": "873578"
                                },
                                {
                                    "series_id": "CES4142500082",
                                    "industry_code": "41425000",
                                    "industry_name": "Electronic markets and agents and brokers",
                                    "value": "855291"
                                },
                                {
                                    "series_id": "CEU4142500082",
                                    "industry_code": "41425000",
                                    "industry_name": "Electronic markets and agents and brokers",
                                    "value": "873578"
                                },
                                {
                                    "series_id": "CES4142512082",
                                    "industry_code": "41425120",
                                    "industry_name": "Wholesale trade agents and brokers",
                                    "value": "831319"
                                },
                                {
                                    "series_id": "CEU4142512082",
                                    "industry_code": "41425120",
                                    "industry_name": "Wholesale trade agents and brokers",
                                    "value": "851551"
                                },
                                {
                                    "series_id": "CES4142512082",
                                    "industry_code": "41425120",
                                    "industry_name": "Wholesale trade agents and brokers",
                                    "value": "831319"
                                },
                                {
                                    "series_id": "CEU4142512082",
                                    "industry_code": "41425120",
                                    "industry_name": "Wholesale trade agents and brokers",
                                    "value": "851551"
                                },
                                {
                                    "series_id": "CES4200000082",
                                    "industry_code": "42000000",
                                    "industry_name": "Retail trade",
                                    "value": "6123554"
                                },
                                {
                                    "series_id": "CEU4200000082",
                                    "industry_code": "42000000",
                                    "industry_name": "Retail trade",
                                    "value": "6060100"
                                },
                                {
                                    "series_id": "CES4200000082",
                                    "industry_code": "42000000",
                                    "industry_name": "Retail trade",
                                    "value": "6123554"
                                },
                                {
                                    "series_id": "CEU4200000082",
                                    "industry_code": "42000000",
                                    "industry_name": "Retail trade",
                                    "value": "6060100"
                                },
                                {
                                    "series_id": "CES4244100082",
                                    "industry_code": "42441000",
                                    "industry_name": "Motor vehicle and parts dealers",
                                    "value": "1180297"
                                },
                                {
                                    "series_id": "CEU4244100082",
                                    "industry_code": "42441000",
                                    "industry_name": "Motor vehicle and parts dealers",
                                    "value": "1163420"
                                },
                                {
                                    "series_id": "CES4244100082",
                                    "industry_code": "42441000",
                                    "industry_name": "Motor vehicle and parts dealers",
                                    "value": "1180297"
                                },
                                {
                                    "series_id": "CEU4244100082",
                                    "industry_code": "42441000",
                                    "industry_name": "Motor vehicle and parts dealers",
                                    "value": "1163420"
                                },
                                {
                                    "series_id": "CES4244110082",
                                    "industry_code": "42441100",
                                    "industry_name": "Automobile dealers",
                                    "value": "839595"
                                },
                                {
                                    "series_id": "CEU4244110082",
                                    "industry_code": "42441100",
                                    "industry_name": "Automobile dealers",
                                    "value": "831131"
                                },
                                {
                                    "series_id": "CES4244110082",
                                    "industry_code": "42441100",
                                    "industry_name": "Automobile dealers",
                                    "value": "839595"
                                },
                                {
                                    "series_id": "CEU4244110082",
                                    "industry_code": "42441100",
                                    "industry_name": "Automobile dealers",
                                    "value": "831131"
                                },
                                {
                                    "series_id": "CES4244500082",
                                    "industry_code": "42445000",
                                    "industry_name": "Food and beverage stores",
                                    "value": "974710"
                                },
                                {
                                    "series_id": "CEU4244500082",
                                    "industry_code": "42445000",
                                    "industry_name": "Food and beverage stores",
                                    "value": "963315"
                                },
                                {
                                    "series_id": "CES4244500082",
                                    "industry_code": "42445000",
                                    "industry_name": "Food and beverage stores",
                                    "value": "974710"
                                },
                                {
                                    "series_id": "CEU4244500082",
                                    "industry_code": "42445000",
                                    "industry_name": "Food and beverage stores",
                                    "value": "963315"
                                },
                                {
                                    "series_id": "CES4244510082",
                                    "industry_code": "42445100",
                                    "industry_name": "Grocery stores",
                                    "value": "868430"
                                },
                                {
                                    "series_id": "CEU4244510082",
                                    "industry_code": "42445100",
                                    "industry_name": "Grocery stores",
                                    "value": "861224"
                                },
                                {
                                    "series_id": "CES4244510082",
                                    "industry_code": "42445100",
                                    "industry_name": "Grocery stores",
                                    "value": "868430"
                                },
                                {
                                    "series_id": "CEU4244510082",
                                    "industry_code": "42445100",
                                    "industry_name": "Grocery stores",
                                    "value": "861224"
                                },
                                {
                                    "series_id": "CES4244511082",
                                    "industry_code": "42445110",
                                    "industry_name": "Supermarkets and other grocery stores",
                                    "value": "821282"
                                },
                                {
                                    "series_id": "CES4244511082",
                                    "industry_code": "42445110",
                                    "industry_name": "Supermarkets and other grocery stores",
                                    "value": "821282"
                                },
                                {
                                    "series_id": "CES4245200082",
                                    "industry_code": "42452000",
                                    "industry_name": "General merchandise stores",
                                    "value": "1065807"
                                },
                                {
                                    "series_id": "CEU4245200082",
                                    "industry_code": "42452000",
                                    "industry_name": "General merchandise stores",
                                    "value": "1049973"
                                },
                                {
                                    "series_id": "CES4245200082",
                                    "industry_code": "42452000",
                                    "industry_name": "General merchandise stores",
                                    "value": "1065807"
                                },
                                {
                                    "series_id": "CEU4245200082",
                                    "industry_code": "42452000",
                                    "industry_name": "General merchandise stores",
                                    "value": "1049973"
                                },
                                {
                                    "series_id": "CES4300000082",
                                    "industry_code": "43000000",
                                    "industry_name": "Transportation and warehousing",
                                    "value": "3538683"
                                },
                                {
                                    "series_id": "CEU4300000082",
                                    "industry_code": "43000000",
                                    "industry_name": "Transportation and warehousing",
                                    "value": "3495553"
                                },
                                {
                                    "series_id": "CES4300000082",
                                    "industry_code": "43000000",
                                    "industry_name": "Transportation and warehousing",
                                    "value": "3538683"
                                },
                                {
                                    "series_id": "CEU4300000082",
                                    "industry_code": "43000000",
                                    "industry_name": "Transportation and warehousing",
                                    "value": "3495553"
                                },
                                {
                                    "series_id": "CES4348400082",
                                    "industry_code": "43484000",
                                    "industry_name": "Truck transportation",
                                    "value": "1131821"
                                },
                                {
                                    "series_id": "CEU4348400082",
                                    "industry_code": "43484000",
                                    "industry_name": "Truck transportation",
                                    "value": "1092427"
                                },
                                {
                                    "series_id": "CES4348400082",
                                    "industry_code": "43484000",
                                    "industry_name": "Truck transportation",
                                    "value": "1131821"
                                },
                                {
                                    "series_id": "CEU4348400082",
                                    "industry_code": "43484000",
                                    "industry_name": "Truck transportation",
                                    "value": "1092427"
                                },
                                {
                                    "series_id": "CES5000000082",
                                    "industry_code": "50000000",
                                    "industry_name": "Information",
                                    "value": "2416443"
                                },
                                {
                                    "series_id": "CEU5000000082",
                                    "industry_code": "50000000",
                                    "industry_name": "Information",
                                    "value": "2434992"
                                },
                                {
                                    "series_id": "CES5000000082",
                                    "industry_code": "50000000",
                                    "industry_name": "Information",
                                    "value": "2416443"
                                },
                                {
                                    "series_id": "CEU5000000082",
                                    "industry_code": "50000000",
                                    "industry_name": "Information",
                                    "value": "2434992"
                                },
                                {
                                    "series_id": "CES5500000082",
                                    "industry_code": "55000000",
                                    "industry_name": "Financial activities",
                                    "value": "6328968"
                                },
                                {
                                    "series_id": "CEU5500000082",
                                    "industry_code": "55000000",
                                    "industry_name": "Financial activities",
                                    "value": "6467426"
                                },
                                {
                                    "series_id": "CES5500000082",
                                    "industry_code": "55000000",
                                    "industry_name": "Financial activities",
                                    "value": "6328968"
                                },
                                {
                                    "series_id": "CEU5500000082",
                                    "industry_code": "55000000",
                                    "industry_name": "Financial activities",
                                    "value": "6467426"
                                },
                                {
                                    "series_id": "CES5552200082",
                                    "industry_code": "55522000",
                                    "industry_name": "Credit intermediation and related activities",
                                    "value": "1717912"
                                },
                                {
                                    "series_id": "CEU5552200082",
                                    "industry_code": "55522000",
                                    "industry_name": "Credit intermediation and related activities",
                                    "value": "1767137"
                                },
                                {
                                    "series_id": "CES5552200082",
                                    "industry_code": "55522000",
                                    "industry_name": "Credit intermediation and related activities",
                                    "value": "1717912"
                                },
                                {
                                    "series_id": "CEU5552200082",
                                    "industry_code": "55522000",
                                    "industry_name": "Credit intermediation and related activities",
                                    "value": "1767137"
                                },
                                {
                                    "series_id": "CES5552210082",
                                    "industry_code": "55522100",
                                    "industry_name": "Depository credit intermediation",
                                    "value": "971796"
                                },
                                {
                                    "series_id": "CEU5552210082",
                                    "industry_code": "55522100",
                                    "industry_name": "Depository credit intermediation",
                                    "value": "1004069"
                                },
                                {
                                    "series_id": "CES5552210082",
                                    "industry_code": "55522100",
                                    "industry_name": "Depository credit intermediation",
                                    "value": "971796"
                                },
                                {
                                    "series_id": "CEU5552210082",
                                    "industry_code": "55522100",
                                    "industry_name": "Depository credit intermediation",
                                    "value": "1004069"
                                },
                                {
                                    "series_id": "CES5552300082",
                                    "industry_code": "55523000",
                                    "industry_name": "NULL",
                                    "value": "1044224"
                                },
                                {
                                    "series_id": "CEU5552300082",
                                    "industry_code": "55523000",
                                    "industry_name": "NULL",
                                    "value": "1087325"
                                },
                                {
                                    "series_id": "CES5552300082",
                                    "industry_code": "55523000",
                                    "industry_name": "NULL",
                                    "value": "1044224"
                                },
                                {
                                    "series_id": "CEU5552300082",
                                    "industry_code": "55523000",
                                    "industry_name": "NULL",
                                    "value": "1087325"
                                },
                                {
                                    "series_id": "CES5552400082",
                                    "industry_code": "55524000",
                                    "industry_name": "Insurance carriers and related activities",
                                    "value": "2347328"
                                },
                                {
                                    "series_id": "CEU5552400082",
                                    "industry_code": "55524000",
                                    "industry_name": "Insurance carriers and related activities",
                                    "value": "2408490"
                                },
                                {
                                    "series_id": "CES5552400082",
                                    "industry_code": "55524000",
                                    "industry_name": "Insurance carriers and related activities",
                                    "value": "2347328"
                                },
                                {
                                    "series_id": "CEU5552400082",
                                    "industry_code": "55524000",
                                    "industry_name": "Insurance carriers and related activities",
                                    "value": "2408490"
                                },
                                {
                                    "series_id": "CES5552410082",
                                    "industry_code": "55524100",
                                    "industry_name": "Insurance carriers",
                                    "value": "1477799"
                                },
                                {
                                    "series_id": "CEU5552410082",
                                    "industry_code": "55524100",
                                    "industry_name": "Insurance carriers",
                                    "value": "1509979"
                                },
                                {
                                    "series_id": "CES5552410082",
                                    "industry_code": "55524100",
                                    "industry_name": "Insurance carriers",
                                    "value": "1477799"
                                },
                                {
                                    "series_id": "CEU5552410082",
                                    "industry_code": "55524100",
                                    "industry_name": "Insurance carriers",
                                    "value": "1509979"
                                },
                                {
                                    "series_id": "CES5552420082",
                                    "industry_code": "55524200",
                                    "industry_name": "Insurance agencies",
                                    "value": "872398"
                                },
                                {
                                    "series_id": "CEU5552420082",
                                    "industry_code": "55524200",
                                    "industry_name": "Insurance agencies",
                                    "value": "894878"
                                },
                                {
                                    "series_id": "CES5552420082",
                                    "industry_code": "55524200",
                                    "industry_name": "Insurance agencies",
                                    "value": "872398"
                                },
                                {
                                    "series_id": "CEU5552420082",
                                    "industry_code": "55524200",
                                    "industry_name": "Insurance agencies",
                                    "value": "894878"
                                },
                                {
                                    "series_id": "CES5553100082",
                                    "industry_code": "55531000",
                                    "industry_name": "Real estate",
                                    "value": "862987"
                                },
                                {
                                    "series_id": "CEU5553100082",
                                    "industry_code": "55531000",
                                    "industry_name": "Real estate",
                                    "value": "865620"
                                },
                                {
                                    "series_id": "CES5553100082",
                                    "industry_code": "55531000",
                                    "industry_name": "Real estate",
                                    "value": "862987"
                                },
                                {
                                    "series_id": "CEU5553100082",
                                    "industry_code": "55531000",
                                    "industry_name": "Real estate",
                                    "value": "865620"
                                },
                                {
                                    "series_id": "CES6000000082",
                                    "industry_code": "60000000",
                                    "industry_name": "Professional and business services",
                                    "value": "15251268"
                                },
                                {
                                    "series_id": "CEU6000000082",
                                    "industry_code": "60000000",
                                    "industry_name": "Professional and business services",
                                    "value": "15219807"
                                },
                                {
                                    "series_id": "CES6000000082",
                                    "industry_code": "60000000",
                                    "industry_name": "Professional and business services",
                                    "value": "15251268"
                                },
                                {
                                    "series_id": "CEU6000000082",
                                    "industry_code": "60000000",
                                    "industry_name": "Professional and business services",
                                    "value": "15219807"
                                },
                                {
                                    "series_id": "CES6054000082",
                                    "industry_code": "60540000",
                                    "industry_name": "Professional and technical services",
                                    "value": "8821026"
                                },
                                {
                                    "series_id": "CEU6054000082",
                                    "industry_code": "60540000",
                                    "industry_name": "Professional and technical services",
                                    "value": "8976687"
                                },
                                {
                                    "series_id": "CES6054000082",
                                    "industry_code": "60540000",
                                    "industry_name": "Professional and technical services",
                                    "value": "8821026"
                                },
                                {
                                    "series_id": "CEU6054000082",
                                    "industry_code": "60540000",
                                    "industry_name": "Professional and technical services",
                                    "value": "8976687"
                                },
                                {
                                    "series_id": "CES6054110082",
                                    "industry_code": "60541100",
                                    "industry_name": "Legal services",
                                    "value": "1058862"
                                },
                                {
                                    "series_id": "CEU6054110082",
                                    "industry_code": "60541100",
                                    "industry_name": "Legal services",
                                    "value": "1093898"
                                },
                                {
                                    "series_id": "CES6054110082",
                                    "industry_code": "60541100",
                                    "industry_name": "Legal services",
                                    "value": "1058862"
                                },
                                {
                                    "series_id": "CEU6054110082",
                                    "industry_code": "60541100",
                                    "industry_name": "Legal services",
                                    "value": "1093898"
                                },
                                {
                                    "series_id": "CES6054111082",
                                    "industry_code": "60541110",
                                    "industry_name": "Offices of lawyers",
                                    "value": "1004009"
                                },
                                {
                                    "series_id": "CEU6054111082",
                                    "industry_code": "60541110",
                                    "industry_name": "Offices of lawyers",
                                    "value": "1038464"
                                },
                                {
                                    "series_id": "CES6054111082",
                                    "industry_code": "60541110",
                                    "industry_name": "Offices of lawyers",
                                    "value": "1004009"
                                },
                                {
                                    "series_id": "CEU6054111082",
                                    "industry_code": "60541110",
                                    "industry_name": "Offices of lawyers",
                                    "value": "1038464"
                                },
                                {
                                    "series_id": "CES6054130082",
                                    "industry_code": "60541300",
                                    "industry_name": "Architectural and engineering services",
                                    "value": "1439445"
                                },
                                {
                                    "series_id": "CEU6054130082",
                                    "industry_code": "60541300",
                                    "industry_name": "Architectural and engineering services",
                                    "value": "1422967"
                                },
                                {
                                    "series_id": "CES6054130082",
                                    "industry_code": "60541300",
                                    "industry_name": "Architectural and engineering services",
                                    "value": "1439445"
                                },
                                {
                                    "series_id": "CEU6054130082",
                                    "industry_code": "60541300",
                                    "industry_name": "Architectural and engineering services",
                                    "value": "1422967"
                                },
                                {
                                    "series_id": "CES6054134082",
                                    "industry_code": "60541340",
                                    "industry_name": "NULL",
                                    "value": "1051499"
                                },
                                {
                                    "series_id": "CEU6054134082",
                                    "industry_code": "60541340",
                                    "industry_name": "NULL",
                                    "value": "1042223"
                                },
                                {
                                    "series_id": "CES6054134082",
                                    "industry_code": "60541340",
                                    "industry_name": "NULL",
                                    "value": "1051499"
                                },
                                {
                                    "series_id": "CEU6054134082",
                                    "industry_code": "60541340",
                                    "industry_name": "NULL",
                                    "value": "1042223"
                                },
                                {
                                    "series_id": "CES6054150082",
                                    "industry_code": "60541500",
                                    "industry_name": "Computer systems design and related services",
                                    "value": "2666568"
                                },
                                {
                                    "series_id": "CEU6054150082",
                                    "industry_code": "60541500",
                                    "industry_name": "Computer systems design and related services",
                                    "value": "2725031"
                                },
                                {
                                    "series_id": "CES6054150082",
                                    "industry_code": "60541500",
                                    "industry_name": "Computer systems design and related services",
                                    "value": "2666568"
                                },
                                {
                                    "series_id": "CEU6054150082",
                                    "industry_code": "60541500",
                                    "industry_name": "Computer systems design and related services",
                                    "value": "2725031"
                                },
                                {
                                    "series_id": "CES6054151182",
                                    "industry_code": "60541511",
                                    "industry_name": "Custom computer programming services",
                                    "value": "1173494"
                                },
                                {
                                    "series_id": "CEU6054151182",
                                    "industry_code": "60541511",
                                    "industry_name": "Custom computer programming services",
                                    "value": "1198283"
                                },
                                {
                                    "series_id": "CES6054151182",
                                    "industry_code": "60541511",
                                    "industry_name": "Custom computer programming services",
                                    "value": "1173494"
                                },
                                {
                                    "series_id": "CEU6054151182",
                                    "industry_code": "60541511",
                                    "industry_name": "Custom computer programming services",
                                    "value": "1198283"
                                },
                                {
                                    "series_id": "CES6054151282",
                                    "industry_code": "60541512",
                                    "industry_name": "Computer systems design services",
                                    "value": "1274481"
                                },
                                {
                                    "series_id": "CEU6054151282",
                                    "industry_code": "60541512",
                                    "industry_name": "Computer systems design services",
                                    "value": "1309441"
                                },
                                {
                                    "series_id": "CES6054151282",
                                    "industry_code": "60541512",
                                    "industry_name": "Computer systems design services",
                                    "value": "1274481"
                                },
                                {
                                    "series_id": "CEU6054151282",
                                    "industry_code": "60541512",
                                    "industry_name": "Computer systems design services",
                                    "value": "1309441"
                                },
                                {
                                    "series_id": "CES6054160082",
                                    "industry_code": "60541600",
                                    "industry_name": "Management and technical consulting services",
                                    "value": "1330587"
                                },
                                {
                                    "series_id": "CEU6054160082",
                                    "industry_code": "60541600",
                                    "industry_name": "Management and technical consulting services",
                                    "value": "1336594"
                                },
                                {
                                    "series_id": "CES6054160082",
                                    "industry_code": "60541600",
                                    "industry_name": "Management and technical consulting services",
                                    "value": "1330587"
                                },
                                {
                                    "series_id": "CEU6054160082",
                                    "industry_code": "60541600",
                                    "industry_name": "Management and technical consulting services",
                                    "value": "1336594"
                                },
                                {
                                    "series_id": "CES6054161082",
                                    "industry_code": "60541610",
                                    "industry_name": "Management consulting services",
                                    "value": "1053691"
                                },
                                {
                                    "series_id": "CEU6054161082",
                                    "industry_code": "60541610",
                                    "industry_name": "Management consulting services",
                                    "value": "1066602"
                                },
                                {
                                    "series_id": "CES6054161082",
                                    "industry_code": "60541610",
                                    "industry_name": "Management consulting services",
                                    "value": "1053691"
                                },
                                {
                                    "series_id": "CEU6054161082",
                                    "industry_code": "60541610",
                                    "industry_name": "Management consulting services",
                                    "value": "1066602"
                                },
                                {
                                    "series_id": "CES6055000082",
                                    "industry_code": "60550000",
                                    "industry_name": "Management of companies and enterprises",
                                    "value": "1566036"
                                },
                                {
                                    "series_id": "CEU6055000082",
                                    "industry_code": "60550000",
                                    "industry_name": "Management of companies and enterprises",
                                    "value": "1587677"
                                },
                                {
                                    "series_id": "CES6055000082",
                                    "industry_code": "60550000",
                                    "industry_name": "Management of companies and enterprises",
                                    "value": "1566036"
                                },
                                {
                                    "series_id": "CEU6055000082",
                                    "industry_code": "60550000",
                                    "industry_name": "Management of companies and enterprises",
                                    "value": "1587677"
                                },
                                {
                                    "series_id": "CES6055111482",
                                    "industry_code": "60551114",
                                    "industry_name": "Managing offices",
                                    "value": "1496334"
                                },
                                {
                                    "series_id": "CEU6055111482",
                                    "industry_code": "60551114",
                                    "industry_name": "Managing offices",
                                    "value": "1517287"
                                },
                                {
                                    "series_id": "CES6055111482",
                                    "industry_code": "60551114",
                                    "industry_name": "Managing offices",
                                    "value": "1496334"
                                },
                                {
                                    "series_id": "CEU6055111482",
                                    "industry_code": "60551114",
                                    "industry_name": "Managing offices",
                                    "value": "1517287"
                                },
                                {
                                    "series_id": "CES6056000082",
                                    "industry_code": "60560000",
                                    "industry_name": "Administrative and waste services",
                                    "value": "4886085"
                                },
                                {
                                    "series_id": "CEU6056000082",
                                    "industry_code": "60560000",
                                    "industry_name": "Administrative and waste services",
                                    "value": "4659531"
                                },
                                {
                                    "series_id": "CES6056000082",
                                    "industry_code": "60560000",
                                    "industry_name": "Administrative and waste services",
                                    "value": "4886085"
                                },
                                {
                                    "series_id": "CEU6056000082",
                                    "industry_code": "60560000",
                                    "industry_name": "Administrative and waste services",
                                    "value": "4659531"
                                },
                                {
                                    "series_id": "CES6056100082",
                                    "industry_code": "60561000",
                                    "industry_name": "Administrative and support services",
                                    "value": "4565569"
                                },
                                {
                                    "series_id": "CEU6056100082",
                                    "industry_code": "60561000",
                                    "industry_name": "Administrative and support services",
                                    "value": "4357866"
                                },
                                {
                                    "series_id": "CES6056100082",
                                    "industry_code": "60561000",
                                    "industry_name": "Administrative and support services",
                                    "value": "4565569"
                                },
                                {
                                    "series_id": "CEU6056100082",
                                    "industry_code": "60561000",
                                    "industry_name": "Administrative and support services",
                                    "value": "4357866"
                                },
                                {
                                    "series_id": "CES6056130082",
                                    "industry_code": "60561300",
                                    "industry_name": "Employment services",
                                    "value": "2013846"
                                },
                                {
                                    "series_id": "CEU6056130082",
                                    "industry_code": "60561300",
                                    "industry_name": "Employment services",
                                    "value": "1938059"
                                },
                                {
                                    "series_id": "CES6056130082",
                                    "industry_code": "60561300",
                                    "industry_name": "Employment services",
                                    "value": "2013846"
                                },
                                {
                                    "series_id": "CEU6056130082",
                                    "industry_code": "60561300",
                                    "industry_name": "Employment services",
                                    "value": "1938059"
                                },
                                {
                                    "series_id": "CES6056132082",
                                    "industry_code": "60561320",
                                    "industry_name": "Temporary help services",
                                    "value": "1598939"
                                },
                                {
                                    "series_id": "CEU6056132082",
                                    "industry_code": "60561320",
                                    "industry_name": "Temporary help services",
                                    "value": "1530782"
                                },
                                {
                                    "series_id": "CES6056132082",
                                    "industry_code": "60561320",
                                    "industry_name": "Temporary help services",
                                    "value": "1598939"
                                },
                                {
                                    "series_id": "CEU6056132082",
                                    "industry_code": "60561320",
                                    "industry_name": "Temporary help services",
                                    "value": "1530782"
                                },
                                {
                                    "series_id": "CES6056170082",
                                    "industry_code": "60561700",
                                    "industry_name": "Services to buildings and dwellings",
                                    "value": "846000"
                                },
                                {
                                    "series_id": "CES6056170082",
                                    "industry_code": "60561700",
                                    "industry_name": "Services to buildings and dwellings",
                                    "value": "846000"
                                },
                                {
                                    "series_id": "CES6500000082",
                                    "industry_code": "65000000",
                                    "industry_name": "Education and health services",
                                    "value": "14765156"
                                },
                                {
                                    "series_id": "CEU6500000082",
                                    "industry_code": "65000000",
                                    "industry_name": "Education and health services",
                                    "value": "14816074"
                                },
                                {
                                    "series_id": "CES6500000082",
                                    "industry_code": "65000000",
                                    "industry_name": "Education and health services",
                                    "value": "14765156"
                                },
                                {
                                    "series_id": "CEU6500000082",
                                    "industry_code": "65000000",
                                    "industry_name": "Education and health services",
                                    "value": "14816074"
                                },
                                {
                                    "series_id": "CES6562000082",
                                    "industry_code": "65620000",
                                    "industry_name": "Health care and social assistance",
                                    "value": "12762526"
                                },
                                {
                                    "series_id": "CEU6562000082",
                                    "industry_code": "65620000",
                                    "industry_name": "Health care and social assistance",
                                    "value": "12878462"
                                },
                                {
                                    "series_id": "CES6562000082",
                                    "industry_code": "65620000",
                                    "industry_name": "Health care and social assistance",
                                    "value": "12762526"
                                },
                                {
                                    "series_id": "CEU6562000082",
                                    "industry_code": "65620000",
                                    "industry_name": "Health care and social assistance",
                                    "value": "12878462"
                                },
                                {
                                    "series_id": "CES6562000182",
                                    "industry_code": "65620001",
                                    "industry_name": "NULL",
                                    "value": "11413008"
                                },
                                {
                                    "series_id": "CEU6562000182",
                                    "industry_code": "65620001",
                                    "industry_name": "NULL",
                                    "value": "11537267"
                                },
                                {
                                    "series_id": "CES6562000182",
                                    "industry_code": "65620001",
                                    "industry_name": "NULL",
                                    "value": "11413008"
                                },
                                {
                                    "series_id": "CEU6562000182",
                                    "industry_code": "65620001",
                                    "industry_name": "NULL",
                                    "value": "11537267"
                                },
                                {
                                    "series_id": "CES6562100082",
                                    "industry_code": "65621000",
                                    "industry_name": "Ambulatory health care services",
                                    "value": "4875906"
                                },
                                {
                                    "series_id": "CEU6562100082",
                                    "industry_code": "65621000",
                                    "industry_name": "Ambulatory health care services",
                                    "value": "4907269"
                                },
                                {
                                    "series_id": "CES6562100082",
                                    "industry_code": "65621000",
                                    "industry_name": "Ambulatory health care services",
                                    "value": "4875906"
                                },
                                {
                                    "series_id": "CEU6562100082",
                                    "industry_code": "65621000",
                                    "industry_name": "Ambulatory health care services",
                                    "value": "4907269"
                                },
                                {
                                    "series_id": "CES6562110082",
                                    "industry_code": "65621100",
                                    "industry_name": "Offices of physicians",
                                    "value": "2141331"
                                },
                                {
                                    "series_id": "CEU6562110082",
                                    "industry_code": "65621100",
                                    "industry_name": "Offices of physicians",
                                    "value": "2149121"
                                },
                                {
                                    "series_id": "CES6562110082",
                                    "industry_code": "65621100",
                                    "industry_name": "Offices of physicians",
                                    "value": "2141331"
                                },
                                {
                                    "series_id": "CEU6562110082",
                                    "industry_code": "65621100",
                                    "industry_name": "Offices of physicians",
                                    "value": "2149121"
                                },
                                {
                                    "series_id": "CES6562111182",
                                    "industry_code": "65621111",
                                    "industry_name": "Offices of physicians",
                                    "value": "2113086"
                                },
                                {
                                    "series_id": "CEU6562111182",
                                    "industry_code": "65621111",
                                    "industry_name": "Offices of physicians",
                                    "value": "2121845"
                                },
                                {
                                    "series_id": "CES6562111182",
                                    "industry_code": "65621111",
                                    "industry_name": "Offices of physicians",
                                    "value": "2113086"
                                },
                                {
                                    "series_id": "CEU6562111182",
                                    "industry_code": "65621111",
                                    "industry_name": "Offices of physicians",
                                    "value": "2121845"
                                },
                                {
                                    "series_id": "CES6562200082",
                                    "industry_code": "65622000",
                                    "industry_name": "Hospitals",
                                    "value": "5048432"
                                },
                                {
                                    "series_id": "CEU6562200082",
                                    "industry_code": "65622000",
                                    "industry_name": "Hospitals",
                                    "value": "5105336"
                                },
                                {
                                    "series_id": "CES6562200082",
                                    "industry_code": "65622000",
                                    "industry_name": "Hospitals",
                                    "value": "5048432"
                                },
                                {
                                    "series_id": "CEU6562200082",
                                    "industry_code": "65622000",
                                    "industry_name": "Hospitals",
                                    "value": "5105336"
                                },
                                {
                                    "series_id": "CES6562210082",
                                    "industry_code": "65622100",
                                    "industry_name": "General medical and surgical hospitals",
                                    "value": "4716914"
                                },
                                {
                                    "series_id": "CEU6562210082",
                                    "industry_code": "65622100",
                                    "industry_name": "General medical and surgical hospitals",
                                    "value": "4773547"
                                },
                                {
                                    "series_id": "CES6562210082",
                                    "industry_code": "65622100",
                                    "industry_name": "General medical and surgical hospitals",
                                    "value": "4716914"
                                },
                                {
                                    "series_id": "CEU6562210082",
                                    "industry_code": "65622100",
                                    "industry_name": "General medical and surgical hospitals",
                                    "value": "4773547"
                                },
                                {
                                    "series_id": "CES6562300082",
                                    "industry_code": "65623000",
                                    "industry_name": "Nursing and residential care facilities",
                                    "value": "1489277"
                                },
                                {
                                    "series_id": "CEU6562300082",
                                    "industry_code": "65623000",
                                    "industry_name": "Nursing and residential care facilities",
                                    "value": "1525889"
                                },
                                {
                                    "series_id": "CES6562300082",
                                    "industry_code": "65623000",
                                    "industry_name": "Nursing and residential care facilities",
                                    "value": "1489277"
                                },
                                {
                                    "series_id": "CEU6562300082",
                                    "industry_code": "65623000",
                                    "industry_name": "Nursing and residential care facilities",
                                    "value": "1525889"
                                },
                                {
                                    "series_id": "CES6562400082",
                                    "industry_code": "65624000",
                                    "industry_name": "Social assistance",
                                    "value": "1337022"
                                },
                                {
                                    "series_id": "CEU6562400082",
                                    "industry_code": "65624000",
                                    "industry_name": "Social assistance",
                                    "value": "1357629"
                                },
                                {
                                    "series_id": "CES6562400082",
                                    "industry_code": "65624000",
                                    "industry_name": "Social assistance",
                                    "value": "1337022"
                                },
                                {
                                    "series_id": "CEU6562400082",
                                    "industry_code": "65624000",
                                    "industry_name": "Social assistance",
                                    "value": "1357629"
                                },
                                {
                                    "series_id": "CES6562410082",
                                    "industry_code": "65624100",
                                    "industry_name": "Individual and family services",
                                    "value": "828771"
                                },
                                {
                                    "series_id": "CEU6562410082",
                                    "industry_code": "65624100",
                                    "industry_name": "Individual and family services",
                                    "value": "838886"
                                },
                                {
                                    "series_id": "CES6562410082",
                                    "industry_code": "65624100",
                                    "industry_name": "Individual and family services",
                                    "value": "828771"
                                },
                                {
                                    "series_id": "CEU6562410082",
                                    "industry_code": "65624100",
                                    "industry_name": "Individual and family services",
                                    "value": "838886"
                                },
                                {
                                    "series_id": "CES7000000082",
                                    "industry_code": "70000000",
                                    "industry_name": "Leisure and hospitality",
                                    "value": "4537173"
                                },
                                {
                                    "series_id": "CEU7000000082",
                                    "industry_code": "70000000",
                                    "industry_name": "Leisure and hospitality",
                                    "value": "4224098"
                                },
                                {
                                    "series_id": "CES7000000082",
                                    "industry_code": "70000000",
                                    "industry_name": "Leisure and hospitality",
                                    "value": "4537173"
                                },
                                {
                                    "series_id": "CEU7000000082",
                                    "industry_code": "70000000",
                                    "industry_name": "Leisure and hospitality",
                                    "value": "4224098"
                                },
                                {
                                    "series_id": "CES7072000082",
                                    "industry_code": "70720000",
                                    "industry_name": "Accommodation and food services",
                                    "value": "3802356"
                                },
                                {
                                    "series_id": "CEU7072000082",
                                    "industry_code": "70720000",
                                    "industry_name": "Accommodation and food services",
                                    "value": "3572648"
                                },
                                {
                                    "series_id": "CES7072000082",
                                    "industry_code": "70720000",
                                    "industry_name": "Accommodation and food services",
                                    "value": "3802356"
                                },
                                {
                                    "series_id": "CEU7072000082",
                                    "industry_code": "70720000",
                                    "industry_name": "Accommodation and food services",
                                    "value": "3572648"
                                },
                                {
                                    "series_id": "CES7072200082",
                                    "industry_code": "70722000",
                                    "industry_name": "Food services and drinking places",
                                    "value": "3085429"
                                },
                                {
                                    "series_id": "CEU7072200082",
                                    "industry_code": "70722000",
                                    "industry_name": "Food services and drinking places",
                                    "value": "2913295"
                                },
                                {
                                    "series_id": "CES7072200082",
                                    "industry_code": "70722000",
                                    "industry_name": "Food services and drinking places",
                                    "value": "3085429"
                                },
                                {
                                    "series_id": "CEU7072200082",
                                    "industry_code": "70722000",
                                    "industry_name": "Food services and drinking places",
                                    "value": "2913295"
                                },
                                {
                                    "series_id": "CES7072250082",
                                    "industry_code": "70722500",
                                    "industry_name": "Restaurants and other eating places",
                                    "value": "2768855"
                                },
                                {
                                    "series_id": "CEU7072250082",
                                    "industry_code": "70722500",
                                    "industry_name": "Restaurants and other eating places",
                                    "value": "2617225"
                                },
                                {
                                    "series_id": "CES7072250082",
                                    "industry_code": "70722500",
                                    "industry_name": "Restaurants and other eating places",
                                    "value": "2768855"
                                },
                                {
                                    "series_id": "CEU7072250082",
                                    "industry_code": "70722500",
                                    "industry_name": "Restaurants and other eating places",
                                    "value": "2617225"
                                },
                                {
                                    "series_id": "CES7072251182",
                                    "industry_code": "70722511",
                                    "industry_name": "Full-service restaurants",
                                    "value": "1626780"
                                },
                                {
                                    "series_id": "CEU7072251182",
                                    "industry_code": "70722511",
                                    "industry_name": "Full-service restaurants",
                                    "value": "1528888"
                                },
                                {
                                    "series_id": "CES7072251182",
                                    "industry_code": "70722511",
                                    "industry_name": "Full-service restaurants",
                                    "value": "1626780"
                                },
                                {
                                    "series_id": "CEU7072251182",
                                    "industry_code": "70722511",
                                    "industry_name": "Full-service restaurants",
                                    "value": "1528888"
                                },
                                {
                                    "series_id": "CES7072251382",
                                    "industry_code": "70722513",
                                    "industry_name": "Limited-service restaurants",
                                    "value": "969748"
                                },
                                {
                                    "series_id": "CEU7072251382",
                                    "industry_code": "70722513",
                                    "industry_name": "Limited-service restaurants",
                                    "value": "922041"
                                },
                                {
                                    "series_id": "CES7072251382",
                                    "industry_code": "70722513",
                                    "industry_name": "Limited-service restaurants",
                                    "value": "969748"
                                },
                                {
                                    "series_id": "CEU7072251382",
                                    "industry_code": "70722513",
                                    "industry_name": "Limited-service restaurants",
                                    "value": "922041"
                                },
                                {
                                    "series_id": "CES8000000082",
                                    "industry_code": "80000000",
                                    "industry_name": "Other services",
                                    "value": "2875314"
                                },
                                {
                                    "series_id": "CEU8000000082",
                                    "industry_code": "80000000",
                                    "industry_name": "Other services",
                                    "value": "2836698"
                                },
                                {
                                    "series_id": "CES8000000082",
                                    "industry_code": "80000000",
                                    "industry_name": "Other services",
                                    "value": "2875314"
                                },
                                {
                                    "series_id": "CEU8000000082",
                                    "industry_code": "80000000",
                                    "industry_name": "Other services",
                                    "value": "2836698"
                                },
                                {
                                    "series_id": "CES8081300082",
                                    "industry_code": "80813000",
                                    "industry_name": "Membership associations and organizations",
                                    "value": "1599916"
                                },
                                {
                                    "series_id": "CEU8081300082",
                                    "industry_code": "80813000",
                                    "industry_name": "Membership associations and organizations",
                                    "value": "1594855"
                                },
                                {
                                    "series_id": "CES8081300082",
                                    "industry_code": "80813000",
                                    "industry_name": "Membership associations and organizations",
                                    "value": "1599916"
                                },
                                {
                                    "series_id": "CEU8081300082",
                                    "industry_code": "80813000",
                                    "industry_name": "Membership associations and organizations",
                                    "value": "1594855"
                                }
                            ]
                        },
                        "text/html": "<table><tr><th>series_id</th><th>industry_code</th><th>industry_name</th><th>value</th></tr><tr><td>CES0500000082</td><td>5000000</td><td>Total private</td><td>74498171</td></tr><tr><td>CEU0500000082</td><td>5000000</td><td>Total private</td><td>73474302</td></tr><tr><td>CES0500000082</td><td>5000000</td><td>Total private</td><td>74498171</td></tr><tr><td>CEU0500000082</td><td>5000000</td><td>Total private</td><td>73474302</td></tr><tr><td>CES0600000082</td><td>6000000</td><td>Goods-producing</td><td>13426820</td></tr><tr><td>CEU0600000082</td><td>6000000</td><td>Goods-producing</td><td>12711945</td></tr><tr><td>CES0600000082</td><td>6000000</td><td>Goods-producing</td><td>13426820</td></tr><tr><td>CEU0600000082</td><td>6000000</td><td>Goods-producing</td><td>12711945</td></tr><tr><td>CES0800000082</td><td>8000000</td><td>Private service-providing</td><td>60914722</td></tr><tr><td>CEU0800000082</td><td>8000000</td><td>Private service-providing</td><td>60807771</td></tr><tr><td>CES0800000082</td><td>8000000</td><td>Private service-providing</td><td>60914722</td></tr><tr><td>CEU0800000082</td><td>8000000</td><td>Private service-providing</td><td>60807771</td></tr><tr><td>CES2000000082</td><td>20000000</td><td>Construction</td><td>5335274</td></tr><tr><td>CEU2000000082</td><td>20000000</td><td>Construction</td><td>4724156</td></tr><tr><td>CES2000000082</td><td>20000000</td><td>Construction</td><td>5335274</td></tr><tr><td>CEU2000000082</td><td>20000000</td><td>Construction</td><td>4724156</td></tr><tr><td>CES2023600082</td><td>20236000</td><td>Construction of buildings</td><td>1008035</td></tr><tr><td>CEU2023600082</td><td>20236000</td><td>Construction of buildings</td><td>940800</td></tr><tr><td>CES2023600082</td><td>20236000</td><td>Construction of buildings</td><td>1008035</td></tr><tr><td>CEU2023600082</td><td>20236000</td><td>Construction of buildings</td><td>940800</td></tr><tr><td>CES2023700082</td><td>20237000</td><td>Heavy and civil engineering construction</td><td>908374</td></tr><tr><td>CES2023700082</td><td>20237000</td><td>Heavy and civil engineering construction</td><td>908374</td></tr><tr><td>CES2023800082</td><td>20238000</td><td>Specialty trade contractors</td><td>3421902</td></tr><tr><td>CEU2023800082</td><td>20238000</td><td>Specialty trade contractors</td><td>3062211</td></tr><tr><td>CES2023800082</td><td>20238000</td><td>Specialty trade contractors</td><td>3421902</td></tr><tr><td>CEU2023800082</td><td>20238000</td><td>Specialty trade contractors</td><td>3062211</td></tr><tr><td>CES2023820082</td><td>20238200</td><td>Building equipment contractors</td><td>1696080</td></tr><tr><td>CEU2023820082</td><td>20238200</td><td>Building equipment contractors</td><td>1621266</td></tr><tr><td>CES2023820082</td><td>20238200</td><td>Building equipment contractors</td><td>1696080</td></tr><tr><td>CEU2023820082</td><td>20238200</td><td>Building equipment contractors</td><td>1621266</td></tr><tr><td>CES3000000082</td><td>30000000</td><td>Manufacturing</td><td>7491723</td></tr><tr><td>CEU3000000082</td><td>30000000</td><td>Manufacturing</td><td>7411960</td></tr><tr><td>CES3000000082</td><td>30000000</td><td>Manufacturing</td><td>7491723</td></tr><tr><td>CEU3000000082</td><td>30000000</td><td>Manufacturing</td><td>7411960</td></tr><tr><td>CES3100000082</td><td>31000000</td><td>Durable goods</td><td>4859716</td></tr><tr><td>CEU3100000082</td><td>31000000</td><td>Durable goods</td><td>4808368</td></tr><tr><td>CES3100000082</td><td>31000000</td><td>Durable goods</td><td>4859716</td></tr><tr><td>CEU3100000082</td><td>31000000</td><td>Durable goods</td><td>4808368</td></tr><tr><td>CES3133200082</td><td>31332000</td><td>Fabricated metal products</td><td>871298</td></tr><tr><td>CEU3133200082</td><td>31332000</td><td>Fabricated metal products</td><td>867242</td></tr><tr><td>CES3133200082</td><td>31332000</td><td>Fabricated metal products</td><td>871298</td></tr><tr><td>CEU3133200082</td><td>31332000</td><td>Fabricated metal products</td><td>867242</td></tr><tr><td>CES3133600082</td><td>31336000</td><td>Transportation equipment</td><td>1257764</td></tr><tr><td>CEU3133600082</td><td>31336000</td><td>Transportation equipment</td><td>1242685</td></tr><tr><td>CES3133600082</td><td>31336000</td><td>Transportation equipment</td><td>1257764</td></tr><tr><td>CEU3133600082</td><td>31336000</td><td>Transportation equipment</td><td>1242685</td></tr><tr><td>CES3200000082</td><td>32000000</td><td>Nondurable goods</td><td>2633628</td></tr><tr><td>CEU3200000082</td><td>32000000</td><td>Nondurable goods</td><td>2605069</td></tr><tr><td>CES3200000082</td><td>32000000</td><td>Nondurable goods</td><td>2633628</td></tr><tr><td>CEU3200000082</td><td>32000000</td><td>Nondurable goods</td><td>2605069</td></tr><tr><td>CES3231100082</td><td>32311000</td><td>Food manufacturing</td><td>851406</td></tr><tr><td>CEU3231100082</td><td>32311000</td><td>Food manufacturing</td><td>842201</td></tr><tr><td>CES3231100082</td><td>32311000</td><td>Food manufacturing</td><td>851406</td></tr><tr><td>CEU3231100082</td><td>32311000</td><td>Food manufacturing</td><td>842201</td></tr><tr><td>CES4000000082</td><td>40000000</td><td>Trade</td><td>14850661</td></tr><tr><td>CEU4000000082</td><td>40000000</td><td>Trade</td><td>14732108</td></tr><tr><td>CES4000000082</td><td>40000000</td><td>Trade</td><td>14850661</td></tr><tr><td>CEU4000000082</td><td>40000000</td><td>Trade</td><td>14732108</td></tr><tr><td>CES4142000082</td><td>41420000</td><td>Wholesale trade</td><td>4480134</td></tr><tr><td>CEU4142000082</td><td>41420000</td><td>Wholesale trade</td><td>4506110</td></tr><tr><td>CES4142000082</td><td>41420000</td><td>Wholesale trade</td><td>4480134</td></tr><tr><td>CEU4142000082</td><td>41420000</td><td>Wholesale trade</td><td>4506110</td></tr><tr><td>CES4142300082</td><td>41423000</td><td>Durable goods</td><td>2261006</td></tr><tr><td>CEU4142300082</td><td>41423000</td><td>Durable goods</td><td>2283094</td></tr><tr><td>CES4142300082</td><td>41423000</td><td>Durable goods</td><td>2261006</td></tr><tr><td>CEU4142300082</td><td>41423000</td><td>Durable goods</td><td>2283094</td></tr><tr><td>CES4142400082</td><td>41424000</td><td>Nondurable goods</td><td>1367413</td></tr><tr><td>CEU4142400082</td><td>41424000</td><td>Nondurable goods</td><td>1348136</td></tr><tr><td>CES4142400082</td><td>41424000</td><td>Nondurable goods</td><td>1367413</td></tr><tr><td>CEU4142400082</td><td>41424000</td><td>Nondurable goods</td><td>1348136</td></tr><tr><td>CES4142500082</td><td>41425000</td><td>Electronic markets and agents and brokers</td><td>855291</td></tr><tr><td>CEU4142500082</td><td>41425000</td><td>Electronic markets and agents and brokers</td><td>873578</td></tr><tr><td>CES4142500082</td><td>41425000</td><td>Electronic markets and agents and brokers</td><td>855291</td></tr><tr><td>CEU4142500082</td><td>41425000</td><td>Electronic markets and agents and brokers</td><td>873578</td></tr><tr><td>CES4142512082</td><td>41425120</td><td>Wholesale trade agents and brokers</td><td>831319</td></tr><tr><td>CEU4142512082</td><td>41425120</td><td>Wholesale trade agents and brokers</td><td>851551</td></tr><tr><td>CES4142512082</td><td>41425120</td><td>Wholesale trade agents and brokers</td><td>831319</td></tr><tr><td>CEU4142512082</td><td>41425120</td><td>Wholesale trade agents and brokers</td><td>851551</td></tr><tr><td>CES4200000082</td><td>42000000</td><td>Retail trade</td><td>6123554</td></tr><tr><td>CEU4200000082</td><td>42000000</td><td>Retail trade</td><td>6060100</td></tr><tr><td>CES4200000082</td><td>42000000</td><td>Retail trade</td><td>6123554</td></tr><tr><td>CEU4200000082</td><td>42000000</td><td>Retail trade</td><td>6060100</td></tr><tr><td>CES4244100082</td><td>42441000</td><td>Motor vehicle and parts dealers</td><td>1180297</td></tr><tr><td>CEU4244100082</td><td>42441000</td><td>Motor vehicle and parts dealers</td><td>1163420</td></tr><tr><td>CES4244100082</td><td>42441000</td><td>Motor vehicle and parts dealers</td><td>1180297</td></tr><tr><td>CEU4244100082</td><td>42441000</td><td>Motor vehicle and parts dealers</td><td>1163420</td></tr><tr><td>CES4244110082</td><td>42441100</td><td>Automobile dealers</td><td>839595</td></tr><tr><td>CEU4244110082</td><td>42441100</td><td>Automobile dealers</td><td>831131</td></tr><tr><td>CES4244110082</td><td>42441100</td><td>Automobile dealers</td><td>839595</td></tr><tr><td>CEU4244110082</td><td>42441100</td><td>Automobile dealers</td><td>831131</td></tr><tr><td>CES4244500082</td><td>42445000</td><td>Food and beverage stores</td><td>974710</td></tr><tr><td>CEU4244500082</td><td>42445000</td><td>Food and beverage stores</td><td>963315</td></tr><tr><td>CES4244500082</td><td>42445000</td><td>Food and beverage stores</td><td>974710</td></tr><tr><td>CEU4244500082</td><td>42445000</td><td>Food and beverage stores</td><td>963315</td></tr><tr><td>CES4244510082</td><td>42445100</td><td>Grocery stores</td><td>868430</td></tr><tr><td>CEU4244510082</td><td>42445100</td><td>Grocery stores</td><td>861224</td></tr><tr><td>CES4244510082</td><td>42445100</td><td>Grocery stores</td><td>868430</td></tr><tr><td>CEU4244510082</td><td>42445100</td><td>Grocery stores</td><td>861224</td></tr><tr><td>CES4244511082</td><td>42445110</td><td>Supermarkets and other grocery stores</td><td>821282</td></tr><tr><td>CES4244511082</td><td>42445110</td><td>Supermarkets and other grocery stores</td><td>821282</td></tr><tr><td>CES4245200082</td><td>42452000</td><td>General merchandise stores</td><td>1065807</td></tr><tr><td>CEU4245200082</td><td>42452000</td><td>General merchandise stores</td><td>1049973</td></tr><tr><td>CES4245200082</td><td>42452000</td><td>General merchandise stores</td><td>1065807</td></tr><tr><td>CEU4245200082</td><td>42452000</td><td>General merchandise stores</td><td>1049973</td></tr><tr><td>CES4300000082</td><td>43000000</td><td>Transportation and warehousing</td><td>3538683</td></tr><tr><td>CEU4300000082</td><td>43000000</td><td>Transportation and warehousing</td><td>3495553</td></tr><tr><td>CES4300000082</td><td>43000000</td><td>Transportation and warehousing</td><td>3538683</td></tr><tr><td>CEU4300000082</td><td>43000000</td><td>Transportation and warehousing</td><td>3495553</td></tr><tr><td>CES4348400082</td><td>43484000</td><td>Truck transportation</td><td>1131821</td></tr><tr><td>CEU4348400082</td><td>43484000</td><td>Truck transportation</td><td>1092427</td></tr><tr><td>CES4348400082</td><td>43484000</td><td>Truck transportation</td><td>1131821</td></tr><tr><td>CEU4348400082</td><td>43484000</td><td>Truck transportation</td><td>1092427</td></tr><tr><td>CES5000000082</td><td>50000000</td><td>Information</td><td>2416443</td></tr><tr><td>CEU5000000082</td><td>50000000</td><td>Information</td><td>2434992</td></tr><tr><td>CES5000000082</td><td>50000000</td><td>Information</td><td>2416443</td></tr><tr><td>CEU5000000082</td><td>50000000</td><td>Information</td><td>2434992</td></tr><tr><td>CES5500000082</td><td>55000000</td><td>Financial activities</td><td>6328968</td></tr><tr><td>CEU5500000082</td><td>55000000</td><td>Financial activities</td><td>6467426</td></tr><tr><td>CES5500000082</td><td>55000000</td><td>Financial activities</td><td>6328968</td></tr><tr><td>CEU5500000082</td><td>55000000</td><td>Financial activities</td><td>6467426</td></tr><tr><td>CES5552200082</td><td>55522000</td><td>Credit intermediation and related activities</td><td>1717912</td></tr><tr><td>CEU5552200082</td><td>55522000</td><td>Credit intermediation and related activities</td><td>1767137</td></tr><tr><td>CES5552200082</td><td>55522000</td><td>Credit intermediation and related activities</td><td>1717912</td></tr><tr><td>CEU5552200082</td><td>55522000</td><td>Credit intermediation and related activities</td><td>1767137</td></tr><tr><td>CES5552210082</td><td>55522100</td><td>Depository credit intermediation</td><td>971796</td></tr><tr><td>CEU5552210082</td><td>55522100</td><td>Depository credit intermediation</td><td>1004069</td></tr><tr><td>CES5552210082</td><td>55522100</td><td>Depository credit intermediation</td><td>971796</td></tr><tr><td>CEU5552210082</td><td>55522100</td><td>Depository credit intermediation</td><td>1004069</td></tr><tr><td>CES5552300082</td><td>55523000</td><td>NULL</td><td>1044224</td></tr><tr><td>CEU5552300082</td><td>55523000</td><td>NULL</td><td>1087325</td></tr><tr><td>CES5552300082</td><td>55523000</td><td>NULL</td><td>1044224</td></tr><tr><td>CEU5552300082</td><td>55523000</td><td>NULL</td><td>1087325</td></tr><tr><td>CES5552400082</td><td>55524000</td><td>Insurance carriers and related activities</td><td>2347328</td></tr><tr><td>CEU5552400082</td><td>55524000</td><td>Insurance carriers and related activities</td><td>2408490</td></tr><tr><td>CES5552400082</td><td>55524000</td><td>Insurance carriers and related activities</td><td>2347328</td></tr><tr><td>CEU5552400082</td><td>55524000</td><td>Insurance carriers and related activities</td><td>2408490</td></tr><tr><td>CES5552410082</td><td>55524100</td><td>Insurance carriers</td><td>1477799</td></tr><tr><td>CEU5552410082</td><td>55524100</td><td>Insurance carriers</td><td>1509979</td></tr><tr><td>CES5552410082</td><td>55524100</td><td>Insurance carriers</td><td>1477799</td></tr><tr><td>CEU5552410082</td><td>55524100</td><td>Insurance carriers</td><td>1509979</td></tr><tr><td>CES5552420082</td><td>55524200</td><td>Insurance agencies</td><td>872398</td></tr><tr><td>CEU5552420082</td><td>55524200</td><td>Insurance agencies</td><td>894878</td></tr><tr><td>CES5552420082</td><td>55524200</td><td>Insurance agencies</td><td>872398</td></tr><tr><td>CEU5552420082</td><td>55524200</td><td>Insurance agencies</td><td>894878</td></tr><tr><td>CES5553100082</td><td>55531000</td><td>Real estate</td><td>862987</td></tr><tr><td>CEU5553100082</td><td>55531000</td><td>Real estate</td><td>865620</td></tr><tr><td>CES5553100082</td><td>55531000</td><td>Real estate</td><td>862987</td></tr><tr><td>CEU5553100082</td><td>55531000</td><td>Real estate</td><td>865620</td></tr><tr><td>CES6000000082</td><td>60000000</td><td>Professional and business services</td><td>15251268</td></tr><tr><td>CEU6000000082</td><td>60000000</td><td>Professional and business services</td><td>15219807</td></tr><tr><td>CES6000000082</td><td>60000000</td><td>Professional and business services</td><td>15251268</td></tr><tr><td>CEU6000000082</td><td>60000000</td><td>Professional and business services</td><td>15219807</td></tr><tr><td>CES6054000082</td><td>60540000</td><td>Professional and technical services</td><td>8821026</td></tr><tr><td>CEU6054000082</td><td>60540000</td><td>Professional and technical services</td><td>8976687</td></tr><tr><td>CES6054000082</td><td>60540000</td><td>Professional and technical services</td><td>8821026</td></tr><tr><td>CEU6054000082</td><td>60540000</td><td>Professional and technical services</td><td>8976687</td></tr><tr><td>CES6054110082</td><td>60541100</td><td>Legal services</td><td>1058862</td></tr><tr><td>CEU6054110082</td><td>60541100</td><td>Legal services</td><td>1093898</td></tr><tr><td>CES6054110082</td><td>60541100</td><td>Legal services</td><td>1058862</td></tr><tr><td>CEU6054110082</td><td>60541100</td><td>Legal services</td><td>1093898</td></tr><tr><td>CES6054111082</td><td>60541110</td><td>Offices of lawyers</td><td>1004009</td></tr><tr><td>CEU6054111082</td><td>60541110</td><td>Offices of lawyers</td><td>1038464</td></tr><tr><td>CES6054111082</td><td>60541110</td><td>Offices of lawyers</td><td>1004009</td></tr><tr><td>CEU6054111082</td><td>60541110</td><td>Offices of lawyers</td><td>1038464</td></tr><tr><td>CES6054130082</td><td>60541300</td><td>Architectural and engineering services</td><td>1439445</td></tr><tr><td>CEU6054130082</td><td>60541300</td><td>Architectural and engineering services</td><td>1422967</td></tr><tr><td>CES6054130082</td><td>60541300</td><td>Architectural and engineering services</td><td>1439445</td></tr><tr><td>CEU6054130082</td><td>60541300</td><td>Architectural and engineering services</td><td>1422967</td></tr><tr><td>CES6054134082</td><td>60541340</td><td>NULL</td><td>1051499</td></tr><tr><td>CEU6054134082</td><td>60541340</td><td>NULL</td><td>1042223</td></tr><tr><td>CES6054134082</td><td>60541340</td><td>NULL</td><td>1051499</td></tr><tr><td>CEU6054134082</td><td>60541340</td><td>NULL</td><td>1042223</td></tr><tr><td>CES6054150082</td><td>60541500</td><td>Computer systems design and related services</td><td>2666568</td></tr><tr><td>CEU6054150082</td><td>60541500</td><td>Computer systems design and related services</td><td>2725031</td></tr><tr><td>CES6054150082</td><td>60541500</td><td>Computer systems design and related services</td><td>2666568</td></tr><tr><td>CEU6054150082</td><td>60541500</td><td>Computer systems design and related services</td><td>2725031</td></tr><tr><td>CES6054151182</td><td>60541511</td><td>Custom computer programming services</td><td>1173494</td></tr><tr><td>CEU6054151182</td><td>60541511</td><td>Custom computer programming services</td><td>1198283</td></tr><tr><td>CES6054151182</td><td>60541511</td><td>Custom computer programming services</td><td>1173494</td></tr><tr><td>CEU6054151182</td><td>60541511</td><td>Custom computer programming services</td><td>1198283</td></tr><tr><td>CES6054151282</td><td>60541512</td><td>Computer systems design services</td><td>1274481</td></tr><tr><td>CEU6054151282</td><td>60541512</td><td>Computer systems design services</td><td>1309441</td></tr><tr><td>CES6054151282</td><td>60541512</td><td>Computer systems design services</td><td>1274481</td></tr><tr><td>CEU6054151282</td><td>60541512</td><td>Computer systems design services</td><td>1309441</td></tr><tr><td>CES6054160082</td><td>60541600</td><td>Management and technical consulting services</td><td>1330587</td></tr><tr><td>CEU6054160082</td><td>60541600</td><td>Management and technical consulting services</td><td>1336594</td></tr><tr><td>CES6054160082</td><td>60541600</td><td>Management and technical consulting services</td><td>1330587</td></tr><tr><td>CEU6054160082</td><td>60541600</td><td>Management and technical consulting services</td><td>1336594</td></tr><tr><td>CES6054161082</td><td>60541610</td><td>Management consulting services</td><td>1053691</td></tr><tr><td>CEU6054161082</td><td>60541610</td><td>Management consulting services</td><td>1066602</td></tr><tr><td>CES6054161082</td><td>60541610</td><td>Management consulting services</td><td>1053691</td></tr><tr><td>CEU6054161082</td><td>60541610</td><td>Management consulting services</td><td>1066602</td></tr><tr><td>CES6055000082</td><td>60550000</td><td>Management of companies and enterprises</td><td>1566036</td></tr><tr><td>CEU6055000082</td><td>60550000</td><td>Management of companies and enterprises</td><td>1587677</td></tr><tr><td>CES6055000082</td><td>60550000</td><td>Management of companies and enterprises</td><td>1566036</td></tr><tr><td>CEU6055000082</td><td>60550000</td><td>Management of companies and enterprises</td><td>1587677</td></tr><tr><td>CES6055111482</td><td>60551114</td><td>Managing offices</td><td>1496334</td></tr><tr><td>CEU6055111482</td><td>60551114</td><td>Managing offices</td><td>1517287</td></tr><tr><td>CES6055111482</td><td>60551114</td><td>Managing offices</td><td>1496334</td></tr><tr><td>CEU6055111482</td><td>60551114</td><td>Managing offices</td><td>1517287</td></tr><tr><td>CES6056000082</td><td>60560000</td><td>Administrative and waste services</td><td>4886085</td></tr><tr><td>CEU6056000082</td><td>60560000</td><td>Administrative and waste services</td><td>4659531</td></tr><tr><td>CES6056000082</td><td>60560000</td><td>Administrative and waste services</td><td>4886085</td></tr><tr><td>CEU6056000082</td><td>60560000</td><td>Administrative and waste services</td><td>4659531</td></tr><tr><td>CES6056100082</td><td>60561000</td><td>Administrative and support services</td><td>4565569</td></tr><tr><td>CEU6056100082</td><td>60561000</td><td>Administrative and support services</td><td>4357866</td></tr><tr><td>CES6056100082</td><td>60561000</td><td>Administrative and support services</td><td>4565569</td></tr><tr><td>CEU6056100082</td><td>60561000</td><td>Administrative and support services</td><td>4357866</td></tr><tr><td>CES6056130082</td><td>60561300</td><td>Employment services</td><td>2013846</td></tr><tr><td>CEU6056130082</td><td>60561300</td><td>Employment services</td><td>1938059</td></tr><tr><td>CES6056130082</td><td>60561300</td><td>Employment services</td><td>2013846</td></tr><tr><td>CEU6056130082</td><td>60561300</td><td>Employment services</td><td>1938059</td></tr><tr><td>CES6056132082</td><td>60561320</td><td>Temporary help services</td><td>1598939</td></tr><tr><td>CEU6056132082</td><td>60561320</td><td>Temporary help services</td><td>1530782</td></tr><tr><td>CES6056132082</td><td>60561320</td><td>Temporary help services</td><td>1598939</td></tr><tr><td>CEU6056132082</td><td>60561320</td><td>Temporary help services</td><td>1530782</td></tr><tr><td>CES6056170082</td><td>60561700</td><td>Services to buildings and dwellings</td><td>846000</td></tr><tr><td>CES6056170082</td><td>60561700</td><td>Services to buildings and dwellings</td><td>846000</td></tr><tr><td>CES6500000082</td><td>65000000</td><td>Education and health services</td><td>14765156</td></tr><tr><td>CEU6500000082</td><td>65000000</td><td>Education and health services</td><td>14816074</td></tr><tr><td>CES6500000082</td><td>65000000</td><td>Education and health services</td><td>14765156</td></tr><tr><td>CEU6500000082</td><td>65000000</td><td>Education and health services</td><td>14816074</td></tr><tr><td>CES6562000082</td><td>65620000</td><td>Health care and social assistance</td><td>12762526</td></tr><tr><td>CEU6562000082</td><td>65620000</td><td>Health care and social assistance</td><td>12878462</td></tr><tr><td>CES6562000082</td><td>65620000</td><td>Health care and social assistance</td><td>12762526</td></tr><tr><td>CEU6562000082</td><td>65620000</td><td>Health care and social assistance</td><td>12878462</td></tr><tr><td>CES6562000182</td><td>65620001</td><td>NULL</td><td>11413008</td></tr><tr><td>CEU6562000182</td><td>65620001</td><td>NULL</td><td>11537267</td></tr><tr><td>CES6562000182</td><td>65620001</td><td>NULL</td><td>11413008</td></tr><tr><td>CEU6562000182</td><td>65620001</td><td>NULL</td><td>11537267</td></tr><tr><td>CES6562100082</td><td>65621000</td><td>Ambulatory health care services</td><td>4875906</td></tr><tr><td>CEU6562100082</td><td>65621000</td><td>Ambulatory health care services</td><td>4907269</td></tr><tr><td>CES6562100082</td><td>65621000</td><td>Ambulatory health care services</td><td>4875906</td></tr><tr><td>CEU6562100082</td><td>65621000</td><td>Ambulatory health care services</td><td>4907269</td></tr><tr><td>CES6562110082</td><td>65621100</td><td>Offices of physicians</td><td>2141331</td></tr><tr><td>CEU6562110082</td><td>65621100</td><td>Offices of physicians</td><td>2149121</td></tr><tr><td>CES6562110082</td><td>65621100</td><td>Offices of physicians</td><td>2141331</td></tr><tr><td>CEU6562110082</td><td>65621100</td><td>Offices of physicians</td><td>2149121</td></tr><tr><td>CES6562111182</td><td>65621111</td><td>Offices of physicians</td><td>2113086</td></tr><tr><td>CEU6562111182</td><td>65621111</td><td>Offices of physicians</td><td>2121845</td></tr><tr><td>CES6562111182</td><td>65621111</td><td>Offices of physicians</td><td>2113086</td></tr><tr><td>CEU6562111182</td><td>65621111</td><td>Offices of physicians</td><td>2121845</td></tr><tr><td>CES6562200082</td><td>65622000</td><td>Hospitals</td><td>5048432</td></tr><tr><td>CEU6562200082</td><td>65622000</td><td>Hospitals</td><td>5105336</td></tr><tr><td>CES6562200082</td><td>65622000</td><td>Hospitals</td><td>5048432</td></tr><tr><td>CEU6562200082</td><td>65622000</td><td>Hospitals</td><td>5105336</td></tr><tr><td>CES6562210082</td><td>65622100</td><td>General medical and surgical hospitals</td><td>4716914</td></tr><tr><td>CEU6562210082</td><td>65622100</td><td>General medical and surgical hospitals</td><td>4773547</td></tr><tr><td>CES6562210082</td><td>65622100</td><td>General medical and surgical hospitals</td><td>4716914</td></tr><tr><td>CEU6562210082</td><td>65622100</td><td>General medical and surgical hospitals</td><td>4773547</td></tr><tr><td>CES6562300082</td><td>65623000</td><td>Nursing and residential care facilities</td><td>1489277</td></tr><tr><td>CEU6562300082</td><td>65623000</td><td>Nursing and residential care facilities</td><td>1525889</td></tr><tr><td>CES6562300082</td><td>65623000</td><td>Nursing and residential care facilities</td><td>1489277</td></tr><tr><td>CEU6562300082</td><td>65623000</td><td>Nursing and residential care facilities</td><td>1525889</td></tr><tr><td>CES6562400082</td><td>65624000</td><td>Social assistance</td><td>1337022</td></tr><tr><td>CEU6562400082</td><td>65624000</td><td>Social assistance</td><td>1357629</td></tr><tr><td>CES6562400082</td><td>65624000</td><td>Social assistance</td><td>1337022</td></tr><tr><td>CEU6562400082</td><td>65624000</td><td>Social assistance</td><td>1357629</td></tr><tr><td>CES6562410082</td><td>65624100</td><td>Individual and family services</td><td>828771</td></tr><tr><td>CEU6562410082</td><td>65624100</td><td>Individual and family services</td><td>838886</td></tr><tr><td>CES6562410082</td><td>65624100</td><td>Individual and family services</td><td>828771</td></tr><tr><td>CEU6562410082</td><td>65624100</td><td>Individual and family services</td><td>838886</td></tr><tr><td>CES7000000082</td><td>70000000</td><td>Leisure and hospitality</td><td>4537173</td></tr><tr><td>CEU7000000082</td><td>70000000</td><td>Leisure and hospitality</td><td>4224098</td></tr><tr><td>CES7000000082</td><td>70000000</td><td>Leisure and hospitality</td><td>4537173</td></tr><tr><td>CEU7000000082</td><td>70000000</td><td>Leisure and hospitality</td><td>4224098</td></tr><tr><td>CES7072000082</td><td>70720000</td><td>Accommodation and food services</td><td>3802356</td></tr><tr><td>CEU7072000082</td><td>70720000</td><td>Accommodation and food services</td><td>3572648</td></tr><tr><td>CES7072000082</td><td>70720000</td><td>Accommodation and food services</td><td>3802356</td></tr><tr><td>CEU7072000082</td><td>70720000</td><td>Accommodation and food services</td><td>3572648</td></tr><tr><td>CES7072200082</td><td>70722000</td><td>Food services and drinking places</td><td>3085429</td></tr><tr><td>CEU7072200082</td><td>70722000</td><td>Food services and drinking places</td><td>2913295</td></tr><tr><td>CES7072200082</td><td>70722000</td><td>Food services and drinking places</td><td>3085429</td></tr><tr><td>CEU7072200082</td><td>70722000</td><td>Food services and drinking places</td><td>2913295</td></tr><tr><td>CES7072250082</td><td>70722500</td><td>Restaurants and other eating places</td><td>2768855</td></tr><tr><td>CEU7072250082</td><td>70722500</td><td>Restaurants and other eating places</td><td>2617225</td></tr><tr><td>CES7072250082</td><td>70722500</td><td>Restaurants and other eating places</td><td>2768855</td></tr><tr><td>CEU7072250082</td><td>70722500</td><td>Restaurants and other eating places</td><td>2617225</td></tr><tr><td>CES7072251182</td><td>70722511</td><td>Full-service restaurants</td><td>1626780</td></tr><tr><td>CEU7072251182</td><td>70722511</td><td>Full-service restaurants</td><td>1528888</td></tr><tr><td>CES7072251182</td><td>70722511</td><td>Full-service restaurants</td><td>1626780</td></tr><tr><td>CEU7072251182</td><td>70722511</td><td>Full-service restaurants</td><td>1528888</td></tr><tr><td>CES7072251382</td><td>70722513</td><td>Limited-service restaurants</td><td>969748</td></tr><tr><td>CEU7072251382</td><td>70722513</td><td>Limited-service restaurants</td><td>922041</td></tr><tr><td>CES7072251382</td><td>70722513</td><td>Limited-service restaurants</td><td>969748</td></tr><tr><td>CEU7072251382</td><td>70722513</td><td>Limited-service restaurants</td><td>922041</td></tr><tr><td>CES8000000082</td><td>80000000</td><td>Other services</td><td>2875314</td></tr><tr><td>CEU8000000082</td><td>80000000</td><td>Other services</td><td>2836698</td></tr><tr><td>CES8000000082</td><td>80000000</td><td>Other services</td><td>2875314</td></tr><tr><td>CEU8000000082</td><td>80000000</td><td>Other services</td><td>2836698</td></tr><tr><td>CES8081300082</td><td>80813000</td><td>Membership associations and organizations</td><td>1599916</td></tr><tr><td>CEU8081300082</td><td>80813000</td><td>Membership associations and organizations</td><td>1594855</td></tr><tr><td>CES8081300082</td><td>80813000</td><td>Membership associations and organizations</td><td>1599916</td></tr><tr><td>CEU8081300082</td><td>80813000</td><td>Membership associations and organizations</td><td>1594855</td></tr></table>"
                    },
                    "metadata": {}
                }
            ],
            "execution_count": 32
        },
        {
            "cell_type": "markdown",
            "source": [
                "**Optional Bonus Question:** Write the above query as a common table expression!"
            ],
            "metadata": {
                "language": "sql",
                "azdata_cell_guid": "21baa05a-e30c-4993-a63e-1e221bb27aa6"
            },
            "attachments": {}
        },
        {
            "cell_type": "code",
            "source": [
                "use LaborStatisticsDB;\n",
                "\n",
                "-- CTE to calculate the avg value of annual_2016 with data_type_code=82 parsed from its series_id.\n",
                "with cte_annual_16_data_type_code_82 as \n",
                "(\n",
                "    select avg(value) as avg_value\n",
                "    from annual_2016\n",
                "    -- filtering records from annual_2016 with data_type_code=82 parsed from its series_id.\n",
                "    where right(series_id,2) = 82\n",
                ")\n",
                "\n",
                "\n",
                "select j.series_id, i.industry_code, i.industry_name, j.value\n",
                "from january_2017 j \n",
                "\n",
                "-- joining the January_2017 and industry tables to display the required columns\n",
                "inner join industry i on SUBSTRING(j.series_id,4,8) = i.industry_code\n",
                "\n",
                "-- filtering records using the cte \n",
                "where j.[value] > (\n",
                "                    select *\n",
                "                    from cte_annual_16_data_type_code_82\n",
                "                    )\n",
                "        and \n",
                "        right(j.series_id,2) = 82;\n",
                ""
            ],
            "metadata": {
                "language": "sql",
                "azdata_cell_guid": "a816a7e7-2175-446c-b4e4-4a3d6667d281"
            },
            "outputs": [
                {
                    "output_type": "display_data",
                    "data": {
                        "text/html": "(294 rows affected)"
                    },
                    "metadata": {}
                },
                {
                    "output_type": "display_data",
                    "data": {
                        "text/html": "Total execution time: 00:00:00.195"
                    },
                    "metadata": {}
                },
                {
                    "output_type": "execute_result",
                    "execution_count": 33,
                    "data": {
                        "application/vnd.dataresource+json": {
                            "schema": {
                                "fields": [
                                    {
                                        "name": "series_id"
                                    },
                                    {
                                        "name": "industry_code"
                                    },
                                    {
                                        "name": "industry_name"
                                    },
                                    {
                                        "name": "value"
                                    }
                                ]
                            },
                            "data": [
                                {
                                    "series_id": "CES0500000082",
                                    "industry_code": "5000000",
                                    "industry_name": "Total private",
                                    "value": "74498171"
                                },
                                {
                                    "series_id": "CEU0500000082",
                                    "industry_code": "5000000",
                                    "industry_name": "Total private",
                                    "value": "73474302"
                                },
                                {
                                    "series_id": "CES0500000082",
                                    "industry_code": "5000000",
                                    "industry_name": "Total private",
                                    "value": "74498171"
                                },
                                {
                                    "series_id": "CEU0500000082",
                                    "industry_code": "5000000",
                                    "industry_name": "Total private",
                                    "value": "73474302"
                                },
                                {
                                    "series_id": "CES0600000082",
                                    "industry_code": "6000000",
                                    "industry_name": "Goods-producing",
                                    "value": "13426820"
                                },
                                {
                                    "series_id": "CEU0600000082",
                                    "industry_code": "6000000",
                                    "industry_name": "Goods-producing",
                                    "value": "12711945"
                                },
                                {
                                    "series_id": "CES0600000082",
                                    "industry_code": "6000000",
                                    "industry_name": "Goods-producing",
                                    "value": "13426820"
                                },
                                {
                                    "series_id": "CEU0600000082",
                                    "industry_code": "6000000",
                                    "industry_name": "Goods-producing",
                                    "value": "12711945"
                                },
                                {
                                    "series_id": "CES0800000082",
                                    "industry_code": "8000000",
                                    "industry_name": "Private service-providing",
                                    "value": "60914722"
                                },
                                {
                                    "series_id": "CEU0800000082",
                                    "industry_code": "8000000",
                                    "industry_name": "Private service-providing",
                                    "value": "60807771"
                                },
                                {
                                    "series_id": "CES0800000082",
                                    "industry_code": "8000000",
                                    "industry_name": "Private service-providing",
                                    "value": "60914722"
                                },
                                {
                                    "series_id": "CEU0800000082",
                                    "industry_code": "8000000",
                                    "industry_name": "Private service-providing",
                                    "value": "60807771"
                                },
                                {
                                    "series_id": "CES2000000082",
                                    "industry_code": "20000000",
                                    "industry_name": "Construction",
                                    "value": "5335274"
                                },
                                {
                                    "series_id": "CEU2000000082",
                                    "industry_code": "20000000",
                                    "industry_name": "Construction",
                                    "value": "4724156"
                                },
                                {
                                    "series_id": "CES2000000082",
                                    "industry_code": "20000000",
                                    "industry_name": "Construction",
                                    "value": "5335274"
                                },
                                {
                                    "series_id": "CEU2000000082",
                                    "industry_code": "20000000",
                                    "industry_name": "Construction",
                                    "value": "4724156"
                                },
                                {
                                    "series_id": "CES2023600082",
                                    "industry_code": "20236000",
                                    "industry_name": "Construction of buildings",
                                    "value": "1008035"
                                },
                                {
                                    "series_id": "CEU2023600082",
                                    "industry_code": "20236000",
                                    "industry_name": "Construction of buildings",
                                    "value": "940800"
                                },
                                {
                                    "series_id": "CES2023600082",
                                    "industry_code": "20236000",
                                    "industry_name": "Construction of buildings",
                                    "value": "1008035"
                                },
                                {
                                    "series_id": "CEU2023600082",
                                    "industry_code": "20236000",
                                    "industry_name": "Construction of buildings",
                                    "value": "940800"
                                },
                                {
                                    "series_id": "CES2023700082",
                                    "industry_code": "20237000",
                                    "industry_name": "Heavy and civil engineering construction",
                                    "value": "908374"
                                },
                                {
                                    "series_id": "CES2023700082",
                                    "industry_code": "20237000",
                                    "industry_name": "Heavy and civil engineering construction",
                                    "value": "908374"
                                },
                                {
                                    "series_id": "CES2023800082",
                                    "industry_code": "20238000",
                                    "industry_name": "Specialty trade contractors",
                                    "value": "3421902"
                                },
                                {
                                    "series_id": "CEU2023800082",
                                    "industry_code": "20238000",
                                    "industry_name": "Specialty trade contractors",
                                    "value": "3062211"
                                },
                                {
                                    "series_id": "CES2023800082",
                                    "industry_code": "20238000",
                                    "industry_name": "Specialty trade contractors",
                                    "value": "3421902"
                                },
                                {
                                    "series_id": "CEU2023800082",
                                    "industry_code": "20238000",
                                    "industry_name": "Specialty trade contractors",
                                    "value": "3062211"
                                },
                                {
                                    "series_id": "CES2023820082",
                                    "industry_code": "20238200",
                                    "industry_name": "Building equipment contractors",
                                    "value": "1696080"
                                },
                                {
                                    "series_id": "CEU2023820082",
                                    "industry_code": "20238200",
                                    "industry_name": "Building equipment contractors",
                                    "value": "1621266"
                                },
                                {
                                    "series_id": "CES2023820082",
                                    "industry_code": "20238200",
                                    "industry_name": "Building equipment contractors",
                                    "value": "1696080"
                                },
                                {
                                    "series_id": "CEU2023820082",
                                    "industry_code": "20238200",
                                    "industry_name": "Building equipment contractors",
                                    "value": "1621266"
                                },
                                {
                                    "series_id": "CES3000000082",
                                    "industry_code": "30000000",
                                    "industry_name": "Manufacturing",
                                    "value": "7491723"
                                },
                                {
                                    "series_id": "CEU3000000082",
                                    "industry_code": "30000000",
                                    "industry_name": "Manufacturing",
                                    "value": "7411960"
                                },
                                {
                                    "series_id": "CES3000000082",
                                    "industry_code": "30000000",
                                    "industry_name": "Manufacturing",
                                    "value": "7491723"
                                },
                                {
                                    "series_id": "CEU3000000082",
                                    "industry_code": "30000000",
                                    "industry_name": "Manufacturing",
                                    "value": "7411960"
                                },
                                {
                                    "series_id": "CES3100000082",
                                    "industry_code": "31000000",
                                    "industry_name": "Durable goods",
                                    "value": "4859716"
                                },
                                {
                                    "series_id": "CEU3100000082",
                                    "industry_code": "31000000",
                                    "industry_name": "Durable goods",
                                    "value": "4808368"
                                },
                                {
                                    "series_id": "CES3100000082",
                                    "industry_code": "31000000",
                                    "industry_name": "Durable goods",
                                    "value": "4859716"
                                },
                                {
                                    "series_id": "CEU3100000082",
                                    "industry_code": "31000000",
                                    "industry_name": "Durable goods",
                                    "value": "4808368"
                                },
                                {
                                    "series_id": "CES3133200082",
                                    "industry_code": "31332000",
                                    "industry_name": "Fabricated metal products",
                                    "value": "871298"
                                },
                                {
                                    "series_id": "CEU3133200082",
                                    "industry_code": "31332000",
                                    "industry_name": "Fabricated metal products",
                                    "value": "867242"
                                },
                                {
                                    "series_id": "CES3133200082",
                                    "industry_code": "31332000",
                                    "industry_name": "Fabricated metal products",
                                    "value": "871298"
                                },
                                {
                                    "series_id": "CEU3133200082",
                                    "industry_code": "31332000",
                                    "industry_name": "Fabricated metal products",
                                    "value": "867242"
                                },
                                {
                                    "series_id": "CES3133600082",
                                    "industry_code": "31336000",
                                    "industry_name": "Transportation equipment",
                                    "value": "1257764"
                                },
                                {
                                    "series_id": "CEU3133600082",
                                    "industry_code": "31336000",
                                    "industry_name": "Transportation equipment",
                                    "value": "1242685"
                                },
                                {
                                    "series_id": "CES3133600082",
                                    "industry_code": "31336000",
                                    "industry_name": "Transportation equipment",
                                    "value": "1257764"
                                },
                                {
                                    "series_id": "CEU3133600082",
                                    "industry_code": "31336000",
                                    "industry_name": "Transportation equipment",
                                    "value": "1242685"
                                },
                                {
                                    "series_id": "CES3200000082",
                                    "industry_code": "32000000",
                                    "industry_name": "Nondurable goods",
                                    "value": "2633628"
                                },
                                {
                                    "series_id": "CEU3200000082",
                                    "industry_code": "32000000",
                                    "industry_name": "Nondurable goods",
                                    "value": "2605069"
                                },
                                {
                                    "series_id": "CES3200000082",
                                    "industry_code": "32000000",
                                    "industry_name": "Nondurable goods",
                                    "value": "2633628"
                                },
                                {
                                    "series_id": "CEU3200000082",
                                    "industry_code": "32000000",
                                    "industry_name": "Nondurable goods",
                                    "value": "2605069"
                                },
                                {
                                    "series_id": "CES3231100082",
                                    "industry_code": "32311000",
                                    "industry_name": "Food manufacturing",
                                    "value": "851406"
                                },
                                {
                                    "series_id": "CEU3231100082",
                                    "industry_code": "32311000",
                                    "industry_name": "Food manufacturing",
                                    "value": "842201"
                                },
                                {
                                    "series_id": "CES3231100082",
                                    "industry_code": "32311000",
                                    "industry_name": "Food manufacturing",
                                    "value": "851406"
                                },
                                {
                                    "series_id": "CEU3231100082",
                                    "industry_code": "32311000",
                                    "industry_name": "Food manufacturing",
                                    "value": "842201"
                                },
                                {
                                    "series_id": "CES4000000082",
                                    "industry_code": "40000000",
                                    "industry_name": "Trade",
                                    "value": "14850661"
                                },
                                {
                                    "series_id": "CEU4000000082",
                                    "industry_code": "40000000",
                                    "industry_name": "Trade",
                                    "value": "14732108"
                                },
                                {
                                    "series_id": "CES4000000082",
                                    "industry_code": "40000000",
                                    "industry_name": "Trade",
                                    "value": "14850661"
                                },
                                {
                                    "series_id": "CEU4000000082",
                                    "industry_code": "40000000",
                                    "industry_name": "Trade",
                                    "value": "14732108"
                                },
                                {
                                    "series_id": "CES4142000082",
                                    "industry_code": "41420000",
                                    "industry_name": "Wholesale trade",
                                    "value": "4480134"
                                },
                                {
                                    "series_id": "CEU4142000082",
                                    "industry_code": "41420000",
                                    "industry_name": "Wholesale trade",
                                    "value": "4506110"
                                },
                                {
                                    "series_id": "CES4142000082",
                                    "industry_code": "41420000",
                                    "industry_name": "Wholesale trade",
                                    "value": "4480134"
                                },
                                {
                                    "series_id": "CEU4142000082",
                                    "industry_code": "41420000",
                                    "industry_name": "Wholesale trade",
                                    "value": "4506110"
                                },
                                {
                                    "series_id": "CES4142300082",
                                    "industry_code": "41423000",
                                    "industry_name": "Durable goods",
                                    "value": "2261006"
                                },
                                {
                                    "series_id": "CEU4142300082",
                                    "industry_code": "41423000",
                                    "industry_name": "Durable goods",
                                    "value": "2283094"
                                },
                                {
                                    "series_id": "CES4142300082",
                                    "industry_code": "41423000",
                                    "industry_name": "Durable goods",
                                    "value": "2261006"
                                },
                                {
                                    "series_id": "CEU4142300082",
                                    "industry_code": "41423000",
                                    "industry_name": "Durable goods",
                                    "value": "2283094"
                                },
                                {
                                    "series_id": "CES4142400082",
                                    "industry_code": "41424000",
                                    "industry_name": "Nondurable goods",
                                    "value": "1367413"
                                },
                                {
                                    "series_id": "CEU4142400082",
                                    "industry_code": "41424000",
                                    "industry_name": "Nondurable goods",
                                    "value": "1348136"
                                },
                                {
                                    "series_id": "CES4142400082",
                                    "industry_code": "41424000",
                                    "industry_name": "Nondurable goods",
                                    "value": "1367413"
                                },
                                {
                                    "series_id": "CEU4142400082",
                                    "industry_code": "41424000",
                                    "industry_name": "Nondurable goods",
                                    "value": "1348136"
                                },
                                {
                                    "series_id": "CES4142500082",
                                    "industry_code": "41425000",
                                    "industry_name": "Electronic markets and agents and brokers",
                                    "value": "855291"
                                },
                                {
                                    "series_id": "CEU4142500082",
                                    "industry_code": "41425000",
                                    "industry_name": "Electronic markets and agents and brokers",
                                    "value": "873578"
                                },
                                {
                                    "series_id": "CES4142500082",
                                    "industry_code": "41425000",
                                    "industry_name": "Electronic markets and agents and brokers",
                                    "value": "855291"
                                },
                                {
                                    "series_id": "CEU4142500082",
                                    "industry_code": "41425000",
                                    "industry_name": "Electronic markets and agents and brokers",
                                    "value": "873578"
                                },
                                {
                                    "series_id": "CES4142512082",
                                    "industry_code": "41425120",
                                    "industry_name": "Wholesale trade agents and brokers",
                                    "value": "831319"
                                },
                                {
                                    "series_id": "CEU4142512082",
                                    "industry_code": "41425120",
                                    "industry_name": "Wholesale trade agents and brokers",
                                    "value": "851551"
                                },
                                {
                                    "series_id": "CES4142512082",
                                    "industry_code": "41425120",
                                    "industry_name": "Wholesale trade agents and brokers",
                                    "value": "831319"
                                },
                                {
                                    "series_id": "CEU4142512082",
                                    "industry_code": "41425120",
                                    "industry_name": "Wholesale trade agents and brokers",
                                    "value": "851551"
                                },
                                {
                                    "series_id": "CES4200000082",
                                    "industry_code": "42000000",
                                    "industry_name": "Retail trade",
                                    "value": "6123554"
                                },
                                {
                                    "series_id": "CEU4200000082",
                                    "industry_code": "42000000",
                                    "industry_name": "Retail trade",
                                    "value": "6060100"
                                },
                                {
                                    "series_id": "CES4200000082",
                                    "industry_code": "42000000",
                                    "industry_name": "Retail trade",
                                    "value": "6123554"
                                },
                                {
                                    "series_id": "CEU4200000082",
                                    "industry_code": "42000000",
                                    "industry_name": "Retail trade",
                                    "value": "6060100"
                                },
                                {
                                    "series_id": "CES4244100082",
                                    "industry_code": "42441000",
                                    "industry_name": "Motor vehicle and parts dealers",
                                    "value": "1180297"
                                },
                                {
                                    "series_id": "CEU4244100082",
                                    "industry_code": "42441000",
                                    "industry_name": "Motor vehicle and parts dealers",
                                    "value": "1163420"
                                },
                                {
                                    "series_id": "CES4244100082",
                                    "industry_code": "42441000",
                                    "industry_name": "Motor vehicle and parts dealers",
                                    "value": "1180297"
                                },
                                {
                                    "series_id": "CEU4244100082",
                                    "industry_code": "42441000",
                                    "industry_name": "Motor vehicle and parts dealers",
                                    "value": "1163420"
                                },
                                {
                                    "series_id": "CES4244110082",
                                    "industry_code": "42441100",
                                    "industry_name": "Automobile dealers",
                                    "value": "839595"
                                },
                                {
                                    "series_id": "CEU4244110082",
                                    "industry_code": "42441100",
                                    "industry_name": "Automobile dealers",
                                    "value": "831131"
                                },
                                {
                                    "series_id": "CES4244110082",
                                    "industry_code": "42441100",
                                    "industry_name": "Automobile dealers",
                                    "value": "839595"
                                },
                                {
                                    "series_id": "CEU4244110082",
                                    "industry_code": "42441100",
                                    "industry_name": "Automobile dealers",
                                    "value": "831131"
                                },
                                {
                                    "series_id": "CES4244500082",
                                    "industry_code": "42445000",
                                    "industry_name": "Food and beverage stores",
                                    "value": "974710"
                                },
                                {
                                    "series_id": "CEU4244500082",
                                    "industry_code": "42445000",
                                    "industry_name": "Food and beverage stores",
                                    "value": "963315"
                                },
                                {
                                    "series_id": "CES4244500082",
                                    "industry_code": "42445000",
                                    "industry_name": "Food and beverage stores",
                                    "value": "974710"
                                },
                                {
                                    "series_id": "CEU4244500082",
                                    "industry_code": "42445000",
                                    "industry_name": "Food and beverage stores",
                                    "value": "963315"
                                },
                                {
                                    "series_id": "CES4244510082",
                                    "industry_code": "42445100",
                                    "industry_name": "Grocery stores",
                                    "value": "868430"
                                },
                                {
                                    "series_id": "CEU4244510082",
                                    "industry_code": "42445100",
                                    "industry_name": "Grocery stores",
                                    "value": "861224"
                                },
                                {
                                    "series_id": "CES4244510082",
                                    "industry_code": "42445100",
                                    "industry_name": "Grocery stores",
                                    "value": "868430"
                                },
                                {
                                    "series_id": "CEU4244510082",
                                    "industry_code": "42445100",
                                    "industry_name": "Grocery stores",
                                    "value": "861224"
                                },
                                {
                                    "series_id": "CES4244511082",
                                    "industry_code": "42445110",
                                    "industry_name": "Supermarkets and other grocery stores",
                                    "value": "821282"
                                },
                                {
                                    "series_id": "CES4244511082",
                                    "industry_code": "42445110",
                                    "industry_name": "Supermarkets and other grocery stores",
                                    "value": "821282"
                                },
                                {
                                    "series_id": "CES4245200082",
                                    "industry_code": "42452000",
                                    "industry_name": "General merchandise stores",
                                    "value": "1065807"
                                },
                                {
                                    "series_id": "CEU4245200082",
                                    "industry_code": "42452000",
                                    "industry_name": "General merchandise stores",
                                    "value": "1049973"
                                },
                                {
                                    "series_id": "CES4245200082",
                                    "industry_code": "42452000",
                                    "industry_name": "General merchandise stores",
                                    "value": "1065807"
                                },
                                {
                                    "series_id": "CEU4245200082",
                                    "industry_code": "42452000",
                                    "industry_name": "General merchandise stores",
                                    "value": "1049973"
                                },
                                {
                                    "series_id": "CES4300000082",
                                    "industry_code": "43000000",
                                    "industry_name": "Transportation and warehousing",
                                    "value": "3538683"
                                },
                                {
                                    "series_id": "CEU4300000082",
                                    "industry_code": "43000000",
                                    "industry_name": "Transportation and warehousing",
                                    "value": "3495553"
                                },
                                {
                                    "series_id": "CES4300000082",
                                    "industry_code": "43000000",
                                    "industry_name": "Transportation and warehousing",
                                    "value": "3538683"
                                },
                                {
                                    "series_id": "CEU4300000082",
                                    "industry_code": "43000000",
                                    "industry_name": "Transportation and warehousing",
                                    "value": "3495553"
                                },
                                {
                                    "series_id": "CES4348400082",
                                    "industry_code": "43484000",
                                    "industry_name": "Truck transportation",
                                    "value": "1131821"
                                },
                                {
                                    "series_id": "CEU4348400082",
                                    "industry_code": "43484000",
                                    "industry_name": "Truck transportation",
                                    "value": "1092427"
                                },
                                {
                                    "series_id": "CES4348400082",
                                    "industry_code": "43484000",
                                    "industry_name": "Truck transportation",
                                    "value": "1131821"
                                },
                                {
                                    "series_id": "CEU4348400082",
                                    "industry_code": "43484000",
                                    "industry_name": "Truck transportation",
                                    "value": "1092427"
                                },
                                {
                                    "series_id": "CES5000000082",
                                    "industry_code": "50000000",
                                    "industry_name": "Information",
                                    "value": "2416443"
                                },
                                {
                                    "series_id": "CEU5000000082",
                                    "industry_code": "50000000",
                                    "industry_name": "Information",
                                    "value": "2434992"
                                },
                                {
                                    "series_id": "CES5000000082",
                                    "industry_code": "50000000",
                                    "industry_name": "Information",
                                    "value": "2416443"
                                },
                                {
                                    "series_id": "CEU5000000082",
                                    "industry_code": "50000000",
                                    "industry_name": "Information",
                                    "value": "2434992"
                                },
                                {
                                    "series_id": "CES5500000082",
                                    "industry_code": "55000000",
                                    "industry_name": "Financial activities",
                                    "value": "6328968"
                                },
                                {
                                    "series_id": "CEU5500000082",
                                    "industry_code": "55000000",
                                    "industry_name": "Financial activities",
                                    "value": "6467426"
                                },
                                {
                                    "series_id": "CES5500000082",
                                    "industry_code": "55000000",
                                    "industry_name": "Financial activities",
                                    "value": "6328968"
                                },
                                {
                                    "series_id": "CEU5500000082",
                                    "industry_code": "55000000",
                                    "industry_name": "Financial activities",
                                    "value": "6467426"
                                },
                                {
                                    "series_id": "CES5552200082",
                                    "industry_code": "55522000",
                                    "industry_name": "Credit intermediation and related activities",
                                    "value": "1717912"
                                },
                                {
                                    "series_id": "CEU5552200082",
                                    "industry_code": "55522000",
                                    "industry_name": "Credit intermediation and related activities",
                                    "value": "1767137"
                                },
                                {
                                    "series_id": "CES5552200082",
                                    "industry_code": "55522000",
                                    "industry_name": "Credit intermediation and related activities",
                                    "value": "1717912"
                                },
                                {
                                    "series_id": "CEU5552200082",
                                    "industry_code": "55522000",
                                    "industry_name": "Credit intermediation and related activities",
                                    "value": "1767137"
                                },
                                {
                                    "series_id": "CES5552210082",
                                    "industry_code": "55522100",
                                    "industry_name": "Depository credit intermediation",
                                    "value": "971796"
                                },
                                {
                                    "series_id": "CEU5552210082",
                                    "industry_code": "55522100",
                                    "industry_name": "Depository credit intermediation",
                                    "value": "1004069"
                                },
                                {
                                    "series_id": "CES5552210082",
                                    "industry_code": "55522100",
                                    "industry_name": "Depository credit intermediation",
                                    "value": "971796"
                                },
                                {
                                    "series_id": "CEU5552210082",
                                    "industry_code": "55522100",
                                    "industry_name": "Depository credit intermediation",
                                    "value": "1004069"
                                },
                                {
                                    "series_id": "CES5552300082",
                                    "industry_code": "55523000",
                                    "industry_name": "NULL",
                                    "value": "1044224"
                                },
                                {
                                    "series_id": "CEU5552300082",
                                    "industry_code": "55523000",
                                    "industry_name": "NULL",
                                    "value": "1087325"
                                },
                                {
                                    "series_id": "CES5552300082",
                                    "industry_code": "55523000",
                                    "industry_name": "NULL",
                                    "value": "1044224"
                                },
                                {
                                    "series_id": "CEU5552300082",
                                    "industry_code": "55523000",
                                    "industry_name": "NULL",
                                    "value": "1087325"
                                },
                                {
                                    "series_id": "CES5552400082",
                                    "industry_code": "55524000",
                                    "industry_name": "Insurance carriers and related activities",
                                    "value": "2347328"
                                },
                                {
                                    "series_id": "CEU5552400082",
                                    "industry_code": "55524000",
                                    "industry_name": "Insurance carriers and related activities",
                                    "value": "2408490"
                                },
                                {
                                    "series_id": "CES5552400082",
                                    "industry_code": "55524000",
                                    "industry_name": "Insurance carriers and related activities",
                                    "value": "2347328"
                                },
                                {
                                    "series_id": "CEU5552400082",
                                    "industry_code": "55524000",
                                    "industry_name": "Insurance carriers and related activities",
                                    "value": "2408490"
                                },
                                {
                                    "series_id": "CES5552410082",
                                    "industry_code": "55524100",
                                    "industry_name": "Insurance carriers",
                                    "value": "1477799"
                                },
                                {
                                    "series_id": "CEU5552410082",
                                    "industry_code": "55524100",
                                    "industry_name": "Insurance carriers",
                                    "value": "1509979"
                                },
                                {
                                    "series_id": "CES5552410082",
                                    "industry_code": "55524100",
                                    "industry_name": "Insurance carriers",
                                    "value": "1477799"
                                },
                                {
                                    "series_id": "CEU5552410082",
                                    "industry_code": "55524100",
                                    "industry_name": "Insurance carriers",
                                    "value": "1509979"
                                },
                                {
                                    "series_id": "CES5552420082",
                                    "industry_code": "55524200",
                                    "industry_name": "Insurance agencies",
                                    "value": "872398"
                                },
                                {
                                    "series_id": "CEU5552420082",
                                    "industry_code": "55524200",
                                    "industry_name": "Insurance agencies",
                                    "value": "894878"
                                },
                                {
                                    "series_id": "CES5552420082",
                                    "industry_code": "55524200",
                                    "industry_name": "Insurance agencies",
                                    "value": "872398"
                                },
                                {
                                    "series_id": "CEU5552420082",
                                    "industry_code": "55524200",
                                    "industry_name": "Insurance agencies",
                                    "value": "894878"
                                },
                                {
                                    "series_id": "CES5553100082",
                                    "industry_code": "55531000",
                                    "industry_name": "Real estate",
                                    "value": "862987"
                                },
                                {
                                    "series_id": "CEU5553100082",
                                    "industry_code": "55531000",
                                    "industry_name": "Real estate",
                                    "value": "865620"
                                },
                                {
                                    "series_id": "CES5553100082",
                                    "industry_code": "55531000",
                                    "industry_name": "Real estate",
                                    "value": "862987"
                                },
                                {
                                    "series_id": "CEU5553100082",
                                    "industry_code": "55531000",
                                    "industry_name": "Real estate",
                                    "value": "865620"
                                },
                                {
                                    "series_id": "CES6000000082",
                                    "industry_code": "60000000",
                                    "industry_name": "Professional and business services",
                                    "value": "15251268"
                                },
                                {
                                    "series_id": "CEU6000000082",
                                    "industry_code": "60000000",
                                    "industry_name": "Professional and business services",
                                    "value": "15219807"
                                },
                                {
                                    "series_id": "CES6000000082",
                                    "industry_code": "60000000",
                                    "industry_name": "Professional and business services",
                                    "value": "15251268"
                                },
                                {
                                    "series_id": "CEU6000000082",
                                    "industry_code": "60000000",
                                    "industry_name": "Professional and business services",
                                    "value": "15219807"
                                },
                                {
                                    "series_id": "CES6054000082",
                                    "industry_code": "60540000",
                                    "industry_name": "Professional and technical services",
                                    "value": "8821026"
                                },
                                {
                                    "series_id": "CEU6054000082",
                                    "industry_code": "60540000",
                                    "industry_name": "Professional and technical services",
                                    "value": "8976687"
                                },
                                {
                                    "series_id": "CES6054000082",
                                    "industry_code": "60540000",
                                    "industry_name": "Professional and technical services",
                                    "value": "8821026"
                                },
                                {
                                    "series_id": "CEU6054000082",
                                    "industry_code": "60540000",
                                    "industry_name": "Professional and technical services",
                                    "value": "8976687"
                                },
                                {
                                    "series_id": "CES6054110082",
                                    "industry_code": "60541100",
                                    "industry_name": "Legal services",
                                    "value": "1058862"
                                },
                                {
                                    "series_id": "CEU6054110082",
                                    "industry_code": "60541100",
                                    "industry_name": "Legal services",
                                    "value": "1093898"
                                },
                                {
                                    "series_id": "CES6054110082",
                                    "industry_code": "60541100",
                                    "industry_name": "Legal services",
                                    "value": "1058862"
                                },
                                {
                                    "series_id": "CEU6054110082",
                                    "industry_code": "60541100",
                                    "industry_name": "Legal services",
                                    "value": "1093898"
                                },
                                {
                                    "series_id": "CES6054111082",
                                    "industry_code": "60541110",
                                    "industry_name": "Offices of lawyers",
                                    "value": "1004009"
                                },
                                {
                                    "series_id": "CEU6054111082",
                                    "industry_code": "60541110",
                                    "industry_name": "Offices of lawyers",
                                    "value": "1038464"
                                },
                                {
                                    "series_id": "CES6054111082",
                                    "industry_code": "60541110",
                                    "industry_name": "Offices of lawyers",
                                    "value": "1004009"
                                },
                                {
                                    "series_id": "CEU6054111082",
                                    "industry_code": "60541110",
                                    "industry_name": "Offices of lawyers",
                                    "value": "1038464"
                                },
                                {
                                    "series_id": "CES6054130082",
                                    "industry_code": "60541300",
                                    "industry_name": "Architectural and engineering services",
                                    "value": "1439445"
                                },
                                {
                                    "series_id": "CEU6054130082",
                                    "industry_code": "60541300",
                                    "industry_name": "Architectural and engineering services",
                                    "value": "1422967"
                                },
                                {
                                    "series_id": "CES6054130082",
                                    "industry_code": "60541300",
                                    "industry_name": "Architectural and engineering services",
                                    "value": "1439445"
                                },
                                {
                                    "series_id": "CEU6054130082",
                                    "industry_code": "60541300",
                                    "industry_name": "Architectural and engineering services",
                                    "value": "1422967"
                                },
                                {
                                    "series_id": "CES6054134082",
                                    "industry_code": "60541340",
                                    "industry_name": "NULL",
                                    "value": "1051499"
                                },
                                {
                                    "series_id": "CEU6054134082",
                                    "industry_code": "60541340",
                                    "industry_name": "NULL",
                                    "value": "1042223"
                                },
                                {
                                    "series_id": "CES6054134082",
                                    "industry_code": "60541340",
                                    "industry_name": "NULL",
                                    "value": "1051499"
                                },
                                {
                                    "series_id": "CEU6054134082",
                                    "industry_code": "60541340",
                                    "industry_name": "NULL",
                                    "value": "1042223"
                                },
                                {
                                    "series_id": "CES6054150082",
                                    "industry_code": "60541500",
                                    "industry_name": "Computer systems design and related services",
                                    "value": "2666568"
                                },
                                {
                                    "series_id": "CEU6054150082",
                                    "industry_code": "60541500",
                                    "industry_name": "Computer systems design and related services",
                                    "value": "2725031"
                                },
                                {
                                    "series_id": "CES6054150082",
                                    "industry_code": "60541500",
                                    "industry_name": "Computer systems design and related services",
                                    "value": "2666568"
                                },
                                {
                                    "series_id": "CEU6054150082",
                                    "industry_code": "60541500",
                                    "industry_name": "Computer systems design and related services",
                                    "value": "2725031"
                                },
                                {
                                    "series_id": "CES6054151182",
                                    "industry_code": "60541511",
                                    "industry_name": "Custom computer programming services",
                                    "value": "1173494"
                                },
                                {
                                    "series_id": "CEU6054151182",
                                    "industry_code": "60541511",
                                    "industry_name": "Custom computer programming services",
                                    "value": "1198283"
                                },
                                {
                                    "series_id": "CES6054151182",
                                    "industry_code": "60541511",
                                    "industry_name": "Custom computer programming services",
                                    "value": "1173494"
                                },
                                {
                                    "series_id": "CEU6054151182",
                                    "industry_code": "60541511",
                                    "industry_name": "Custom computer programming services",
                                    "value": "1198283"
                                },
                                {
                                    "series_id": "CES6054151282",
                                    "industry_code": "60541512",
                                    "industry_name": "Computer systems design services",
                                    "value": "1274481"
                                },
                                {
                                    "series_id": "CEU6054151282",
                                    "industry_code": "60541512",
                                    "industry_name": "Computer systems design services",
                                    "value": "1309441"
                                },
                                {
                                    "series_id": "CES6054151282",
                                    "industry_code": "60541512",
                                    "industry_name": "Computer systems design services",
                                    "value": "1274481"
                                },
                                {
                                    "series_id": "CEU6054151282",
                                    "industry_code": "60541512",
                                    "industry_name": "Computer systems design services",
                                    "value": "1309441"
                                },
                                {
                                    "series_id": "CES6054160082",
                                    "industry_code": "60541600",
                                    "industry_name": "Management and technical consulting services",
                                    "value": "1330587"
                                },
                                {
                                    "series_id": "CEU6054160082",
                                    "industry_code": "60541600",
                                    "industry_name": "Management and technical consulting services",
                                    "value": "1336594"
                                },
                                {
                                    "series_id": "CES6054160082",
                                    "industry_code": "60541600",
                                    "industry_name": "Management and technical consulting services",
                                    "value": "1330587"
                                },
                                {
                                    "series_id": "CEU6054160082",
                                    "industry_code": "60541600",
                                    "industry_name": "Management and technical consulting services",
                                    "value": "1336594"
                                },
                                {
                                    "series_id": "CES6054161082",
                                    "industry_code": "60541610",
                                    "industry_name": "Management consulting services",
                                    "value": "1053691"
                                },
                                {
                                    "series_id": "CEU6054161082",
                                    "industry_code": "60541610",
                                    "industry_name": "Management consulting services",
                                    "value": "1066602"
                                },
                                {
                                    "series_id": "CES6054161082",
                                    "industry_code": "60541610",
                                    "industry_name": "Management consulting services",
                                    "value": "1053691"
                                },
                                {
                                    "series_id": "CEU6054161082",
                                    "industry_code": "60541610",
                                    "industry_name": "Management consulting services",
                                    "value": "1066602"
                                },
                                {
                                    "series_id": "CES6055000082",
                                    "industry_code": "60550000",
                                    "industry_name": "Management of companies and enterprises",
                                    "value": "1566036"
                                },
                                {
                                    "series_id": "CEU6055000082",
                                    "industry_code": "60550000",
                                    "industry_name": "Management of companies and enterprises",
                                    "value": "1587677"
                                },
                                {
                                    "series_id": "CES6055000082",
                                    "industry_code": "60550000",
                                    "industry_name": "Management of companies and enterprises",
                                    "value": "1566036"
                                },
                                {
                                    "series_id": "CEU6055000082",
                                    "industry_code": "60550000",
                                    "industry_name": "Management of companies and enterprises",
                                    "value": "1587677"
                                },
                                {
                                    "series_id": "CES6055111482",
                                    "industry_code": "60551114",
                                    "industry_name": "Managing offices",
                                    "value": "1496334"
                                },
                                {
                                    "series_id": "CEU6055111482",
                                    "industry_code": "60551114",
                                    "industry_name": "Managing offices",
                                    "value": "1517287"
                                },
                                {
                                    "series_id": "CES6055111482",
                                    "industry_code": "60551114",
                                    "industry_name": "Managing offices",
                                    "value": "1496334"
                                },
                                {
                                    "series_id": "CEU6055111482",
                                    "industry_code": "60551114",
                                    "industry_name": "Managing offices",
                                    "value": "1517287"
                                },
                                {
                                    "series_id": "CES6056000082",
                                    "industry_code": "60560000",
                                    "industry_name": "Administrative and waste services",
                                    "value": "4886085"
                                },
                                {
                                    "series_id": "CEU6056000082",
                                    "industry_code": "60560000",
                                    "industry_name": "Administrative and waste services",
                                    "value": "4659531"
                                },
                                {
                                    "series_id": "CES6056000082",
                                    "industry_code": "60560000",
                                    "industry_name": "Administrative and waste services",
                                    "value": "4886085"
                                },
                                {
                                    "series_id": "CEU6056000082",
                                    "industry_code": "60560000",
                                    "industry_name": "Administrative and waste services",
                                    "value": "4659531"
                                },
                                {
                                    "series_id": "CES6056100082",
                                    "industry_code": "60561000",
                                    "industry_name": "Administrative and support services",
                                    "value": "4565569"
                                },
                                {
                                    "series_id": "CEU6056100082",
                                    "industry_code": "60561000",
                                    "industry_name": "Administrative and support services",
                                    "value": "4357866"
                                },
                                {
                                    "series_id": "CES6056100082",
                                    "industry_code": "60561000",
                                    "industry_name": "Administrative and support services",
                                    "value": "4565569"
                                },
                                {
                                    "series_id": "CEU6056100082",
                                    "industry_code": "60561000",
                                    "industry_name": "Administrative and support services",
                                    "value": "4357866"
                                },
                                {
                                    "series_id": "CES6056130082",
                                    "industry_code": "60561300",
                                    "industry_name": "Employment services",
                                    "value": "2013846"
                                },
                                {
                                    "series_id": "CEU6056130082",
                                    "industry_code": "60561300",
                                    "industry_name": "Employment services",
                                    "value": "1938059"
                                },
                                {
                                    "series_id": "CES6056130082",
                                    "industry_code": "60561300",
                                    "industry_name": "Employment services",
                                    "value": "2013846"
                                },
                                {
                                    "series_id": "CEU6056130082",
                                    "industry_code": "60561300",
                                    "industry_name": "Employment services",
                                    "value": "1938059"
                                },
                                {
                                    "series_id": "CES6056132082",
                                    "industry_code": "60561320",
                                    "industry_name": "Temporary help services",
                                    "value": "1598939"
                                },
                                {
                                    "series_id": "CEU6056132082",
                                    "industry_code": "60561320",
                                    "industry_name": "Temporary help services",
                                    "value": "1530782"
                                },
                                {
                                    "series_id": "CES6056132082",
                                    "industry_code": "60561320",
                                    "industry_name": "Temporary help services",
                                    "value": "1598939"
                                },
                                {
                                    "series_id": "CEU6056132082",
                                    "industry_code": "60561320",
                                    "industry_name": "Temporary help services",
                                    "value": "1530782"
                                },
                                {
                                    "series_id": "CES6056170082",
                                    "industry_code": "60561700",
                                    "industry_name": "Services to buildings and dwellings",
                                    "value": "846000"
                                },
                                {
                                    "series_id": "CES6056170082",
                                    "industry_code": "60561700",
                                    "industry_name": "Services to buildings and dwellings",
                                    "value": "846000"
                                },
                                {
                                    "series_id": "CES6500000082",
                                    "industry_code": "65000000",
                                    "industry_name": "Education and health services",
                                    "value": "14765156"
                                },
                                {
                                    "series_id": "CEU6500000082",
                                    "industry_code": "65000000",
                                    "industry_name": "Education and health services",
                                    "value": "14816074"
                                },
                                {
                                    "series_id": "CES6500000082",
                                    "industry_code": "65000000",
                                    "industry_name": "Education and health services",
                                    "value": "14765156"
                                },
                                {
                                    "series_id": "CEU6500000082",
                                    "industry_code": "65000000",
                                    "industry_name": "Education and health services",
                                    "value": "14816074"
                                },
                                {
                                    "series_id": "CES6562000082",
                                    "industry_code": "65620000",
                                    "industry_name": "Health care and social assistance",
                                    "value": "12762526"
                                },
                                {
                                    "series_id": "CEU6562000082",
                                    "industry_code": "65620000",
                                    "industry_name": "Health care and social assistance",
                                    "value": "12878462"
                                },
                                {
                                    "series_id": "CES6562000082",
                                    "industry_code": "65620000",
                                    "industry_name": "Health care and social assistance",
                                    "value": "12762526"
                                },
                                {
                                    "series_id": "CEU6562000082",
                                    "industry_code": "65620000",
                                    "industry_name": "Health care and social assistance",
                                    "value": "12878462"
                                },
                                {
                                    "series_id": "CES6562000182",
                                    "industry_code": "65620001",
                                    "industry_name": "NULL",
                                    "value": "11413008"
                                },
                                {
                                    "series_id": "CEU6562000182",
                                    "industry_code": "65620001",
                                    "industry_name": "NULL",
                                    "value": "11537267"
                                },
                                {
                                    "series_id": "CES6562000182",
                                    "industry_code": "65620001",
                                    "industry_name": "NULL",
                                    "value": "11413008"
                                },
                                {
                                    "series_id": "CEU6562000182",
                                    "industry_code": "65620001",
                                    "industry_name": "NULL",
                                    "value": "11537267"
                                },
                                {
                                    "series_id": "CES6562100082",
                                    "industry_code": "65621000",
                                    "industry_name": "Ambulatory health care services",
                                    "value": "4875906"
                                },
                                {
                                    "series_id": "CEU6562100082",
                                    "industry_code": "65621000",
                                    "industry_name": "Ambulatory health care services",
                                    "value": "4907269"
                                },
                                {
                                    "series_id": "CES6562100082",
                                    "industry_code": "65621000",
                                    "industry_name": "Ambulatory health care services",
                                    "value": "4875906"
                                },
                                {
                                    "series_id": "CEU6562100082",
                                    "industry_code": "65621000",
                                    "industry_name": "Ambulatory health care services",
                                    "value": "4907269"
                                },
                                {
                                    "series_id": "CES6562110082",
                                    "industry_code": "65621100",
                                    "industry_name": "Offices of physicians",
                                    "value": "2141331"
                                },
                                {
                                    "series_id": "CEU6562110082",
                                    "industry_code": "65621100",
                                    "industry_name": "Offices of physicians",
                                    "value": "2149121"
                                },
                                {
                                    "series_id": "CES6562110082",
                                    "industry_code": "65621100",
                                    "industry_name": "Offices of physicians",
                                    "value": "2141331"
                                },
                                {
                                    "series_id": "CEU6562110082",
                                    "industry_code": "65621100",
                                    "industry_name": "Offices of physicians",
                                    "value": "2149121"
                                },
                                {
                                    "series_id": "CES6562111182",
                                    "industry_code": "65621111",
                                    "industry_name": "Offices of physicians",
                                    "value": "2113086"
                                },
                                {
                                    "series_id": "CEU6562111182",
                                    "industry_code": "65621111",
                                    "industry_name": "Offices of physicians",
                                    "value": "2121845"
                                },
                                {
                                    "series_id": "CES6562111182",
                                    "industry_code": "65621111",
                                    "industry_name": "Offices of physicians",
                                    "value": "2113086"
                                },
                                {
                                    "series_id": "CEU6562111182",
                                    "industry_code": "65621111",
                                    "industry_name": "Offices of physicians",
                                    "value": "2121845"
                                },
                                {
                                    "series_id": "CES6562200082",
                                    "industry_code": "65622000",
                                    "industry_name": "Hospitals",
                                    "value": "5048432"
                                },
                                {
                                    "series_id": "CEU6562200082",
                                    "industry_code": "65622000",
                                    "industry_name": "Hospitals",
                                    "value": "5105336"
                                },
                                {
                                    "series_id": "CES6562200082",
                                    "industry_code": "65622000",
                                    "industry_name": "Hospitals",
                                    "value": "5048432"
                                },
                                {
                                    "series_id": "CEU6562200082",
                                    "industry_code": "65622000",
                                    "industry_name": "Hospitals",
                                    "value": "5105336"
                                },
                                {
                                    "series_id": "CES6562210082",
                                    "industry_code": "65622100",
                                    "industry_name": "General medical and surgical hospitals",
                                    "value": "4716914"
                                },
                                {
                                    "series_id": "CEU6562210082",
                                    "industry_code": "65622100",
                                    "industry_name": "General medical and surgical hospitals",
                                    "value": "4773547"
                                },
                                {
                                    "series_id": "CES6562210082",
                                    "industry_code": "65622100",
                                    "industry_name": "General medical and surgical hospitals",
                                    "value": "4716914"
                                },
                                {
                                    "series_id": "CEU6562210082",
                                    "industry_code": "65622100",
                                    "industry_name": "General medical and surgical hospitals",
                                    "value": "4773547"
                                },
                                {
                                    "series_id": "CES6562300082",
                                    "industry_code": "65623000",
                                    "industry_name": "Nursing and residential care facilities",
                                    "value": "1489277"
                                },
                                {
                                    "series_id": "CEU6562300082",
                                    "industry_code": "65623000",
                                    "industry_name": "Nursing and residential care facilities",
                                    "value": "1525889"
                                },
                                {
                                    "series_id": "CES6562300082",
                                    "industry_code": "65623000",
                                    "industry_name": "Nursing and residential care facilities",
                                    "value": "1489277"
                                },
                                {
                                    "series_id": "CEU6562300082",
                                    "industry_code": "65623000",
                                    "industry_name": "Nursing and residential care facilities",
                                    "value": "1525889"
                                },
                                {
                                    "series_id": "CES6562400082",
                                    "industry_code": "65624000",
                                    "industry_name": "Social assistance",
                                    "value": "1337022"
                                },
                                {
                                    "series_id": "CEU6562400082",
                                    "industry_code": "65624000",
                                    "industry_name": "Social assistance",
                                    "value": "1357629"
                                },
                                {
                                    "series_id": "CES6562400082",
                                    "industry_code": "65624000",
                                    "industry_name": "Social assistance",
                                    "value": "1337022"
                                },
                                {
                                    "series_id": "CEU6562400082",
                                    "industry_code": "65624000",
                                    "industry_name": "Social assistance",
                                    "value": "1357629"
                                },
                                {
                                    "series_id": "CES6562410082",
                                    "industry_code": "65624100",
                                    "industry_name": "Individual and family services",
                                    "value": "828771"
                                },
                                {
                                    "series_id": "CEU6562410082",
                                    "industry_code": "65624100",
                                    "industry_name": "Individual and family services",
                                    "value": "838886"
                                },
                                {
                                    "series_id": "CES6562410082",
                                    "industry_code": "65624100",
                                    "industry_name": "Individual and family services",
                                    "value": "828771"
                                },
                                {
                                    "series_id": "CEU6562410082",
                                    "industry_code": "65624100",
                                    "industry_name": "Individual and family services",
                                    "value": "838886"
                                },
                                {
                                    "series_id": "CES7000000082",
                                    "industry_code": "70000000",
                                    "industry_name": "Leisure and hospitality",
                                    "value": "4537173"
                                },
                                {
                                    "series_id": "CEU7000000082",
                                    "industry_code": "70000000",
                                    "industry_name": "Leisure and hospitality",
                                    "value": "4224098"
                                },
                                {
                                    "series_id": "CES7000000082",
                                    "industry_code": "70000000",
                                    "industry_name": "Leisure and hospitality",
                                    "value": "4537173"
                                },
                                {
                                    "series_id": "CEU7000000082",
                                    "industry_code": "70000000",
                                    "industry_name": "Leisure and hospitality",
                                    "value": "4224098"
                                },
                                {
                                    "series_id": "CES7072000082",
                                    "industry_code": "70720000",
                                    "industry_name": "Accommodation and food services",
                                    "value": "3802356"
                                },
                                {
                                    "series_id": "CEU7072000082",
                                    "industry_code": "70720000",
                                    "industry_name": "Accommodation and food services",
                                    "value": "3572648"
                                },
                                {
                                    "series_id": "CES7072000082",
                                    "industry_code": "70720000",
                                    "industry_name": "Accommodation and food services",
                                    "value": "3802356"
                                },
                                {
                                    "series_id": "CEU7072000082",
                                    "industry_code": "70720000",
                                    "industry_name": "Accommodation and food services",
                                    "value": "3572648"
                                },
                                {
                                    "series_id": "CES7072200082",
                                    "industry_code": "70722000",
                                    "industry_name": "Food services and drinking places",
                                    "value": "3085429"
                                },
                                {
                                    "series_id": "CEU7072200082",
                                    "industry_code": "70722000",
                                    "industry_name": "Food services and drinking places",
                                    "value": "2913295"
                                },
                                {
                                    "series_id": "CES7072200082",
                                    "industry_code": "70722000",
                                    "industry_name": "Food services and drinking places",
                                    "value": "3085429"
                                },
                                {
                                    "series_id": "CEU7072200082",
                                    "industry_code": "70722000",
                                    "industry_name": "Food services and drinking places",
                                    "value": "2913295"
                                },
                                {
                                    "series_id": "CES7072250082",
                                    "industry_code": "70722500",
                                    "industry_name": "Restaurants and other eating places",
                                    "value": "2768855"
                                },
                                {
                                    "series_id": "CEU7072250082",
                                    "industry_code": "70722500",
                                    "industry_name": "Restaurants and other eating places",
                                    "value": "2617225"
                                },
                                {
                                    "series_id": "CES7072250082",
                                    "industry_code": "70722500",
                                    "industry_name": "Restaurants and other eating places",
                                    "value": "2768855"
                                },
                                {
                                    "series_id": "CEU7072250082",
                                    "industry_code": "70722500",
                                    "industry_name": "Restaurants and other eating places",
                                    "value": "2617225"
                                },
                                {
                                    "series_id": "CES7072251182",
                                    "industry_code": "70722511",
                                    "industry_name": "Full-service restaurants",
                                    "value": "1626780"
                                },
                                {
                                    "series_id": "CEU7072251182",
                                    "industry_code": "70722511",
                                    "industry_name": "Full-service restaurants",
                                    "value": "1528888"
                                },
                                {
                                    "series_id": "CES7072251182",
                                    "industry_code": "70722511",
                                    "industry_name": "Full-service restaurants",
                                    "value": "1626780"
                                },
                                {
                                    "series_id": "CEU7072251182",
                                    "industry_code": "70722511",
                                    "industry_name": "Full-service restaurants",
                                    "value": "1528888"
                                },
                                {
                                    "series_id": "CES7072251382",
                                    "industry_code": "70722513",
                                    "industry_name": "Limited-service restaurants",
                                    "value": "969748"
                                },
                                {
                                    "series_id": "CEU7072251382",
                                    "industry_code": "70722513",
                                    "industry_name": "Limited-service restaurants",
                                    "value": "922041"
                                },
                                {
                                    "series_id": "CES7072251382",
                                    "industry_code": "70722513",
                                    "industry_name": "Limited-service restaurants",
                                    "value": "969748"
                                },
                                {
                                    "series_id": "CEU7072251382",
                                    "industry_code": "70722513",
                                    "industry_name": "Limited-service restaurants",
                                    "value": "922041"
                                },
                                {
                                    "series_id": "CES8000000082",
                                    "industry_code": "80000000",
                                    "industry_name": "Other services",
                                    "value": "2875314"
                                },
                                {
                                    "series_id": "CEU8000000082",
                                    "industry_code": "80000000",
                                    "industry_name": "Other services",
                                    "value": "2836698"
                                },
                                {
                                    "series_id": "CES8000000082",
                                    "industry_code": "80000000",
                                    "industry_name": "Other services",
                                    "value": "2875314"
                                },
                                {
                                    "series_id": "CEU8000000082",
                                    "industry_code": "80000000",
                                    "industry_name": "Other services",
                                    "value": "2836698"
                                },
                                {
                                    "series_id": "CES8081300082",
                                    "industry_code": "80813000",
                                    "industry_name": "Membership associations and organizations",
                                    "value": "1599916"
                                },
                                {
                                    "series_id": "CEU8081300082",
                                    "industry_code": "80813000",
                                    "industry_name": "Membership associations and organizations",
                                    "value": "1594855"
                                },
                                {
                                    "series_id": "CES8081300082",
                                    "industry_code": "80813000",
                                    "industry_name": "Membership associations and organizations",
                                    "value": "1599916"
                                },
                                {
                                    "series_id": "CEU8081300082",
                                    "industry_code": "80813000",
                                    "industry_name": "Membership associations and organizations",
                                    "value": "1594855"
                                }
                            ]
                        },
                        "text/html": "<table><tr><th>series_id</th><th>industry_code</th><th>industry_name</th><th>value</th></tr><tr><td>CES0500000082</td><td>5000000</td><td>Total private</td><td>74498171</td></tr><tr><td>CEU0500000082</td><td>5000000</td><td>Total private</td><td>73474302</td></tr><tr><td>CES0500000082</td><td>5000000</td><td>Total private</td><td>74498171</td></tr><tr><td>CEU0500000082</td><td>5000000</td><td>Total private</td><td>73474302</td></tr><tr><td>CES0600000082</td><td>6000000</td><td>Goods-producing</td><td>13426820</td></tr><tr><td>CEU0600000082</td><td>6000000</td><td>Goods-producing</td><td>12711945</td></tr><tr><td>CES0600000082</td><td>6000000</td><td>Goods-producing</td><td>13426820</td></tr><tr><td>CEU0600000082</td><td>6000000</td><td>Goods-producing</td><td>12711945</td></tr><tr><td>CES0800000082</td><td>8000000</td><td>Private service-providing</td><td>60914722</td></tr><tr><td>CEU0800000082</td><td>8000000</td><td>Private service-providing</td><td>60807771</td></tr><tr><td>CES0800000082</td><td>8000000</td><td>Private service-providing</td><td>60914722</td></tr><tr><td>CEU0800000082</td><td>8000000</td><td>Private service-providing</td><td>60807771</td></tr><tr><td>CES2000000082</td><td>20000000</td><td>Construction</td><td>5335274</td></tr><tr><td>CEU2000000082</td><td>20000000</td><td>Construction</td><td>4724156</td></tr><tr><td>CES2000000082</td><td>20000000</td><td>Construction</td><td>5335274</td></tr><tr><td>CEU2000000082</td><td>20000000</td><td>Construction</td><td>4724156</td></tr><tr><td>CES2023600082</td><td>20236000</td><td>Construction of buildings</td><td>1008035</td></tr><tr><td>CEU2023600082</td><td>20236000</td><td>Construction of buildings</td><td>940800</td></tr><tr><td>CES2023600082</td><td>20236000</td><td>Construction of buildings</td><td>1008035</td></tr><tr><td>CEU2023600082</td><td>20236000</td><td>Construction of buildings</td><td>940800</td></tr><tr><td>CES2023700082</td><td>20237000</td><td>Heavy and civil engineering construction</td><td>908374</td></tr><tr><td>CES2023700082</td><td>20237000</td><td>Heavy and civil engineering construction</td><td>908374</td></tr><tr><td>CES2023800082</td><td>20238000</td><td>Specialty trade contractors</td><td>3421902</td></tr><tr><td>CEU2023800082</td><td>20238000</td><td>Specialty trade contractors</td><td>3062211</td></tr><tr><td>CES2023800082</td><td>20238000</td><td>Specialty trade contractors</td><td>3421902</td></tr><tr><td>CEU2023800082</td><td>20238000</td><td>Specialty trade contractors</td><td>3062211</td></tr><tr><td>CES2023820082</td><td>20238200</td><td>Building equipment contractors</td><td>1696080</td></tr><tr><td>CEU2023820082</td><td>20238200</td><td>Building equipment contractors</td><td>1621266</td></tr><tr><td>CES2023820082</td><td>20238200</td><td>Building equipment contractors</td><td>1696080</td></tr><tr><td>CEU2023820082</td><td>20238200</td><td>Building equipment contractors</td><td>1621266</td></tr><tr><td>CES3000000082</td><td>30000000</td><td>Manufacturing</td><td>7491723</td></tr><tr><td>CEU3000000082</td><td>30000000</td><td>Manufacturing</td><td>7411960</td></tr><tr><td>CES3000000082</td><td>30000000</td><td>Manufacturing</td><td>7491723</td></tr><tr><td>CEU3000000082</td><td>30000000</td><td>Manufacturing</td><td>7411960</td></tr><tr><td>CES3100000082</td><td>31000000</td><td>Durable goods</td><td>4859716</td></tr><tr><td>CEU3100000082</td><td>31000000</td><td>Durable goods</td><td>4808368</td></tr><tr><td>CES3100000082</td><td>31000000</td><td>Durable goods</td><td>4859716</td></tr><tr><td>CEU3100000082</td><td>31000000</td><td>Durable goods</td><td>4808368</td></tr><tr><td>CES3133200082</td><td>31332000</td><td>Fabricated metal products</td><td>871298</td></tr><tr><td>CEU3133200082</td><td>31332000</td><td>Fabricated metal products</td><td>867242</td></tr><tr><td>CES3133200082</td><td>31332000</td><td>Fabricated metal products</td><td>871298</td></tr><tr><td>CEU3133200082</td><td>31332000</td><td>Fabricated metal products</td><td>867242</td></tr><tr><td>CES3133600082</td><td>31336000</td><td>Transportation equipment</td><td>1257764</td></tr><tr><td>CEU3133600082</td><td>31336000</td><td>Transportation equipment</td><td>1242685</td></tr><tr><td>CES3133600082</td><td>31336000</td><td>Transportation equipment</td><td>1257764</td></tr><tr><td>CEU3133600082</td><td>31336000</td><td>Transportation equipment</td><td>1242685</td></tr><tr><td>CES3200000082</td><td>32000000</td><td>Nondurable goods</td><td>2633628</td></tr><tr><td>CEU3200000082</td><td>32000000</td><td>Nondurable goods</td><td>2605069</td></tr><tr><td>CES3200000082</td><td>32000000</td><td>Nondurable goods</td><td>2633628</td></tr><tr><td>CEU3200000082</td><td>32000000</td><td>Nondurable goods</td><td>2605069</td></tr><tr><td>CES3231100082</td><td>32311000</td><td>Food manufacturing</td><td>851406</td></tr><tr><td>CEU3231100082</td><td>32311000</td><td>Food manufacturing</td><td>842201</td></tr><tr><td>CES3231100082</td><td>32311000</td><td>Food manufacturing</td><td>851406</td></tr><tr><td>CEU3231100082</td><td>32311000</td><td>Food manufacturing</td><td>842201</td></tr><tr><td>CES4000000082</td><td>40000000</td><td>Trade</td><td>14850661</td></tr><tr><td>CEU4000000082</td><td>40000000</td><td>Trade</td><td>14732108</td></tr><tr><td>CES4000000082</td><td>40000000</td><td>Trade</td><td>14850661</td></tr><tr><td>CEU4000000082</td><td>40000000</td><td>Trade</td><td>14732108</td></tr><tr><td>CES4142000082</td><td>41420000</td><td>Wholesale trade</td><td>4480134</td></tr><tr><td>CEU4142000082</td><td>41420000</td><td>Wholesale trade</td><td>4506110</td></tr><tr><td>CES4142000082</td><td>41420000</td><td>Wholesale trade</td><td>4480134</td></tr><tr><td>CEU4142000082</td><td>41420000</td><td>Wholesale trade</td><td>4506110</td></tr><tr><td>CES4142300082</td><td>41423000</td><td>Durable goods</td><td>2261006</td></tr><tr><td>CEU4142300082</td><td>41423000</td><td>Durable goods</td><td>2283094</td></tr><tr><td>CES4142300082</td><td>41423000</td><td>Durable goods</td><td>2261006</td></tr><tr><td>CEU4142300082</td><td>41423000</td><td>Durable goods</td><td>2283094</td></tr><tr><td>CES4142400082</td><td>41424000</td><td>Nondurable goods</td><td>1367413</td></tr><tr><td>CEU4142400082</td><td>41424000</td><td>Nondurable goods</td><td>1348136</td></tr><tr><td>CES4142400082</td><td>41424000</td><td>Nondurable goods</td><td>1367413</td></tr><tr><td>CEU4142400082</td><td>41424000</td><td>Nondurable goods</td><td>1348136</td></tr><tr><td>CES4142500082</td><td>41425000</td><td>Electronic markets and agents and brokers</td><td>855291</td></tr><tr><td>CEU4142500082</td><td>41425000</td><td>Electronic markets and agents and brokers</td><td>873578</td></tr><tr><td>CES4142500082</td><td>41425000</td><td>Electronic markets and agents and brokers</td><td>855291</td></tr><tr><td>CEU4142500082</td><td>41425000</td><td>Electronic markets and agents and brokers</td><td>873578</td></tr><tr><td>CES4142512082</td><td>41425120</td><td>Wholesale trade agents and brokers</td><td>831319</td></tr><tr><td>CEU4142512082</td><td>41425120</td><td>Wholesale trade agents and brokers</td><td>851551</td></tr><tr><td>CES4142512082</td><td>41425120</td><td>Wholesale trade agents and brokers</td><td>831319</td></tr><tr><td>CEU4142512082</td><td>41425120</td><td>Wholesale trade agents and brokers</td><td>851551</td></tr><tr><td>CES4200000082</td><td>42000000</td><td>Retail trade</td><td>6123554</td></tr><tr><td>CEU4200000082</td><td>42000000</td><td>Retail trade</td><td>6060100</td></tr><tr><td>CES4200000082</td><td>42000000</td><td>Retail trade</td><td>6123554</td></tr><tr><td>CEU4200000082</td><td>42000000</td><td>Retail trade</td><td>6060100</td></tr><tr><td>CES4244100082</td><td>42441000</td><td>Motor vehicle and parts dealers</td><td>1180297</td></tr><tr><td>CEU4244100082</td><td>42441000</td><td>Motor vehicle and parts dealers</td><td>1163420</td></tr><tr><td>CES4244100082</td><td>42441000</td><td>Motor vehicle and parts dealers</td><td>1180297</td></tr><tr><td>CEU4244100082</td><td>42441000</td><td>Motor vehicle and parts dealers</td><td>1163420</td></tr><tr><td>CES4244110082</td><td>42441100</td><td>Automobile dealers</td><td>839595</td></tr><tr><td>CEU4244110082</td><td>42441100</td><td>Automobile dealers</td><td>831131</td></tr><tr><td>CES4244110082</td><td>42441100</td><td>Automobile dealers</td><td>839595</td></tr><tr><td>CEU4244110082</td><td>42441100</td><td>Automobile dealers</td><td>831131</td></tr><tr><td>CES4244500082</td><td>42445000</td><td>Food and beverage stores</td><td>974710</td></tr><tr><td>CEU4244500082</td><td>42445000</td><td>Food and beverage stores</td><td>963315</td></tr><tr><td>CES4244500082</td><td>42445000</td><td>Food and beverage stores</td><td>974710</td></tr><tr><td>CEU4244500082</td><td>42445000</td><td>Food and beverage stores</td><td>963315</td></tr><tr><td>CES4244510082</td><td>42445100</td><td>Grocery stores</td><td>868430</td></tr><tr><td>CEU4244510082</td><td>42445100</td><td>Grocery stores</td><td>861224</td></tr><tr><td>CES4244510082</td><td>42445100</td><td>Grocery stores</td><td>868430</td></tr><tr><td>CEU4244510082</td><td>42445100</td><td>Grocery stores</td><td>861224</td></tr><tr><td>CES4244511082</td><td>42445110</td><td>Supermarkets and other grocery stores</td><td>821282</td></tr><tr><td>CES4244511082</td><td>42445110</td><td>Supermarkets and other grocery stores</td><td>821282</td></tr><tr><td>CES4245200082</td><td>42452000</td><td>General merchandise stores</td><td>1065807</td></tr><tr><td>CEU4245200082</td><td>42452000</td><td>General merchandise stores</td><td>1049973</td></tr><tr><td>CES4245200082</td><td>42452000</td><td>General merchandise stores</td><td>1065807</td></tr><tr><td>CEU4245200082</td><td>42452000</td><td>General merchandise stores</td><td>1049973</td></tr><tr><td>CES4300000082</td><td>43000000</td><td>Transportation and warehousing</td><td>3538683</td></tr><tr><td>CEU4300000082</td><td>43000000</td><td>Transportation and warehousing</td><td>3495553</td></tr><tr><td>CES4300000082</td><td>43000000</td><td>Transportation and warehousing</td><td>3538683</td></tr><tr><td>CEU4300000082</td><td>43000000</td><td>Transportation and warehousing</td><td>3495553</td></tr><tr><td>CES4348400082</td><td>43484000</td><td>Truck transportation</td><td>1131821</td></tr><tr><td>CEU4348400082</td><td>43484000</td><td>Truck transportation</td><td>1092427</td></tr><tr><td>CES4348400082</td><td>43484000</td><td>Truck transportation</td><td>1131821</td></tr><tr><td>CEU4348400082</td><td>43484000</td><td>Truck transportation</td><td>1092427</td></tr><tr><td>CES5000000082</td><td>50000000</td><td>Information</td><td>2416443</td></tr><tr><td>CEU5000000082</td><td>50000000</td><td>Information</td><td>2434992</td></tr><tr><td>CES5000000082</td><td>50000000</td><td>Information</td><td>2416443</td></tr><tr><td>CEU5000000082</td><td>50000000</td><td>Information</td><td>2434992</td></tr><tr><td>CES5500000082</td><td>55000000</td><td>Financial activities</td><td>6328968</td></tr><tr><td>CEU5500000082</td><td>55000000</td><td>Financial activities</td><td>6467426</td></tr><tr><td>CES5500000082</td><td>55000000</td><td>Financial activities</td><td>6328968</td></tr><tr><td>CEU5500000082</td><td>55000000</td><td>Financial activities</td><td>6467426</td></tr><tr><td>CES5552200082</td><td>55522000</td><td>Credit intermediation and related activities</td><td>1717912</td></tr><tr><td>CEU5552200082</td><td>55522000</td><td>Credit intermediation and related activities</td><td>1767137</td></tr><tr><td>CES5552200082</td><td>55522000</td><td>Credit intermediation and related activities</td><td>1717912</td></tr><tr><td>CEU5552200082</td><td>55522000</td><td>Credit intermediation and related activities</td><td>1767137</td></tr><tr><td>CES5552210082</td><td>55522100</td><td>Depository credit intermediation</td><td>971796</td></tr><tr><td>CEU5552210082</td><td>55522100</td><td>Depository credit intermediation</td><td>1004069</td></tr><tr><td>CES5552210082</td><td>55522100</td><td>Depository credit intermediation</td><td>971796</td></tr><tr><td>CEU5552210082</td><td>55522100</td><td>Depository credit intermediation</td><td>1004069</td></tr><tr><td>CES5552300082</td><td>55523000</td><td>NULL</td><td>1044224</td></tr><tr><td>CEU5552300082</td><td>55523000</td><td>NULL</td><td>1087325</td></tr><tr><td>CES5552300082</td><td>55523000</td><td>NULL</td><td>1044224</td></tr><tr><td>CEU5552300082</td><td>55523000</td><td>NULL</td><td>1087325</td></tr><tr><td>CES5552400082</td><td>55524000</td><td>Insurance carriers and related activities</td><td>2347328</td></tr><tr><td>CEU5552400082</td><td>55524000</td><td>Insurance carriers and related activities</td><td>2408490</td></tr><tr><td>CES5552400082</td><td>55524000</td><td>Insurance carriers and related activities</td><td>2347328</td></tr><tr><td>CEU5552400082</td><td>55524000</td><td>Insurance carriers and related activities</td><td>2408490</td></tr><tr><td>CES5552410082</td><td>55524100</td><td>Insurance carriers</td><td>1477799</td></tr><tr><td>CEU5552410082</td><td>55524100</td><td>Insurance carriers</td><td>1509979</td></tr><tr><td>CES5552410082</td><td>55524100</td><td>Insurance carriers</td><td>1477799</td></tr><tr><td>CEU5552410082</td><td>55524100</td><td>Insurance carriers</td><td>1509979</td></tr><tr><td>CES5552420082</td><td>55524200</td><td>Insurance agencies</td><td>872398</td></tr><tr><td>CEU5552420082</td><td>55524200</td><td>Insurance agencies</td><td>894878</td></tr><tr><td>CES5552420082</td><td>55524200</td><td>Insurance agencies</td><td>872398</td></tr><tr><td>CEU5552420082</td><td>55524200</td><td>Insurance agencies</td><td>894878</td></tr><tr><td>CES5553100082</td><td>55531000</td><td>Real estate</td><td>862987</td></tr><tr><td>CEU5553100082</td><td>55531000</td><td>Real estate</td><td>865620</td></tr><tr><td>CES5553100082</td><td>55531000</td><td>Real estate</td><td>862987</td></tr><tr><td>CEU5553100082</td><td>55531000</td><td>Real estate</td><td>865620</td></tr><tr><td>CES6000000082</td><td>60000000</td><td>Professional and business services</td><td>15251268</td></tr><tr><td>CEU6000000082</td><td>60000000</td><td>Professional and business services</td><td>15219807</td></tr><tr><td>CES6000000082</td><td>60000000</td><td>Professional and business services</td><td>15251268</td></tr><tr><td>CEU6000000082</td><td>60000000</td><td>Professional and business services</td><td>15219807</td></tr><tr><td>CES6054000082</td><td>60540000</td><td>Professional and technical services</td><td>8821026</td></tr><tr><td>CEU6054000082</td><td>60540000</td><td>Professional and technical services</td><td>8976687</td></tr><tr><td>CES6054000082</td><td>60540000</td><td>Professional and technical services</td><td>8821026</td></tr><tr><td>CEU6054000082</td><td>60540000</td><td>Professional and technical services</td><td>8976687</td></tr><tr><td>CES6054110082</td><td>60541100</td><td>Legal services</td><td>1058862</td></tr><tr><td>CEU6054110082</td><td>60541100</td><td>Legal services</td><td>1093898</td></tr><tr><td>CES6054110082</td><td>60541100</td><td>Legal services</td><td>1058862</td></tr><tr><td>CEU6054110082</td><td>60541100</td><td>Legal services</td><td>1093898</td></tr><tr><td>CES6054111082</td><td>60541110</td><td>Offices of lawyers</td><td>1004009</td></tr><tr><td>CEU6054111082</td><td>60541110</td><td>Offices of lawyers</td><td>1038464</td></tr><tr><td>CES6054111082</td><td>60541110</td><td>Offices of lawyers</td><td>1004009</td></tr><tr><td>CEU6054111082</td><td>60541110</td><td>Offices of lawyers</td><td>1038464</td></tr><tr><td>CES6054130082</td><td>60541300</td><td>Architectural and engineering services</td><td>1439445</td></tr><tr><td>CEU6054130082</td><td>60541300</td><td>Architectural and engineering services</td><td>1422967</td></tr><tr><td>CES6054130082</td><td>60541300</td><td>Architectural and engineering services</td><td>1439445</td></tr><tr><td>CEU6054130082</td><td>60541300</td><td>Architectural and engineering services</td><td>1422967</td></tr><tr><td>CES6054134082</td><td>60541340</td><td>NULL</td><td>1051499</td></tr><tr><td>CEU6054134082</td><td>60541340</td><td>NULL</td><td>1042223</td></tr><tr><td>CES6054134082</td><td>60541340</td><td>NULL</td><td>1051499</td></tr><tr><td>CEU6054134082</td><td>60541340</td><td>NULL</td><td>1042223</td></tr><tr><td>CES6054150082</td><td>60541500</td><td>Computer systems design and related services</td><td>2666568</td></tr><tr><td>CEU6054150082</td><td>60541500</td><td>Computer systems design and related services</td><td>2725031</td></tr><tr><td>CES6054150082</td><td>60541500</td><td>Computer systems design and related services</td><td>2666568</td></tr><tr><td>CEU6054150082</td><td>60541500</td><td>Computer systems design and related services</td><td>2725031</td></tr><tr><td>CES6054151182</td><td>60541511</td><td>Custom computer programming services</td><td>1173494</td></tr><tr><td>CEU6054151182</td><td>60541511</td><td>Custom computer programming services</td><td>1198283</td></tr><tr><td>CES6054151182</td><td>60541511</td><td>Custom computer programming services</td><td>1173494</td></tr><tr><td>CEU6054151182</td><td>60541511</td><td>Custom computer programming services</td><td>1198283</td></tr><tr><td>CES6054151282</td><td>60541512</td><td>Computer systems design services</td><td>1274481</td></tr><tr><td>CEU6054151282</td><td>60541512</td><td>Computer systems design services</td><td>1309441</td></tr><tr><td>CES6054151282</td><td>60541512</td><td>Computer systems design services</td><td>1274481</td></tr><tr><td>CEU6054151282</td><td>60541512</td><td>Computer systems design services</td><td>1309441</td></tr><tr><td>CES6054160082</td><td>60541600</td><td>Management and technical consulting services</td><td>1330587</td></tr><tr><td>CEU6054160082</td><td>60541600</td><td>Management and technical consulting services</td><td>1336594</td></tr><tr><td>CES6054160082</td><td>60541600</td><td>Management and technical consulting services</td><td>1330587</td></tr><tr><td>CEU6054160082</td><td>60541600</td><td>Management and technical consulting services</td><td>1336594</td></tr><tr><td>CES6054161082</td><td>60541610</td><td>Management consulting services</td><td>1053691</td></tr><tr><td>CEU6054161082</td><td>60541610</td><td>Management consulting services</td><td>1066602</td></tr><tr><td>CES6054161082</td><td>60541610</td><td>Management consulting services</td><td>1053691</td></tr><tr><td>CEU6054161082</td><td>60541610</td><td>Management consulting services</td><td>1066602</td></tr><tr><td>CES6055000082</td><td>60550000</td><td>Management of companies and enterprises</td><td>1566036</td></tr><tr><td>CEU6055000082</td><td>60550000</td><td>Management of companies and enterprises</td><td>1587677</td></tr><tr><td>CES6055000082</td><td>60550000</td><td>Management of companies and enterprises</td><td>1566036</td></tr><tr><td>CEU6055000082</td><td>60550000</td><td>Management of companies and enterprises</td><td>1587677</td></tr><tr><td>CES6055111482</td><td>60551114</td><td>Managing offices</td><td>1496334</td></tr><tr><td>CEU6055111482</td><td>60551114</td><td>Managing offices</td><td>1517287</td></tr><tr><td>CES6055111482</td><td>60551114</td><td>Managing offices</td><td>1496334</td></tr><tr><td>CEU6055111482</td><td>60551114</td><td>Managing offices</td><td>1517287</td></tr><tr><td>CES6056000082</td><td>60560000</td><td>Administrative and waste services</td><td>4886085</td></tr><tr><td>CEU6056000082</td><td>60560000</td><td>Administrative and waste services</td><td>4659531</td></tr><tr><td>CES6056000082</td><td>60560000</td><td>Administrative and waste services</td><td>4886085</td></tr><tr><td>CEU6056000082</td><td>60560000</td><td>Administrative and waste services</td><td>4659531</td></tr><tr><td>CES6056100082</td><td>60561000</td><td>Administrative and support services</td><td>4565569</td></tr><tr><td>CEU6056100082</td><td>60561000</td><td>Administrative and support services</td><td>4357866</td></tr><tr><td>CES6056100082</td><td>60561000</td><td>Administrative and support services</td><td>4565569</td></tr><tr><td>CEU6056100082</td><td>60561000</td><td>Administrative and support services</td><td>4357866</td></tr><tr><td>CES6056130082</td><td>60561300</td><td>Employment services</td><td>2013846</td></tr><tr><td>CEU6056130082</td><td>60561300</td><td>Employment services</td><td>1938059</td></tr><tr><td>CES6056130082</td><td>60561300</td><td>Employment services</td><td>2013846</td></tr><tr><td>CEU6056130082</td><td>60561300</td><td>Employment services</td><td>1938059</td></tr><tr><td>CES6056132082</td><td>60561320</td><td>Temporary help services</td><td>1598939</td></tr><tr><td>CEU6056132082</td><td>60561320</td><td>Temporary help services</td><td>1530782</td></tr><tr><td>CES6056132082</td><td>60561320</td><td>Temporary help services</td><td>1598939</td></tr><tr><td>CEU6056132082</td><td>60561320</td><td>Temporary help services</td><td>1530782</td></tr><tr><td>CES6056170082</td><td>60561700</td><td>Services to buildings and dwellings</td><td>846000</td></tr><tr><td>CES6056170082</td><td>60561700</td><td>Services to buildings and dwellings</td><td>846000</td></tr><tr><td>CES6500000082</td><td>65000000</td><td>Education and health services</td><td>14765156</td></tr><tr><td>CEU6500000082</td><td>65000000</td><td>Education and health services</td><td>14816074</td></tr><tr><td>CES6500000082</td><td>65000000</td><td>Education and health services</td><td>14765156</td></tr><tr><td>CEU6500000082</td><td>65000000</td><td>Education and health services</td><td>14816074</td></tr><tr><td>CES6562000082</td><td>65620000</td><td>Health care and social assistance</td><td>12762526</td></tr><tr><td>CEU6562000082</td><td>65620000</td><td>Health care and social assistance</td><td>12878462</td></tr><tr><td>CES6562000082</td><td>65620000</td><td>Health care and social assistance</td><td>12762526</td></tr><tr><td>CEU6562000082</td><td>65620000</td><td>Health care and social assistance</td><td>12878462</td></tr><tr><td>CES6562000182</td><td>65620001</td><td>NULL</td><td>11413008</td></tr><tr><td>CEU6562000182</td><td>65620001</td><td>NULL</td><td>11537267</td></tr><tr><td>CES6562000182</td><td>65620001</td><td>NULL</td><td>11413008</td></tr><tr><td>CEU6562000182</td><td>65620001</td><td>NULL</td><td>11537267</td></tr><tr><td>CES6562100082</td><td>65621000</td><td>Ambulatory health care services</td><td>4875906</td></tr><tr><td>CEU6562100082</td><td>65621000</td><td>Ambulatory health care services</td><td>4907269</td></tr><tr><td>CES6562100082</td><td>65621000</td><td>Ambulatory health care services</td><td>4875906</td></tr><tr><td>CEU6562100082</td><td>65621000</td><td>Ambulatory health care services</td><td>4907269</td></tr><tr><td>CES6562110082</td><td>65621100</td><td>Offices of physicians</td><td>2141331</td></tr><tr><td>CEU6562110082</td><td>65621100</td><td>Offices of physicians</td><td>2149121</td></tr><tr><td>CES6562110082</td><td>65621100</td><td>Offices of physicians</td><td>2141331</td></tr><tr><td>CEU6562110082</td><td>65621100</td><td>Offices of physicians</td><td>2149121</td></tr><tr><td>CES6562111182</td><td>65621111</td><td>Offices of physicians</td><td>2113086</td></tr><tr><td>CEU6562111182</td><td>65621111</td><td>Offices of physicians</td><td>2121845</td></tr><tr><td>CES6562111182</td><td>65621111</td><td>Offices of physicians</td><td>2113086</td></tr><tr><td>CEU6562111182</td><td>65621111</td><td>Offices of physicians</td><td>2121845</td></tr><tr><td>CES6562200082</td><td>65622000</td><td>Hospitals</td><td>5048432</td></tr><tr><td>CEU6562200082</td><td>65622000</td><td>Hospitals</td><td>5105336</td></tr><tr><td>CES6562200082</td><td>65622000</td><td>Hospitals</td><td>5048432</td></tr><tr><td>CEU6562200082</td><td>65622000</td><td>Hospitals</td><td>5105336</td></tr><tr><td>CES6562210082</td><td>65622100</td><td>General medical and surgical hospitals</td><td>4716914</td></tr><tr><td>CEU6562210082</td><td>65622100</td><td>General medical and surgical hospitals</td><td>4773547</td></tr><tr><td>CES6562210082</td><td>65622100</td><td>General medical and surgical hospitals</td><td>4716914</td></tr><tr><td>CEU6562210082</td><td>65622100</td><td>General medical and surgical hospitals</td><td>4773547</td></tr><tr><td>CES6562300082</td><td>65623000</td><td>Nursing and residential care facilities</td><td>1489277</td></tr><tr><td>CEU6562300082</td><td>65623000</td><td>Nursing and residential care facilities</td><td>1525889</td></tr><tr><td>CES6562300082</td><td>65623000</td><td>Nursing and residential care facilities</td><td>1489277</td></tr><tr><td>CEU6562300082</td><td>65623000</td><td>Nursing and residential care facilities</td><td>1525889</td></tr><tr><td>CES6562400082</td><td>65624000</td><td>Social assistance</td><td>1337022</td></tr><tr><td>CEU6562400082</td><td>65624000</td><td>Social assistance</td><td>1357629</td></tr><tr><td>CES6562400082</td><td>65624000</td><td>Social assistance</td><td>1337022</td></tr><tr><td>CEU6562400082</td><td>65624000</td><td>Social assistance</td><td>1357629</td></tr><tr><td>CES6562410082</td><td>65624100</td><td>Individual and family services</td><td>828771</td></tr><tr><td>CEU6562410082</td><td>65624100</td><td>Individual and family services</td><td>838886</td></tr><tr><td>CES6562410082</td><td>65624100</td><td>Individual and family services</td><td>828771</td></tr><tr><td>CEU6562410082</td><td>65624100</td><td>Individual and family services</td><td>838886</td></tr><tr><td>CES7000000082</td><td>70000000</td><td>Leisure and hospitality</td><td>4537173</td></tr><tr><td>CEU7000000082</td><td>70000000</td><td>Leisure and hospitality</td><td>4224098</td></tr><tr><td>CES7000000082</td><td>70000000</td><td>Leisure and hospitality</td><td>4537173</td></tr><tr><td>CEU7000000082</td><td>70000000</td><td>Leisure and hospitality</td><td>4224098</td></tr><tr><td>CES7072000082</td><td>70720000</td><td>Accommodation and food services</td><td>3802356</td></tr><tr><td>CEU7072000082</td><td>70720000</td><td>Accommodation and food services</td><td>3572648</td></tr><tr><td>CES7072000082</td><td>70720000</td><td>Accommodation and food services</td><td>3802356</td></tr><tr><td>CEU7072000082</td><td>70720000</td><td>Accommodation and food services</td><td>3572648</td></tr><tr><td>CES7072200082</td><td>70722000</td><td>Food services and drinking places</td><td>3085429</td></tr><tr><td>CEU7072200082</td><td>70722000</td><td>Food services and drinking places</td><td>2913295</td></tr><tr><td>CES7072200082</td><td>70722000</td><td>Food services and drinking places</td><td>3085429</td></tr><tr><td>CEU7072200082</td><td>70722000</td><td>Food services and drinking places</td><td>2913295</td></tr><tr><td>CES7072250082</td><td>70722500</td><td>Restaurants and other eating places</td><td>2768855</td></tr><tr><td>CEU7072250082</td><td>70722500</td><td>Restaurants and other eating places</td><td>2617225</td></tr><tr><td>CES7072250082</td><td>70722500</td><td>Restaurants and other eating places</td><td>2768855</td></tr><tr><td>CEU7072250082</td><td>70722500</td><td>Restaurants and other eating places</td><td>2617225</td></tr><tr><td>CES7072251182</td><td>70722511</td><td>Full-service restaurants</td><td>1626780</td></tr><tr><td>CEU7072251182</td><td>70722511</td><td>Full-service restaurants</td><td>1528888</td></tr><tr><td>CES7072251182</td><td>70722511</td><td>Full-service restaurants</td><td>1626780</td></tr><tr><td>CEU7072251182</td><td>70722511</td><td>Full-service restaurants</td><td>1528888</td></tr><tr><td>CES7072251382</td><td>70722513</td><td>Limited-service restaurants</td><td>969748</td></tr><tr><td>CEU7072251382</td><td>70722513</td><td>Limited-service restaurants</td><td>922041</td></tr><tr><td>CES7072251382</td><td>70722513</td><td>Limited-service restaurants</td><td>969748</td></tr><tr><td>CEU7072251382</td><td>70722513</td><td>Limited-service restaurants</td><td>922041</td></tr><tr><td>CES8000000082</td><td>80000000</td><td>Other services</td><td>2875314</td></tr><tr><td>CEU8000000082</td><td>80000000</td><td>Other services</td><td>2836698</td></tr><tr><td>CES8000000082</td><td>80000000</td><td>Other services</td><td>2875314</td></tr><tr><td>CEU8000000082</td><td>80000000</td><td>Other services</td><td>2836698</td></tr><tr><td>CES8081300082</td><td>80813000</td><td>Membership associations and organizations</td><td>1599916</td></tr><tr><td>CEU8081300082</td><td>80813000</td><td>Membership associations and organizations</td><td>1594855</td></tr><tr><td>CES8081300082</td><td>80813000</td><td>Membership associations and organizations</td><td>1599916</td></tr><tr><td>CEU8081300082</td><td>80813000</td><td>Membership associations and organizations</td><td>1594855</td></tr></table>"
                    },
                    "metadata": {}
                }
            ],
            "execution_count": 33
        },
        {
            "cell_type": "markdown",
            "source": [
                "2. Create a `Union` table comparing average weekly earnings of production and nonsupervisory employees between `annual_2016` and `january_2017` using the data type 30.  Round to the nearest penny.  You should have a column for the average earnings and a column for the year, and the period."
            ],
            "metadata": {
                "azdata_cell_guid": "661cb463-cf71-40cb-9d03-9bb37492e2d5"
            }
        },
        {
            "cell_type": "code",
            "source": [
                "use LaborStatisticsDB;\n",
                "\n",
                "select \n",
                "    year,\n",
                "    period, \n",
                "    round(avg(value),2) as Avg_Earnings -- Round to the nearest penny\n",
                "from annual_2016\n",
                "\n",
                "-- filtering for average weekly earnings of production and nonsupervisory employees(=data type 30)\n",
                "-- by parsing the series_id\n",
                "where right(series_id,2)=30\n",
                "group by year,period\n",
                "\n",
                "-- combining the results of annual_2016 and january_2017 tables \n",
                "Union\n",
                "\n",
                "select \n",
                "    year,\n",
                "    period, \n",
                "    round(avg(value),2) as Avg_Earnings -- Round to the nearest penny\n",
                "from january_2017\n",
                "\n",
                "-- filtering for average weekly earnings of production and nonsupervisory employees(=data type 30)\n",
                "-- by parsing the series_id\n",
                "where right(series_id,2)=30\n",
                "group by year,period;\n",
                "\n",
                "\n",
                "\n",
                "\n",
                "\n",
                "\n",
                "\n",
                "\n",
                "\n",
                ""
            ],
            "metadata": {
                "vscode": {
                    "languageId": "sql"
                },
                "azdata_cell_guid": "327f3949-b20f-4c1e-a126-6005719bf8df",
                "language": "sql"
            },
            "outputs": [
                {
                    "output_type": "display_data",
                    "data": {
                        "text/html": "(2 rows affected)"
                    },
                    "metadata": {}
                },
                {
                    "output_type": "display_data",
                    "data": {
                        "text/html": "Total execution time: 00:00:00.193"
                    },
                    "metadata": {}
                },
                {
                    "output_type": "execute_result",
                    "execution_count": 24,
                    "data": {
                        "application/vnd.dataresource+json": {
                            "schema": {
                                "fields": [
                                    {
                                        "name": "year"
                                    },
                                    {
                                        "name": "period"
                                    },
                                    {
                                        "name": "Avg_Earnings"
                                    }
                                ]
                            },
                            "data": [
                                {
                                    "year": "2016",
                                    "period": "M13",
                                    "Avg_Earnings": "797.2"
                                },
                                {
                                    "year": "2017",
                                    "period": "M01",
                                    "Avg_Earnings": "808.53"
                                }
                            ]
                        },
                        "text/html": "<table><tr><th>year</th><th>period</th><th>Avg_Earnings</th></tr><tr><td>2016</td><td>M13</td><td>797.2</td></tr><tr><td>2017</td><td>M01</td><td>808.53</td></tr></table>"
                    },
                    "metadata": {}
                }
            ],
            "execution_count": 24
        },
        {
            "cell_type": "markdown",
            "source": [
                "## Summarize Your Results\n",
                "\n",
                "With what you know now about the  Bureau of Labor Statistics (BLS) Current Employment Survey (CES) results and working with the Labor Statistics Database, answer the following questions. Note that while this is subjective, you should include relevant data to back up your opinion.\n",
                "\n",
                "1. During which time period did production and nonsupervisory employees fare better?"
            ],
            "metadata": {
                "azdata_cell_guid": "cbda1089-6fdf-4b89-9651-54862cf7eb08"
            }
        },
        {
            "cell_type": "markdown",
            "source": [
                "After comparing the 'Production and Nonsupervisory Employees' during the two time periods 2016 and Jan 2017, on the following variables \n",
                "\n",
                "AVERAGE WEEKLY <span style=\"color: #0000ff;\">HOURS</span>\n",
                "\n",
                "AVERAGE HOURLY EARNINGS\n",
                "\n",
                "AVERAGE WEEKLY OVERTIME <span style=\"color: #0000ff;\">HOURS</span>\n",
                "\n",
                "AVERAGE WEEKLY EARNINGS\n",
                "\n",
                "AVERAGE WEEKLY EARNINGS\n",
                "\n",
                "AVERAGE HOURLY EARNINGS\n",
                "\n",
                "AVERAGE HOURLY EARNINGS\n",
                "\n",
                "<span style=\"color: #0000ff;\">AGGREGATE</span> WEEKLY <span style=\"color: #0000ff;\">HOURS</span>\n",
                "\n",
                "<span style=\"color: #0000ff;\">AGGREGATE</span> WEEKLY PAYROLLS\n",
                "\n",
                "<span style=\"color: rgb(0, 0, 255);\">AGGREGATE</span> WEEKLY OVERTIME <span style=\"color: rgb(0, 0, 255);\">HOURS</span>\n",
                "\n",
                "There isnt much difference <span style=\"color: #0000ff;\">between</span> the two <span style=\"color: #0000ff;\">time</span> periods <span style=\"color: #09885a;\">2016</span> <span style=\"color: #0000ff;\">and</span> Jan <span style=\"color: #09885a;\">2017</span> <span style=\"color: #0000ff;\">except</span> <span style=\"color: #0000ff;\">for</span> the marginal difference of\n",
                "\n",
                "about <span style=\"color: #09885a;\">14</span>,<span style=\"color: #09885a;\">000</span> more Aggregate Weekly Payrolls in Jan 2017 than in <span style=\"color: #09885a;\">2016</span> and\n",
                "\n",
                "about <span style=\"color: #09885a;\">100</span> hrs more Aggregate Weekly Overtime in Jan 2017 than in <span style=\"color: #09885a;\">2016.</span> \n",
                "\n",
                "<span style=\"font-family: -apple-system, BlinkMacSystemFont, sans-serif; color: var(--vscode-foreground);\">In summary, the&nbsp;</span>   <span style=\"font-family: -apple-system, BlinkMacSystemFont, sans-serif; color: var(--vscode-foreground);\">production and nonsupervisory employees did similarly in both 2016 and Jan 2017.</span>\n",
                "\n",
                "<span style=\"font-family: -apple-system, BlinkMacSystemFont, sans-serif; color: var(--vscode-foreground);\"><br></span>\n",
                "\n",
                "<span style=\"color: rgb(0, 128, 0);\"><br class=\"Apple-interchange-newline\">-- Get all the data type codes for Production and Nonsupervisory Employees</span>\n",
                "\n",
                "<span style=\"font-family: Menlo, Monaco, &quot;Courier New&quot;, monospace; font-size: 12px; white-space: pre; color: rgb(0, 0, 255);\">select</span> <span style=\"font-family: Menlo, Monaco, &quot;Courier New&quot;, monospace; font-size: 12px; white-space: pre; color: rgb(0, 0, 0);\">*</span>\n",
                "\n",
                "<span style=\"font-family: Menlo, Monaco, &quot;Courier New&quot;, monospace; font-size: 12px; white-space: pre; color: rgb(0, 0, 255);\">from</span>  <span style=\"color: rgb(33, 33, 33); font-family: Menlo, Monaco, &quot;Courier New&quot;, monospace; font-size: 12px; white-space: pre;\"> datatype</span>\n",
                "\n",
                "<span style=\"color: rgb(0, 0, 255);\">where</span> data\\_type\\_text <span style=\"color: rgb(0, 0, 255);\">like</span> <span style=\"color: rgb(163, 21, 21);\">'%PRODUCTION AND NONSUPERVISORY EMPLOYEES%'</span>;\n",
                "\n",
                "  \n",
                "\n",
                "<span style=\"color: #008000;\">-- AVERAGE WEEKLY HOURS OF PRODUCTION AND NONSUPERVISORY EMPLOYEES</span>\n",
                "\n",
                "<span style=\"color: #008000;\">-- 2017</span>\n",
                "\n",
                "<span style=\"color: #0000ff;\">select</span> <span style=\"color: #0000ff;\">year</span>, \\[period\\], <span style=\"color: #795e26;\">avg</span>(\\[value\\]) <span style=\"color: #0000ff;\">as</span> avg\\_wkly\\_hrs\\_ProdNonsupEmp, <span style=\"color: #a31515;\">'avg_wkly_hrs'</span>\n",
                "\n",
                "<span style=\"color: #0000ff;\">from</span> january\\_2017\n",
                "\n",
                "<span style=\"color: #0000ff;\">where</span> <span style=\"color: #795e26;\">right</span>(series\\_id,<span style=\"color: #09885a;\">2</span>) <span style=\"color: #000000;\">=</span> <span style=\"color: #09885a;\">07</span>\n",
                "\n",
                "<span style=\"color: #0000ff;\">group by</span> <span style=\"color: #0000ff;\">year</span>, \\[period\\];\n",
                "\n",
                "<span style=\"color: #008000;\">-- 2016</span>\n",
                "\n",
                "<span style=\"color: #0000ff;\">select</span> <span style=\"color: #0000ff;\">year</span>, \\[period\\], <span style=\"color: #795e26;\">avg</span>(\\[value\\]) <span style=\"color: #0000ff;\">as</span> avg\\_wkly\\_hrs\\_ProdNonsupEmp, <span style=\"color: #a31515;\">'avg_wkly_hrs'</span>\n",
                "\n",
                "<span style=\"color: #0000ff;\">from</span> annual\\_2016\n",
                "\n",
                "<span style=\"color: #0000ff;\">where</span> <span style=\"color: #795e26;\">right</span>(series\\_id,<span style=\"color: #09885a;\">2</span>) <span style=\"color: #000000;\">=</span> <span style=\"color: #09885a;\">07</span>\n",
                "\n",
                "<span style=\"color: #0000ff;\">group by</span> <span style=\"color: #0000ff;\">year</span>, \\[period\\];\n",
                "\n",
                "<span style=\"color: #008000;\">-- 2017 M01 36.05862068965521 avg_wkly_hrs</span>\n",
                "\n",
                "<span style=\"color: #008000;\">-- 2016 M13 36.10689655172414 avg_wkly_hrs</span>\n",
                "\n",
                "<span style=\"color: #008000;\">-- There is not much difference in the average weekly hours spent working between 2016 and Jan, 2017</span>\n",
                "\n",
                "<span style=\"color: #008000;\"><br></span>\n",
                "\n",
                "<span style=\"color: #008000;\">-- AVERAGE HOURLY EARNINGS OF PRODUCTION AND NONSUPERVISORY EMPLOYEES</span>\n",
                "\n",
                "<span style=\"color: #008000;\">-- 2017</span>\n",
                "\n",
                "<span style=\"color: #0000ff;\">select</span> <span style=\"color: #0000ff;\">year</span>, \\[period\\], <span style=\"color: #795e26;\">avg</span>(\\[value\\]) <span style=\"color: #0000ff;\">as</span> avg\\_hr\\_earnings, <span style=\"color: #a31515;\">'avg_hr_earnings'</span>\n",
                "\n",
                "<span style=\"color: #0000ff;\">from</span> january\\_2017\n",
                "\n",
                "<span style=\"color: #0000ff;\">where</span> <span style=\"color: #795e26;\">right</span>(series\\_id,<span style=\"color: #09885a;\">2</span>) <span style=\"color: #000000;\">=</span> <span style=\"color: #09885a;\">08</span>\n",
                "\n",
                "<span style=\"color: #0000ff;\">group by</span> <span style=\"color: #0000ff;\">year</span>, \\[period\\];\n",
                "\n",
                "<span style=\"color: #008000;\">-- 2016</span>\n",
                "\n",
                "<span style=\"color: #0000ff;\">select</span> <span style=\"color: #0000ff;\">year</span>, \\[period\\], <span style=\"color: #795e26;\">avg</span>(\\[value\\]) <span style=\"color: #0000ff;\">as</span> avg\\_hr\\_earnings, <span style=\"color: #a31515;\">'avg_hr_earnings'</span>\n",
                "\n",
                "<span style=\"color: #0000ff;\">from</span> annual\\_2016\n",
                "\n",
                "<span style=\"color: #0000ff;\">where</span> <span style=\"color: #795e26;\">right</span>(series\\_id,<span style=\"color: #09885a;\">2</span>) <span style=\"color: #000000;\">=</span> <span style=\"color: #09885a;\">08</span>\n",
                "\n",
                "<span style=\"color: #0000ff;\">group by</span> <span style=\"color: #0000ff;\">year</span>, \\[period\\];\n",
                "\n",
                "<span style=\"color: #008000;\">-- 2017 M01 21.96249546279492 avg_hr_earnings</span>\n",
                "\n",
                "<span style=\"color: #008000;\">-- 2016 M13 21.647241379310362 avg_hr_earnings</span>\n",
                "\n",
                "<span style=\"color: #008000;\">-- There is not much difference in the AVERAGE HOURLY EARNINGS between 2016 and Jan, 2017</span>\n",
                "\n",
                "<span style=\"color: #008000;\"><br></span>\n",
                "\n",
                "<span style=\"color: #008000;\">-- AVERAGE WEEKLY OVERTIME HOURS OF PRODUCTION AND NONSUPERVISORY EMPLOYEES</span>\n",
                "\n",
                "<span style=\"color: #008000;\">-- 2017</span>\n",
                "\n",
                "<span style=\"color: #0000ff;\">select</span> <span style=\"color: #0000ff;\">year</span>, \\[period\\], <span style=\"color: #795e26;\">avg</span>(\\[value\\]) <span style=\"color: #0000ff;\">as</span> avg\\_wkly\\_OT, <span style=\"color: #a31515;\">'avg_wkly_OT'</span>\n",
                "\n",
                "<span style=\"color: #0000ff;\">from</span> january\\_2017\n",
                "\n",
                "<span style=\"color: #0000ff;\">where</span> <span style=\"color: #795e26;\">right</span>(series\\_id,<span style=\"color: #09885a;\">2</span>) <span style=\"color: #000000;\">=</span> <span style=\"color: #09885a;\">09</span>\n",
                "\n",
                "<span style=\"color: #0000ff;\">group by</span> <span style=\"color: #0000ff;\">year</span>, \\[period\\];\n",
                "\n",
                "<span style=\"color: #008000;\">-- 2016</span>\n",
                "\n",
                "<span style=\"color: #0000ff;\">select</span> <span style=\"color: #0000ff;\">year</span>, \\[period\\], <span style=\"color: #795e26;\">avg</span>(\\[value\\]) <span style=\"color: #0000ff;\">as</span> avg\\_wkly\\_OT, <span style=\"color: #a31515;\">'avg_wkly_OT'</span>\n",
                "\n",
                "<span style=\"color: #0000ff;\">from</span> annual\\_2016\n",
                "\n",
                "<span style=\"color: #0000ff;\">where</span> <span style=\"color: #795e26;\">right</span>(series\\_id,<span style=\"color: #09885a;\">2</span>) <span style=\"color: #000000;\">=</span> <span style=\"color: #09885a;\">09</span>\n",
                "\n",
                "<span style=\"color: #0000ff;\">group by</span> <span style=\"color: #0000ff;\">year</span>, \\[period\\];\n",
                "\n",
                "<span style=\"color: #008000;\">-- 2017 M01 4.110396039603962 avg_wkly_OT</span>\n",
                "\n",
                "<span style=\"color: #008000;\">-- 2016 M13 4.352475247524754 avg_wkly_OT</span>\n",
                "\n",
                "<span style=\"color: #008000;\">-- There is not much difference in the AVERAGE WEEKLY OVERTIME HOURS between 2016 and Jan, 2017</span>\n",
                "\n",
                "<span style=\"color: #008000;\"><br></span>\n",
                "\n",
                "<span style=\"color: #008000;\">-- AVERAGE WEEKLY EARNINGS OF PRODUCTION AND NONSUPERVISORY EMPLOYEES</span>\n",
                "\n",
                "<span style=\"color: #008000;\">-- 2017</span>\n",
                "\n",
                "<span style=\"color: #0000ff;\">select</span> <span style=\"color: #0000ff;\">year</span>, \\[period\\], <span style=\"color: #795e26;\">avg</span>(\\[value\\]) <span style=\"color: #0000ff;\">as</span> avg\\_wkly\\_earnings, <span style=\"color: #a31515;\">'avg_wkly_earnings'</span>\n",
                "\n",
                "<span style=\"color: #0000ff;\">from</span> january\\_2017\n",
                "\n",
                "<span style=\"color: #0000ff;\">where</span> <span style=\"color: #795e26;\">right</span>(series\\_id,<span style=\"color: #09885a;\">2</span>) <span style=\"color: #000000;\">=</span> <span style=\"color: #09885a;\">30</span>\n",
                "\n",
                "<span style=\"color: #0000ff;\">group by</span> <span style=\"color: #0000ff;\">year</span>, \\[period\\];\n",
                "\n",
                "<span style=\"color: #008000;\">-- 2016</span>\n",
                "\n",
                "<span style=\"color: #0000ff;\">select</span> <span style=\"color: #0000ff;\">year</span>, \\[period\\], <span style=\"color: #795e26;\">avg</span>(\\[value\\]) <span style=\"color: #0000ff;\">as</span> avg\\_wkly\\_earnings, <span style=\"color: #a31515;\">'avg_wkly_earnings'</span>\n",
                "\n",
                "<span style=\"color: #0000ff;\">from</span> annual\\_2016\n",
                "\n",
                "<span style=\"color: #0000ff;\">where</span> <span style=\"color: #795e26;\">right</span>(series\\_id,<span style=\"color: #09885a;\">2</span>) <span style=\"color: #000000;\">=</span> <span style=\"color: #09885a;\">30</span>\n",
                "\n",
                "<span style=\"color: #0000ff;\">group by</span> <span style=\"color: #0000ff;\">year</span>, \\[period\\];\n",
                "\n",
                "<span style=\"color: #008000;\">-- 2017 M01 808.5303811252254 avg_wkly_earnings</span>\n",
                "\n",
                "<span style=\"color: #008000;\">-- 2016 M13 797.1962613430123 avg_wkly_earnings</span>\n",
                "\n",
                "<span style=\"color: #008000;\">-- There is not much difference in the AVERAGE WEEKLY EARNINGS between 2016 and Jan, 2017</span>\n",
                "\n",
                "<span style=\"color: #008000;\">-- for datatype code 30</span>\n",
                "\n",
                "<span style=\"color: #008000;\"><br></span>\n",
                "\n",
                "<span style=\"color: #008000;\">-- AVERAGE WEEKLY EARNINGS OF PRODUCTION AND NONSUPERVISORY EMPLOYEES</span>\n",
                "\n",
                "<span style=\"color: #008000;\">-- 2017</span>\n",
                "\n",
                "<span style=\"color: #0000ff;\">select</span> <span style=\"color: #0000ff;\">year</span>, \\[period\\], <span style=\"color: #795e26;\">avg</span>(\\[value\\]) <span style=\"color: #0000ff;\">as</span> avg\\_wkly\\_earnings, <span style=\"color: #a31515;\">'avg_wkly_earnings'</span>\n",
                "\n",
                "<span style=\"color: #0000ff;\">from</span> january\\_2017\n",
                "\n",
                "<span style=\"color: #0000ff;\">where</span> <span style=\"color: #795e26;\">right</span>(series\\_id,<span style=\"color: #09885a;\">2</span>) <span style=\"color: #000000;\">=</span> <span style=\"color: #09885a;\">31</span>\n",
                "\n",
                "<span style=\"color: #0000ff;\">group by</span> <span style=\"color: #0000ff;\">year</span>, \\[period\\];\n",
                "\n",
                "<span style=\"color: #008000;\">-- 2016</span>\n",
                "\n",
                "<span style=\"color: #0000ff;\">select</span> <span style=\"color: #0000ff;\">year</span>, \\[period\\], <span style=\"color: #795e26;\">avg</span>(\\[value\\]) <span style=\"color: #0000ff;\">as</span> avg\\_wkly\\_earnings, <span style=\"color: #a31515;\">'avg_wkly_earnings'</span>\n",
                "\n",
                "<span style=\"color: #0000ff;\">from</span> annual\\_2016\n",
                "\n",
                "<span style=\"color: #0000ff;\">where</span> <span style=\"color: #795e26;\">right</span>(series\\_id,<span style=\"color: #09885a;\">2</span>) <span style=\"color: #000000;\">=</span> <span style=\"color: #09885a;\">31</span>\n",
                "\n",
                "<span style=\"color: #0000ff;\">group by</span> <span style=\"color: #0000ff;\">year</span>, \\[period\\];\n",
                "\n",
                "<span style=\"color: #008000;\">-- 2017 M01 340.281088929221 avg_wkly_earnings</span>\n",
                "\n",
                "<span style=\"color: #008000;\">-- 2016 M13 340.5716696914706 avg_wkly_earnings</span>\n",
                "\n",
                "<span style=\"color: #008000;\">-- There is not much difference in the AVERAGE WEEKLY EARNINGS between 2016 and Jan, 2017</span>\n",
                "\n",
                "<span style=\"color: #008000;\">-- for datatype code 31</span>\n",
                "\n",
                "  \n",
                "\n",
                "<span style=\"color: #008000;\">-- AVERAGE HOURLY EARNINGS OF PRODUCTION AND NONSUPERVISORY EMPLOYEES</span>\n",
                "\n",
                "<span style=\"color: #008000;\">-- 2017</span>\n",
                "\n",
                "<span style=\"color: #0000ff;\">select</span> <span style=\"color: #0000ff;\">year</span>, \\[period\\], <span style=\"color: #795e26;\">avg</span>(\\[value\\]) <span style=\"color: #0000ff;\">as</span> avg\\_hrly\\_earnings, <span style=\"color: #a31515;\">'avg_hrly_earnings'</span>\n",
                "\n",
                "<span style=\"color: #0000ff;\">from</span> january\\_2017\n",
                "\n",
                "<span style=\"color: #0000ff;\">where</span> <span style=\"color: #795e26;\">right</span>(series\\_id,<span style=\"color: #09885a;\">2</span>) <span style=\"color: #000000;\">=</span> <span style=\"color: #09885a;\">32</span>\n",
                "\n",
                "<span style=\"color: #0000ff;\">group by</span> <span style=\"color: #0000ff;\">year</span>, \\[period\\];\n",
                "\n",
                "<span style=\"color: #008000;\">-- 2016</span>\n",
                "\n",
                "<span style=\"color: #0000ff;\">select</span> <span style=\"color: #0000ff;\">year</span>, \\[period\\], <span style=\"color: #795e26;\">avg</span>(\\[value\\]) <span style=\"color: #0000ff;\">as</span> avg\\_hrly\\_earnings, <span style=\"color: #a31515;\">'avg_hrly_earnings'</span>\n",
                "\n",
                "<span style=\"color: #0000ff;\">from</span> annual\\_2016\n",
                "\n",
                "<span style=\"color: #0000ff;\">where</span> <span style=\"color: #795e26;\">right</span>(series\\_id,<span style=\"color: #09885a;\">2</span>) <span style=\"color: #000000;\">=</span> <span style=\"color: #09885a;\">32</span>\n",
                "\n",
                "<span style=\"color: #0000ff;\">group by</span> <span style=\"color: #0000ff;\">year</span>, \\[period\\];\n",
                "\n",
                "<span style=\"color: #008000;\">-- 2017 M01 9.243185117967347 avg_hrly_earnings</span>\n",
                "\n",
                "<span style=\"color: #008000;\">-- 2016 M13 9.248021778584384 avg_hrly_earnings</span>\n",
                "\n",
                "<span style=\"color: #008000;\">-- There is not much difference in the AVERAGE HOURLY EARNINGS between 2016 and Jan, 2017</span>\n",
                "\n",
                "<span style=\"color: #008000;\">-- for datatype code 32</span>\n",
                "\n",
                "<span style=\"color: #008000;\"><br></span>\n",
                "\n",
                "<span style=\"color: #008000;\">-- AVERAGE HOURLY EARNINGS OF PRODUCTION AND NONSUPERVISORY EMPLOYEES</span>\n",
                "\n",
                "<span style=\"color: #008000;\">-- 2017</span>\n",
                "\n",
                "<span style=\"color: #0000ff;\">select</span> <span style=\"color: #0000ff;\">year</span>, \\[period\\], <span style=\"color: #795e26;\">avg</span>(\\[value\\]) <span style=\"color: #0000ff;\">as</span> avg\\_hrly\\_earnings, <span style=\"color: #a31515;\">'avg_hrly_earnings'</span>\n",
                "\n",
                "<span style=\"color: #0000ff;\">from</span> january\\_2017\n",
                "\n",
                "<span style=\"color: #0000ff;\">where</span> <span style=\"color: #795e26;\">right</span>(series\\_id,<span style=\"color: #09885a;\">2</span>) <span style=\"color: #000000;\">=</span> <span style=\"color: #09885a;\">33</span>\n",
                "\n",
                "<span style=\"color: #0000ff;\">group by</span> <span style=\"color: #0000ff;\">year</span>, \\[period\\];\n",
                "\n",
                "<span style=\"color: #008000;\">-- 2016</span>\n",
                "\n",
                "<span style=\"color: #0000ff;\">select</span> <span style=\"color: #0000ff;\">year</span>, \\[period\\], <span style=\"color: #795e26;\">avg</span>(\\[value\\]) <span style=\"color: #0000ff;\">as</span> avg\\_hrly\\_earnings, <span style=\"color: #a31515;\">'avg_hrly_earnings'</span>\n",
                "\n",
                "<span style=\"color: #0000ff;\">from</span> annual\\_2016\n",
                "\n",
                "<span style=\"color: #0000ff;\">where</span> <span style=\"color: #795e26;\">right</span>(series\\_id,<span style=\"color: #09885a;\">2</span>) <span style=\"color: #000000;\">=</span> <span style=\"color: #09885a;\">33</span>\n",
                "\n",
                "<span style=\"color: #0000ff;\">group by</span> <span style=\"color: #0000ff;\">year</span>, \\[period\\];\n",
                "\n",
                "<span style=\"color: #008000;\">-- 2017 M01 19.128712871287124 avg_hrly_earnings</span>\n",
                "\n",
                "<span style=\"color: #008000;\">-- 2016 M13 18.84287128712871 avg_hrly_earnings</span>\n",
                "\n",
                "<span style=\"color: #008000;\">-- There is not much difference in the AVERAGE HOURLY EARNINGS between 2016 and Jan, 2017</span>\n",
                "\n",
                "<span style=\"color: #008000;\">-- for datatype code 33</span>\n",
                "\n",
                "<span style=\"color: #008000;\"><br></span>\n",
                "\n",
                "<span style=\"color: #008000;\">-- AGGREGATE WEEKLY HOURS OF PRODUCTION AND NONSUPERVISORY EMPLOYEES</span>\n",
                "\n",
                "<span style=\"color: #008000;\">-- 2017</span>\n",
                "\n",
                "<span style=\"color: #0000ff;\">select</span> <span style=\"color: #0000ff;\">year</span>, \\[period\\], <span style=\"color: #795e26;\">avg</span>(\\[value\\]) <span style=\"color: #0000ff;\">as</span> sum\\_wkly\\_hrs, <span style=\"color: #a31515;\">'sum_wkly_hrs'</span>\n",
                "\n",
                "<span style=\"color: #0000ff;\">from</span> january\\_2017\n",
                "\n",
                "<span style=\"color: #0000ff;\">where</span> <span style=\"color: #795e26;\">right</span>(series\\_id,<span style=\"color: #09885a;\">2</span>) <span style=\"color: #000000;\">=</span> <span style=\"color: #09885a;\">81</span>\n",
                "\n",
                "<span style=\"color: #0000ff;\">group by</span> <span style=\"color: #0000ff;\">year</span>, \\[period\\];\n",
                "\n",
                "<span style=\"color: #008000;\">-- 2016</span>\n",
                "\n",
                "<span style=\"color: #0000ff;\">select</span> <span style=\"color: #0000ff;\">year</span>, \\[period\\], <span style=\"color: #795e26;\">avg</span>(\\[value\\]) <span style=\"color: #0000ff;\">as</span> sum\\_wkly\\_hrs, <span style=\"color: #a31515;\">'sum_wkly_hrs'</span>\n",
                "\n",
                "<span style=\"color: #0000ff;\">from</span> annual\\_2016\n",
                "\n",
                "<span style=\"color: #0000ff;\">where</span> <span style=\"color: #795e26;\">right</span>(series\\_id,<span style=\"color: #09885a;\">2</span>) <span style=\"color: #000000;\">=</span> <span style=\"color: #09885a;\">81</span>\n",
                "\n",
                "<span style=\"color: #0000ff;\">group by</span> <span style=\"color: #0000ff;\">year</span>, \\[period\\];\n",
                "\n",
                "<span style=\"color: #008000;\">-- 2017 M01 38366.206896551725 sum_wkly_hrs</span>\n",
                "\n",
                "<span style=\"color: #008000;\">-- 2016 M13 38395.01814882032 sum_wkly_hrs</span>\n",
                "\n",
                "<span style=\"color: #008000;\">-- There is not much difference in the AGGREGATE WEEKLY HOURS between 2016 and Jan, 2017</span>\n",
                "\n",
                "<span style=\"color: #008000;\"><br></span>\n",
                "\n",
                "<span style=\"color: #008000;\">-- AGGREGATE WEEKLY PAYROLLS OF PRODUCTION AND NONSUPERVISORY EMPLOYEES</span>\n",
                "\n",
                "<span style=\"color: #008000;\">-- 2017</span>\n",
                "\n",
                "<span style=\"color: #0000ff;\">select</span> <span style=\"color: #0000ff;\">year</span>, \\[period\\], <span style=\"color: #795e26;\">avg</span>(\\[value\\]) <span style=\"color: #0000ff;\">as</span> sum\\_wkly\\_payrolls, <span style=\"color: #a31515;\">'sum_wkly_payrolls'</span>\n",
                "\n",
                "<span style=\"color: #0000ff;\">from</span> january\\_2017\n",
                "\n",
                "<span style=\"color: #0000ff;\">where</span> <span style=\"color: #795e26;\">right</span>(series\\_id,<span style=\"color: #09885a;\">2</span>) <span style=\"color: #000000;\">=</span> <span style=\"color: #09885a;\">82</span>\n",
                "\n",
                "<span style=\"color: #0000ff;\">group by</span> <span style=\"color: #0000ff;\">year</span>, \\[period\\];\n",
                "\n",
                "<span style=\"color: #008000;\">-- 2016</span>\n",
                "\n",
                "<span style=\"color: #0000ff;\">select</span> <span style=\"color: #0000ff;\">year</span>, \\[period\\], <span style=\"color: #795e26;\">avg</span>(\\[value\\]) <span style=\"color: #0000ff;\">as</span> sum\\_wkly\\_payrolls, <span style=\"color: #a31515;\">'sum_wkly_payrolls'</span>\n",
                "\n",
                "<span style=\"color: #0000ff;\">from</span> annual\\_2016\n",
                "\n",
                "<span style=\"color: #0000ff;\">where</span> <span style=\"color: #795e26;\">right</span>(series\\_id,<span style=\"color: #09885a;\">2</span>) <span style=\"color: #000000;\">=</span> <span style=\"color: #09885a;\">82</span>\n",
                "\n",
                "<span style=\"color: #0000ff;\">group by</span> <span style=\"color: #0000ff;\">year</span>, \\[period\\];\n",
                "\n",
                "<span style=\"color: #008000;\">-- 2017 M01 834280.0453720508 sum_wkly_payrolls -&gt; about 14,000 more than 2016 </span> <span style=\"color: rgb(0, 128, 0);\">sum_wkly_OT</span>\n",
                "\n",
                "<span style=\"color: #008000;\">-- 2016 M13 819960.3448275862 sum_wkly_payrolls</span>\n",
                "\n",
                "<span style=\"color: #008000;\"><br></span>\n",
                "\n",
                "<span style=\"color: #008000;\">-- AGGREGATE WEEKLY OVERTIME HOURS OF PRODUCTION AND NONSUPERVISORY EMPLOYEES</span>\n",
                "\n",
                "<span style=\"color: #008000;\">-- 2017</span>\n",
                "\n",
                "<span style=\"color: #0000ff;\">select</span> <span style=\"color: #0000ff;\">year</span>, \\[period\\], <span style=\"color: #795e26;\">avg</span>(\\[value\\]) <span style=\"color: #0000ff;\">as</span> sum\\_wkly\\_OT, <span style=\"color: #a31515;\">'sum_wkly_OT'</span>\n",
                "\n",
                "<span style=\"color: #0000ff;\">from</span> january\\_2017\n",
                "\n",
                "<span style=\"color: #0000ff;\">where</span> <span style=\"color: #795e26;\">right</span>(series\\_id,<span style=\"color: #09885a;\">2</span>) <span style=\"color: #000000;\">=</span> <span style=\"color: #09885a;\">83</span>\n",
                "\n",
                "<span style=\"color: #0000ff;\">group by</span> <span style=\"color: #0000ff;\">year</span>, \\[period\\];\n",
                "\n",
                "<span style=\"color: #008000;\">-- 2016</span>\n",
                "\n",
                "<span style=\"color: #0000ff;\">select</span> <span style=\"color: #0000ff;\">year</span>, \\[period\\], <span style=\"color: #795e26;\">avg</span>(\\[value\\]) <span style=\"color: #0000ff;\">as</span> sum\\_wkly\\_OT, <span style=\"color: #a31515;\">'sum_wkly_OT'</span>\n",
                "\n",
                "<span style=\"color: #0000ff;\">from</span> annual\\_2016\n",
                "\n",
                "<span style=\"color: #0000ff;\">where</span> <span style=\"color: #795e26;\">right</span>(series\\_id,<span style=\"color: #09885a;\">2</span>) <span style=\"color: #000000;\">=</span> <span style=\"color: #09885a;\">83</span>\n",
                "\n",
                "<span style=\"color: #0000ff;\">group by</span> <span style=\"color: #0000ff;\">year</span>, \\[period\\];\n",
                "\n",
                "<span style=\"color: #008000;\">-- 2017 M01 1458.6534653465346 sum_wkly_OT -&gt; about 100 hrs more than 2016</span>\n",
                "\n",
                "<span style=\"color: #008000;\">-- 2016 M13 1565.7227722772277 sum_wkly_OT</span>"
            ],
            "metadata": {
                "azdata_cell_guid": "ed5db53d-2fec-41a3-a9d3-367a676e6c02"
            },
            "attachments": {}
        },
        {
            "cell_type": "markdown",
            "source": [
                "2. In which industries did production and nonsupervisory employees fare better?"
            ],
            "metadata": {
                "azdata_cell_guid": "e0028946-9a7f-48ba-a14d-6685d55e9423"
            }
        },
        {
            "cell_type": "markdown",
            "source": [
                "  \n",
                "\n",
                "<span style=\"color: #008000;\">--------- For 2016</span>\n",
                "\n",
                "The PRODUCTION <span style=\"color: #0000ff;\">AND</span> NONSUPERVISORY EMPLOYEES seem <span style=\"color: #0000ff;\">to</span> fare better <span style=\"color: #0000ff;\">in </span> <span style=\"color: rgb(163, 21, 21);\">'Reinsurance carriers'</span> <span style=\"color: rgb(0, 0, 255);\">and</span> <span style=\"color: rgb(163, 21, 21);\">'Software publishers'</span>\n",
                "\n",
                "because they come up <span style=\"color: #0000ff;\">at</span> least twice among the <span style=\"color: #0000ff;\">top</span> <span style=\"color: #09885a;\">5</span> industries <span style=\"color: rgb(0, 0, 255);\">for</span> most <span style=\"color: rgb(163, 21, 21);\">'average hourly earnings'</span> <span style=\"color: rgb(0, 0, 255);\">and</span> <span style=\"color: rgb(163, 21, 21);\">'average weekly earnings'</span>\n",
                "\n",
                "<span style=\"color: rgb(0, 0, 255);\">while</span> the <span style=\"color: rgb(163, 21, 21);\">'average weekly hours'</span> spent <span style=\"color: rgb(0, 0, 255);\">is</span> about 45hrs <span style=\"color: rgb(0, 0, 255);\">and</span> <span style=\"color: rgb(163, 21, 21);\">'average weekly overtime'</span> <span style=\"color: rgb(0, 0, 255);\">is</span> about 5hrs.\n",
                "\n",
                "  \n",
                "\n",
                "<span style=\"color: #008000;\">----------- For January 2017</span>\n",
                "\n",
                "The PRODUCTION <span style=\"color: #0000ff;\">AND</span> NONSUPERVISORY EMPLOYEES seem <span style=\"color: #0000ff;\">to</span> fare better <span style=\"color: #0000ff;\">in </span> <span style=\"color: rgb(163, 21, 21);\">'Reinsurance carriers'</span> <span style=\"color: rgb(0, 0, 255);\">and</span> <span style=\"color: rgb(163, 21, 21);\">'Petroleum and coal products'</span>\n",
                "\n",
                "because they come up <span style=\"color: #0000ff;\">at</span> least twice among the <span style=\"color: #0000ff;\">top</span> <span style=\"color: #09885a;\">5</span> industries <span style=\"color: rgb(0, 0, 255);\">for</span> most <span style=\"color: rgb(163, 21, 21);\">'average hourly earnings'</span> <span style=\"color: rgb(0, 0, 255);\">and</span> <span style=\"color: rgb(163, 21, 21);\">'average weekly earnings'</span>\n",
                "\n",
                "<span style=\"color: rgb(0, 0, 255);\">while</span> the <span style=\"color: rgb(163, 21, 21);\">'average weekly hours'</span> <span style=\"color: rgb(0, 0, 255);\">is</span> about 45hrs <span style=\"color: rgb(0, 0, 255);\">and</span> <span style=\"color: rgb(163, 21, 21);\">'average weekly overtime'</span> <span style=\"color: rgb(0, 0, 255);\">is</span> about 5hrs.\n",
                "\n",
                "<span style=\"color: #0000ff;\">On</span> the contrary, <span style=\"color: #0000ff;\">in</span> <span style=\"color: #0000ff;\">both</span> <span style=\"color: #09885a;\">2016</span> <span style=\"color: #0000ff;\">and</span> Jan <span style=\"color: #09885a;\">2017 </span> the <span style=\"color: rgb(163, 21, 21);\">'Motor vehicle power train components'</span> <span style=\"color: rgb(0, 0, 255);\">and</span> <span style=\"color: rgb(163, 21, 21);\">'Motor vehicle metal stamping'</span> industries\n",
                "\n",
                "come <span style=\"color: #0000ff;\">in</span> the <span style=\"color: #0000ff;\">top</span> <span style=\"color: #09885a;\">5</span> <span style=\"color: #0000ff;\">for</span> most <span style=\"color: #a31515;\">'AVERAGE WEEKLY HOURS'</span> <span style=\"color: #0000ff;\">and</span> <span style=\"color: #a31515;\">'AVERAGE WEEKLY OVERTIME'</span> spent <span style=\"color: #0000ff;\">by </span> the Production <span style=\"color: rgb(0, 0, 255);\">and</span> Nonsupervisory Employees,\n",
                "\n",
                "but do <span style=\"color: rgb(0, 0, 255);\">not</span> appear even <span style=\"color: rgb(0, 0, 255);\">in</span> the <span style=\"color: rgb(0, 0, 255);\">top</span> <span style=\"color: rgb(9, 136, 90);\">25</span> <span style=\"color: rgb(0, 0, 255);\">for </span> <span style=\"color: rgb(163, 21, 21);\">'average hourly earnings'</span> <span style=\"color: rgb(0, 0, 255);\">and</span> <span style=\"color: rgb(163, 21, 21);\">'average weekly earnings'</span>.\n",
                "\n",
                "  \n",
                "\n",
                "  \n",
                "\n",
                "<span style=\"color: rgb(0, 0, 255);\">-- top</span> <span style=\"color: rgb(9, 136, 90);\">5</span> industries <span style=\"color: rgb(0, 0, 255);\">for</span> AVERAGE HOURLY EARNINGS  \n",
                "\n",
                "<span style=\"color: #0000ff;\">select</span> <span style=\"color: #0000ff;\">top</span> <span style=\"color: #09885a;\">5</span> <span style=\"color: #795e26;\">avg</span>(a.\\[value\\]), i.industry\\_name\n",
                "\n",
                "<span style=\"color: #0000ff;\">from</span> annual\\_2016 a\n",
                "\n",
                "<span style=\"color: #0000ff;\">inner join</span> industry i <span style=\"color: #0000ff;\">on</span> <span style=\"color: #795e26;\">SUBSTRING</span>(a.series\\_id,<span style=\"color: #09885a;\">4</span>,<span style=\"color: #09885a;\">8</span>) <span style=\"color: #000000;\">=</span> i.industry\\_code\n",
                "\n",
                "<span style=\"color: #0000ff;\">where</span> <span style=\"color: #795e26;\">right</span>(series\\_id,<span style=\"color: #09885a;\">2</span>) <span style=\"color: #000000;\">=</span> <span style=\"color: #09885a;\">08</span> <span style=\"color: #008000;\">-- 8 AVERAGE HOURLY EARNINGS OF PRODUCTION AND NONSUPERVISORY EMPLOYEES</span>\n",
                "\n",
                "<span style=\"color: #0000ff;\">or</span> <span style=\"color: #795e26;\">right</span>(series\\_id,<span style=\"color: #09885a;\">2</span>) <span style=\"color: #000000;\">=</span> <span style=\"color: #09885a;\">32</span> <span style=\"color: #008000;\">-- 32 AVERAGE HOURLY EARNINGS OF PRODUCTION AND NONSUPERVISORY EMPLOYEES</span>\n",
                "\n",
                "<span style=\"color: #0000ff;\">or</span> <span style=\"color: #795e26;\">right</span>(series\\_id,<span style=\"color: #09885a;\">2</span>) <span style=\"color: #000000;\">=</span> <span style=\"color: #09885a;\">33</span> <span style=\"color: #008000;\">-- 33 AVERAGE HOURLY EARNINGS OF PRODUCTION AND NONSUPERVISORY EMPLOYEES</span>\n",
                "\n",
                "<span style=\"color: #0000ff;\">and</span> i.industry\\_name <span style=\"color: #0000ff;\">is not null</span>\n",
                "\n",
                "<span style=\"color: #0000ff;\">group by</span> i.industry\\_name\n",
                "\n",
                "<span style=\"color: #0000ff;\">order by</span> <span style=\"color: #795e26;\">avg</span>(a.\\[value\\]) <span style=\"color: #0000ff;\">desc</span>;\n",
                "\n",
                "<span style=\"color: #008000;\">-- 46.63 Reinsurance carriers</span>\n",
                "\n",
                "<span style=\"color: #008000;\">-- 45.34 Software publishers</span>\n",
                "\n",
                "<span style=\"color: #008000;\">-- 43.64 Portfolio management</span>\n",
                "\n",
                "<span style=\"color: #008000;\">-- 42.5 Custom computer programming services</span>\n",
                "\n",
                "<span style=\"color: #008000;\">-- 41.29 Computer systems design and related services</span>\n",
                "\n",
                "<span style=\"color: #008000;\"><br></span>\n",
                "\n",
                "<span style=\"color: #008000;\">-- top 5 industries for AVERAGE WEEKLY EARNINGS</span>\n",
                "\n",
                "<span style=\"color: #0000ff;\">select</span> <span style=\"color: #0000ff;\">top</span> <span style=\"color: #09885a;\">5</span> <span style=\"color: #795e26;\">avg</span>(a.\\[value\\]), i.industry\\_name\n",
                "\n",
                "<span style=\"color: #0000ff;\">from</span> annual\\_2016 a\n",
                "\n",
                "<span style=\"color: #0000ff;\">inner join</span> industry i <span style=\"color: #0000ff;\">on</span> <span style=\"color: #795e26;\">SUBSTRING</span>(a.series\\_id,<span style=\"color: #09885a;\">4</span>,<span style=\"color: #09885a;\">8</span>) <span style=\"color: #000000;\">=</span> i.industry\\_code\n",
                "\n",
                "<span style=\"color: #0000ff;\">where</span>\n",
                "\n",
                "<span style=\"color: #795e26;\">right</span>(series\\_id,<span style=\"color: #09885a;\">2</span>) <span style=\"color: #000000;\">=</span> <span style=\"color: #09885a;\">30</span> <span style=\"color: #008000;\">-- 30 AVERAGE WEEKLY EARNINGS OF PRODUCTION AND NONSUPERVISORY EMPLOYEES</span>\n",
                "\n",
                "<span style=\"color: #0000ff;\">or</span> <span style=\"color: #795e26;\">right</span>(series\\_id,<span style=\"color: #09885a;\">2</span>) <span style=\"color: #000000;\">=</span> <span style=\"color: #09885a;\">31</span> <span style=\"color: #008000;\">-- 31 AVERAGE WEEKLY EARNINGS OF PRODUCTION AND NONSUPERVISORY EMPLOYEES</span>\n",
                "\n",
                "<span style=\"color: #0000ff;\">and</span> i.industry\\_name <span style=\"color: #0000ff;\">is not null</span>\n",
                "\n",
                "<span style=\"color: #0000ff;\">group by</span> i.industry\\_name\n",
                "\n",
                "<span style=\"color: #0000ff;\">order by</span> <span style=\"color: #795e26;\">avg</span>(a.\\[value\\]) <span style=\"color: #0000ff;\">desc</span>;\n",
                "\n",
                "<span style=\"color: #008000;\">-- 1730.96 Pipeline transportation</span>\n",
                "\n",
                "<span style=\"color: #008000;\">-- 1720.42 Software publishers</span>\n",
                "\n",
                "<span style=\"color: #008000;\">-- 1718.26 Petroleum and coal products</span>\n",
                "\n",
                "<span style=\"color: #008000;\">-- 1712.65 Fossil fuel electric power generation</span>\n",
                "\n",
                "<span style=\"color: #008000;\">-- 1699.97 Reinsurance carriers</span>\n",
                "\n",
                "<span style=\"color: #008000;\">-- top 5 industries for AVERAGE WEEKLY HOURS</span>\n",
                "\n",
                "<span style=\"color: #0000ff;\">select</span> <span style=\"color: #0000ff;\">top</span> <span style=\"color: #09885a;\">5</span> <span style=\"color: #795e26;\">avg</span>(a.\\[value\\]) <span style=\"color: #0000ff;\">as</span> <span style=\"color: #0000ff;\">value</span>, i.industry\\_name\n",
                "\n",
                "<span style=\"color: #0000ff;\">from</span> annual\\_2016 a\n",
                "\n",
                "<span style=\"color: #0000ff;\">inner join</span> industry i <span style=\"color: #0000ff;\">on</span> <span style=\"color: #795e26;\">SUBSTRING</span>(a.series\\_id,<span style=\"color: #09885a;\">4</span>,<span style=\"color: #09885a;\">8</span>) <span style=\"color: #000000;\">=</span> i.industry\\_code\n",
                "\n",
                "<span style=\"color: #0000ff;\">where</span> <span style=\"color: #795e26;\">right</span>(a.series\\_id,<span style=\"color: #09885a;\">2</span>) <span style=\"color: #000000;\">=</span> <span style=\"color: #09885a;\">07</span> <span style=\"color: #008000;\">-- 7 AVERAGE WEEKLY HOURS OF PRODUCTION AND NONSUPERVISORY EMPLOYEES</span>\n",
                "\n",
                "<span style=\"color: #0000ff;\">and</span> i.industry\\_name <span style=\"color: #0000ff;\">is not null</span>\n",
                "\n",
                "<span style=\"color: #0000ff;\">group by</span> i.industry\\_name\n",
                "\n",
                "<span style=\"color: #0000ff;\">order by</span> <span style=\"color: #0000ff;\">value</span> <span style=\"color: #0000ff;\">desc</span>;\n",
                "\n",
                "<span style=\"color: #008000;\">-- 51.4 Motor vehicle power train components</span>\n",
                "\n",
                "<span style=\"color: #008000;\">-- 48.4 Crushed and broken limestone mining</span>\n",
                "\n",
                "<span style=\"color: #008000;\">-- 47.8 Oil and gas pipeline construction</span>\n",
                "\n",
                "<span style=\"color: #008000;\">-- 47.6 Stone mining and quarrying</span>\n",
                "\n",
                "<span style=\"color: #008000;\">-- 46.7 Motor vehicle metal stamping</span>\n",
                "\n",
                "<span style=\"color: #008000;\">-- top 5 industries for AVERAGE WEEKLY OVERTIME</span>\n",
                "\n",
                "<span style=\"color: #0000ff;\">select</span> <span style=\"color: #0000ff;\">top</span> <span style=\"color: #09885a;\">5</span> <span style=\"color: #795e26;\">avg</span>(a.\\[value\\]), i.industry\\_name\n",
                "\n",
                "<span style=\"color: #0000ff;\">from</span> annual\\_2016 a\n",
                "\n",
                "<span style=\"color: #0000ff;\">inner join</span> industry i <span style=\"color: #0000ff;\">on</span> <span style=\"color: #795e26;\">SUBSTRING</span>(a.series\\_id,<span style=\"color: #09885a;\">4</span>,<span style=\"color: #09885a;\">8</span>) <span style=\"color: #000000;\">=</span> i.industry\\_code\n",
                "\n",
                "<span style=\"color: #0000ff;\">where</span> <span style=\"color: #795e26;\">right</span>(series\\_id,<span style=\"color: #09885a;\">2</span>) <span style=\"color: #000000;\">=</span> <span style=\"color: #09885a;\">09</span> <span style=\"color: #008000;\">-- 9 AVERAGE WEEKLY OVERTIME HOURS OF PRODUCTION AND NONSUPERVISORY EMPLOYEES</span>\n",
                "\n",
                "<span style=\"color: #0000ff;\">and</span> i.industry\\_name <span style=\"color: #0000ff;\">is not null</span>\n",
                "\n",
                "<span style=\"color: #0000ff;\">group by</span> i.industry\\_name\n",
                "\n",
                "<span style=\"color: #0000ff;\">order by</span> <span style=\"color: #795e26;\">avg</span>(a.\\[value\\]) <span style=\"color: #0000ff;\">desc</span>;\n",
                "\n",
                "<span style=\"color: #008000;\">-- 10.8 Motor vehicle power train components</span>\n",
                "\n",
                "<span style=\"color: #008000;\">-- 9.1 Motor vehicles</span>\n",
                "\n",
                "<span style=\"color: #008000;\">-- 7.6 Motor vehicle metal stamping</span>\n",
                "\n",
                "<span style=\"color: #008000;\">-- 7 Ready-mix concrete</span>\n",
                "\n",
                "<span style=\"color: #008000;\">-- 6.8 Petroleum and coal products</span>\n",
                "\n",
                "<span style=\"color: #008000;\">------------</span>\n",
                "\n",
                "<span style=\"color: #008000;\">-- top 5 industries for AVERAGE WEEKLY EARNINGS</span>\n",
                "\n",
                "<span style=\"color: #0000ff;\">select</span> <span style=\"color: #0000ff;\">top</span> <span style=\"color: #09885a;\">5</span> <span style=\"color: #795e26;\">avg</span>(j.\\[value\\]), i.industry\\_name\n",
                "\n",
                "<span style=\"color: #0000ff;\">from</span> january\\_2017 j\n",
                "\n",
                "<span style=\"color: #0000ff;\">inner join</span> industry i <span style=\"color: #0000ff;\">on</span> <span style=\"color: #795e26;\">SUBSTRING</span>(j.series\\_id,<span style=\"color: #09885a;\">4</span>,<span style=\"color: #09885a;\">8</span>) <span style=\"color: #000000;\">=</span> i.industry\\_code\n",
                "\n",
                "<span style=\"color: #0000ff;\">where</span>\n",
                "\n",
                "<span style=\"color: #795e26;\">right</span>(j.series\\_id,<span style=\"color: #09885a;\">2</span>) <span style=\"color: #000000;\">=</span> <span style=\"color: #09885a;\">30</span> <span style=\"color: #008000;\">-- 30 AVERAGE WEEKLY EARNINGS OF PRODUCTION AND NONSUPERVISORY EMPLOYEES</span>\n",
                "\n",
                "<span style=\"color: #0000ff;\">or</span> <span style=\"color: #795e26;\">right</span>(j.series\\_id,<span style=\"color: #09885a;\">2</span>) <span style=\"color: #000000;\">=</span> <span style=\"color: #09885a;\">31</span> <span style=\"color: #008000;\">-- 31 AVERAGE WEEKLY EARNINGS OF PRODUCTION AND NONSUPERVISORY EMPLOYEES</span>\n",
                "\n",
                "<span style=\"color: #0000ff;\">and</span> i.industry\\_name <span style=\"color: #0000ff;\">is not null</span>\n",
                "\n",
                "<span style=\"color: #0000ff;\">group by</span> i.industry\\_name\n",
                "\n",
                "<span style=\"color: #0000ff;\">order by</span> <span style=\"color: #795e26;\">avg</span>(j.\\[value\\]) <span style=\"color: #0000ff;\">desc</span>;\n",
                "\n",
                "<span style=\"color: #008000;\">-- 1181.467 Reinsurance carriers</span>\n",
                "\n",
                "<span style=\"color: #008000;\">-- 1176.1280000000002 Petroleum and coal products</span>\n",
                "\n",
                "<span style=\"color: #008000;\">-- 1160.3129999999999 Fossil fuel electric power generation</span>\n",
                "\n",
                "<span style=\"color: #008000;\">-- 1131.1399999999999 Pipeline transportation</span>\n",
                "\n",
                "<span style=\"color: #008000;\">-- 1126.699 Electric power generation</span>\n",
                "\n",
                "<span style=\"color: #008000;\">-- top 5 industries for AVERAGE HOURLY EARNINGS</span>\n",
                "\n",
                "<span style=\"color: #0000ff;\">select</span> <span style=\"color: #0000ff;\">top</span> <span style=\"color: #09885a;\">5</span> <span style=\"color: #795e26;\">avg</span>(j.\\[value\\]), i.industry\\_name\n",
                "\n",
                "<span style=\"color: #0000ff;\">from</span> january\\_2017 j\n",
                "\n",
                "<span style=\"color: #0000ff;\">inner join</span> industry i <span style=\"color: #0000ff;\">on</span> <span style=\"color: #795e26;\">SUBSTRING</span>(j.series\\_id,<span style=\"color: #09885a;\">4</span>,<span style=\"color: #09885a;\">8</span>) <span style=\"color: #000000;\">=</span> i.industry\\_code\n",
                "\n",
                "<span style=\"color: #0000ff;\">where</span> <span style=\"color: #795e26;\">right</span>(j.series\\_id,<span style=\"color: #09885a;\">2</span>) <span style=\"color: #000000;\">=</span> <span style=\"color: #09885a;\">08</span> <span style=\"color: #008000;\">-- 8 AVERAGE HOURLY EARNINGS OF PRODUCTION AND NONSUPERVISORY EMPLOYEES</span>\n",
                "\n",
                "<span style=\"color: #0000ff;\">or</span> <span style=\"color: #795e26;\">right</span>(j.series\\_id,<span style=\"color: #09885a;\">2</span>) <span style=\"color: #000000;\">=</span> <span style=\"color: #09885a;\">32</span> <span style=\"color: #008000;\">-- 32 AVERAGE HOURLY EARNINGS OF PRODUCTION AND NONSUPERVISORY EMPLOYEES</span>\n",
                "\n",
                "<span style=\"color: #0000ff;\">or</span> <span style=\"color: #795e26;\">right</span>(j.series\\_id,<span style=\"color: #09885a;\">2</span>) <span style=\"color: #000000;\">=</span> <span style=\"color: #09885a;\">33</span> <span style=\"color: #008000;\">-- 33 AVERAGE HOURLY EARNINGS OF PRODUCTION AND NONSUPERVISORY EMPLOYEES</span>\n",
                "\n",
                "<span style=\"color: #0000ff;\">and</span> i.industry\\_name <span style=\"color: #0000ff;\">is not null</span>\n",
                "\n",
                "<span style=\"color: #0000ff;\">group by</span> i.industry\\_name\n",
                "\n",
                "<span style=\"color: #0000ff;\">order by</span> <span style=\"color: #795e26;\">avg</span>(j.\\[value\\]) <span style=\"color: #0000ff;\">desc</span>;\n",
                "\n",
                "<span style=\"color: #008000;\">-- 31.375 Reinsurance carriers</span>\n",
                "\n",
                "<span style=\"color: #008000;\">-- 28.95357142857143 Petroleum and coal products</span>\n",
                "\n",
                "<span style=\"color: #008000;\">-- 28.93 Software publishers</span>\n",
                "\n",
                "<span style=\"color: #008000;\">-- 27.938 Custom computer programming services</span>\n",
                "\n",
                "<span style=\"color: #008000;\">-- 27.612000000000002 Physical</span>\n",
                "\n",
                "<span style=\"color: #008000;\">-- top 5 industries for AVERAGE WEEKLY HOURS</span>\n",
                "\n",
                "<span style=\"color: #0000ff;\">select</span> <span style=\"color: #0000ff;\">top</span> <span style=\"color: #09885a;\">5</span> <span style=\"color: #795e26;\">avg</span>(j.\\[value\\]) <span style=\"color: #0000ff;\">as</span> <span style=\"color: #0000ff;\">value</span>, i.industry\\_name\n",
                "\n",
                "<span style=\"color: #0000ff;\">from</span> january\\_2017 j\n",
                "\n",
                "<span style=\"color: #0000ff;\">inner join</span> industry i <span style=\"color: #0000ff;\">on</span> <span style=\"color: #795e26;\">SUBSTRING</span>(j.series\\_id,<span style=\"color: #09885a;\">4</span>,<span style=\"color: #09885a;\">8</span>) <span style=\"color: #000000;\">=</span> i.industry\\_code\n",
                "\n",
                "<span style=\"color: #0000ff;\">where</span> <span style=\"color: #795e26;\">right</span>(j.series\\_id,<span style=\"color: #09885a;\">2</span>) <span style=\"color: #000000;\">=</span> <span style=\"color: #09885a;\">07</span> <span style=\"color: #008000;\">-- 7 AVERAGE WEEKLY HOURS OF PRODUCTION AND NONSUPERVISORY EMPLOYEES</span>\n",
                "\n",
                "<span style=\"color: #0000ff;\">and</span> i.industry\\_name <span style=\"color: #0000ff;\">is not null</span>\n",
                "\n",
                "<span style=\"color: #0000ff;\">group by</span> i.industry\\_name\n",
                "\n",
                "<span style=\"color: #0000ff;\">order by</span> <span style=\"color: #0000ff;\">value</span> <span style=\"color: #0000ff;\">desc</span>;\n",
                "\n",
                "<span style=\"color: #008000;\">-- 49.6 Motor vehicle power train components</span>\n",
                "\n",
                "<span style=\"color: #008000;\">-- 47.199999999999996 Support activities for mining</span>\n",
                "\n",
                "<span style=\"color: #008000;\">-- 46.7 Support activities for oil and gas operations</span>\n",
                "\n",
                "<span style=\"color: #008000;\">-- 46.699999999999996 Motor vehicle metal stamping</span>\n",
                "\n",
                "<span style=\"color: #008000;\">-- 46.6 Coal mining</span>\n",
                "\n",
                "<span style=\"color: #008000;\">-- top 5 industries for AVERAGE WEEKLY OVERTIME HOURS</span>\n",
                "\n",
                "<span style=\"color: #0000ff;\">select</span> <span style=\"color: #0000ff;\">top</span> <span style=\"color: #09885a;\">5</span> <span style=\"color: #795e26;\">avg</span>(j.\\[value\\]), i.industry\\_name\n",
                "\n",
                "<span style=\"color: #0000ff;\">from</span> january\\_2017 j\n",
                "\n",
                "<span style=\"color: #0000ff;\">inner join</span> industry i <span style=\"color: #0000ff;\">on</span> <span style=\"color: #795e26;\">SUBSTRING</span>(j.series\\_id,<span style=\"color: #09885a;\">4</span>,<span style=\"color: #09885a;\">8</span>) <span style=\"color: #000000;\">=</span> i.industry\\_code\n",
                "\n",
                "<span style=\"color: #0000ff;\">where</span> <span style=\"color: #795e26;\">right</span>(j.series\\_id,<span style=\"color: #09885a;\">2</span>) <span style=\"color: #000000;\">=</span> <span style=\"color: #09885a;\">09</span> <span style=\"color: #008000;\">-- 9 AVERAGE WEEKLY OVERTIME HOURS OF PRODUCTION AND NONSUPERVISORY EMPLOYEES</span>\n",
                "\n",
                "<span style=\"color: #0000ff;\">and</span> i.industry\\_name <span style=\"color: #0000ff;\">is not null</span>\n",
                "\n",
                "<span style=\"color: #0000ff;\">group by</span> i.industry\\_name\n",
                "\n",
                "<span style=\"color: #0000ff;\">order by</span> <span style=\"color: #795e26;\">avg</span>(j.\\[value\\]) <span style=\"color: #0000ff;\">desc</span>;\n",
                "\n",
                "<span style=\"color: #008000;\">-- 11.05 Motor vehicle power train components</span>\n",
                "\n",
                "<span style=\"color: #008000;\">-- 8.05 Petroleum and coal products</span>\n",
                "\n",
                "<span style=\"color: #008000;\">-- 8 Motor vehicle gasoline engine and parts</span>\n",
                "\n",
                "<span style=\"color: #008000;\">-- 7.5 Motor vehicle metal stamping</span>\n",
                "\n",
                "<span style=\"color: #008000;\">-- 6.1499999999999995 Boilers</span>"
            ],
            "metadata": {
                "azdata_cell_guid": "d1fc3b34-cee3-4565-8233-fbb225573974"
            },
            "attachments": {}
        },
        {
            "cell_type": "markdown",
            "source": [
                "3. Now that you have explored the datasets, is there any data or information that you wish you had in this analysis?"
            ],
            "metadata": {
                "azdata_cell_guid": "0db4c4b1-151b-43f8-9a7a-14d45e15a678"
            }
        },
        {
            "cell_type": "markdown",
            "source": [
                "Since we are exploring the sate of unemployement in USA, I wished I had \n",
                "\n",
                "1\\. Data on the ages of the employees \n",
                "\n",
                "2\\. Population that are legally allowed to work (excluding children and retired people)\n",
                "\n",
                "3. <span style=\"font-family: -apple-system, BlinkMacSystemFont, sans-serif; color: var(--vscode-foreground);\">The education level completed - high school, undergrad, masters, specializtions , trade school, etc</span>\n",
                "\n",
                "would give a better understanding of the state of unemployment."
            ],
            "metadata": {
                "azdata_cell_guid": "072f17a7-ad63-493a-934f-33660ae1d576"
            },
            "attachments": {}
        }
    ]
}